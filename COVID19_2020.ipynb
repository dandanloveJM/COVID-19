{
  "nbformat": 4,
  "nbformat_minor": 0,
  "metadata": {
    "colab": {
      "name": "COVID19-2020.ipynb",
      "provenance": [],
      "collapsed_sections": [],
      "mount_file_id": "14tAgHpMydbgUle2-CnAdjZvf5eW_O15W",
      "authorship_tag": "ABX9TyOusVjj64wUDi9TCPBwvm3X",
      "include_colab_link": true
    },
    "kernelspec": {
      "name": "python3",
      "display_name": "Python 3"
    },
    "accelerator": "GPU",
    "widgets": {
      "application/vnd.jupyter.widget-state+json": {
        "be01ae77b5bd4ed1990725e723688d68": {
          "model_module": "@jupyter-widgets/controls",
          "model_name": "HBoxModel",
          "state": {
            "_view_name": "HBoxView",
            "_dom_classes": [],
            "_model_name": "HBoxModel",
            "_view_module": "@jupyter-widgets/controls",
            "_model_module_version": "1.5.0",
            "_view_count": null,
            "_view_module_version": "1.5.0",
            "box_style": "",
            "layout": "IPY_MODEL_22cced0028ce498db9a92b6f7f2652b5",
            "_model_module": "@jupyter-widgets/controls",
            "children": [
              "IPY_MODEL_4df5d7b337cd4c8fab6f050ea862c43d",
              "IPY_MODEL_fefc5453234446e698fe73859e9519a3"
            ]
          }
        },
        "22cced0028ce498db9a92b6f7f2652b5": {
          "model_module": "@jupyter-widgets/base",
          "model_name": "LayoutModel",
          "state": {
            "_view_name": "LayoutView",
            "grid_template_rows": null,
            "right": null,
            "justify_content": null,
            "_view_module": "@jupyter-widgets/base",
            "overflow": null,
            "_model_module_version": "1.2.0",
            "_view_count": null,
            "flex_flow": null,
            "width": null,
            "min_width": null,
            "border": null,
            "align_items": null,
            "bottom": null,
            "_model_module": "@jupyter-widgets/base",
            "top": null,
            "grid_column": null,
            "overflow_y": null,
            "overflow_x": null,
            "grid_auto_flow": null,
            "grid_area": null,
            "grid_template_columns": null,
            "flex": null,
            "_model_name": "LayoutModel",
            "justify_items": null,
            "grid_row": null,
            "max_height": null,
            "align_content": null,
            "visibility": null,
            "align_self": null,
            "height": null,
            "min_height": null,
            "padding": null,
            "grid_auto_rows": null,
            "grid_gap": null,
            "max_width": null,
            "order": null,
            "_view_module_version": "1.2.0",
            "grid_template_areas": null,
            "object_position": null,
            "object_fit": null,
            "grid_auto_columns": null,
            "margin": null,
            "display": null,
            "left": null
          }
        },
        "4df5d7b337cd4c8fab6f050ea862c43d": {
          "model_module": "@jupyter-widgets/controls",
          "model_name": "FloatProgressModel",
          "state": {
            "_view_name": "ProgressView",
            "style": "IPY_MODEL_f0a17ee3aa794719be609df87ea6d724",
            "_dom_classes": [],
            "description": "Downloading: 100%",
            "_model_name": "FloatProgressModel",
            "bar_style": "success",
            "max": 898823,
            "_view_module": "@jupyter-widgets/controls",
            "_model_module_version": "1.5.0",
            "value": 898823,
            "_view_count": null,
            "_view_module_version": "1.5.0",
            "orientation": "horizontal",
            "min": 0,
            "description_tooltip": null,
            "_model_module": "@jupyter-widgets/controls",
            "layout": "IPY_MODEL_38c6b8ae49ec464ea5a55b2647dd1052"
          }
        },
        "fefc5453234446e698fe73859e9519a3": {
          "model_module": "@jupyter-widgets/controls",
          "model_name": "HTMLModel",
          "state": {
            "_view_name": "HTMLView",
            "style": "IPY_MODEL_11fc0465998a497ca3f9eb8bde66aac2",
            "_dom_classes": [],
            "description": "",
            "_model_name": "HTMLModel",
            "placeholder": "​",
            "_view_module": "@jupyter-widgets/controls",
            "_model_module_version": "1.5.0",
            "value": " 899k/899k [00:01&lt;00:00, 701kB/s]",
            "_view_count": null,
            "_view_module_version": "1.5.0",
            "description_tooltip": null,
            "_model_module": "@jupyter-widgets/controls",
            "layout": "IPY_MODEL_eec4fc24a23044d8958d67b005704527"
          }
        },
        "f0a17ee3aa794719be609df87ea6d724": {
          "model_module": "@jupyter-widgets/controls",
          "model_name": "ProgressStyleModel",
          "state": {
            "_view_name": "StyleView",
            "_model_name": "ProgressStyleModel",
            "description_width": "initial",
            "_view_module": "@jupyter-widgets/base",
            "_model_module_version": "1.5.0",
            "_view_count": null,
            "_view_module_version": "1.2.0",
            "bar_color": null,
            "_model_module": "@jupyter-widgets/controls"
          }
        },
        "38c6b8ae49ec464ea5a55b2647dd1052": {
          "model_module": "@jupyter-widgets/base",
          "model_name": "LayoutModel",
          "state": {
            "_view_name": "LayoutView",
            "grid_template_rows": null,
            "right": null,
            "justify_content": null,
            "_view_module": "@jupyter-widgets/base",
            "overflow": null,
            "_model_module_version": "1.2.0",
            "_view_count": null,
            "flex_flow": null,
            "width": null,
            "min_width": null,
            "border": null,
            "align_items": null,
            "bottom": null,
            "_model_module": "@jupyter-widgets/base",
            "top": null,
            "grid_column": null,
            "overflow_y": null,
            "overflow_x": null,
            "grid_auto_flow": null,
            "grid_area": null,
            "grid_template_columns": null,
            "flex": null,
            "_model_name": "LayoutModel",
            "justify_items": null,
            "grid_row": null,
            "max_height": null,
            "align_content": null,
            "visibility": null,
            "align_self": null,
            "height": null,
            "min_height": null,
            "padding": null,
            "grid_auto_rows": null,
            "grid_gap": null,
            "max_width": null,
            "order": null,
            "_view_module_version": "1.2.0",
            "grid_template_areas": null,
            "object_position": null,
            "object_fit": null,
            "grid_auto_columns": null,
            "margin": null,
            "display": null,
            "left": null
          }
        },
        "11fc0465998a497ca3f9eb8bde66aac2": {
          "model_module": "@jupyter-widgets/controls",
          "model_name": "DescriptionStyleModel",
          "state": {
            "_view_name": "StyleView",
            "_model_name": "DescriptionStyleModel",
            "description_width": "",
            "_view_module": "@jupyter-widgets/base",
            "_model_module_version": "1.5.0",
            "_view_count": null,
            "_view_module_version": "1.2.0",
            "_model_module": "@jupyter-widgets/controls"
          }
        },
        "eec4fc24a23044d8958d67b005704527": {
          "model_module": "@jupyter-widgets/base",
          "model_name": "LayoutModel",
          "state": {
            "_view_name": "LayoutView",
            "grid_template_rows": null,
            "right": null,
            "justify_content": null,
            "_view_module": "@jupyter-widgets/base",
            "overflow": null,
            "_model_module_version": "1.2.0",
            "_view_count": null,
            "flex_flow": null,
            "width": null,
            "min_width": null,
            "border": null,
            "align_items": null,
            "bottom": null,
            "_model_module": "@jupyter-widgets/base",
            "top": null,
            "grid_column": null,
            "overflow_y": null,
            "overflow_x": null,
            "grid_auto_flow": null,
            "grid_area": null,
            "grid_template_columns": null,
            "flex": null,
            "_model_name": "LayoutModel",
            "justify_items": null,
            "grid_row": null,
            "max_height": null,
            "align_content": null,
            "visibility": null,
            "align_self": null,
            "height": null,
            "min_height": null,
            "padding": null,
            "grid_auto_rows": null,
            "grid_gap": null,
            "max_width": null,
            "order": null,
            "_view_module_version": "1.2.0",
            "grid_template_areas": null,
            "object_position": null,
            "object_fit": null,
            "grid_auto_columns": null,
            "margin": null,
            "display": null,
            "left": null
          }
        },
        "73c7e7de98e04c9d8aa81193dddb23eb": {
          "model_module": "@jupyter-widgets/controls",
          "model_name": "HBoxModel",
          "state": {
            "_view_name": "HBoxView",
            "_dom_classes": [],
            "_model_name": "HBoxModel",
            "_view_module": "@jupyter-widgets/controls",
            "_model_module_version": "1.5.0",
            "_view_count": null,
            "_view_module_version": "1.5.0",
            "box_style": "",
            "layout": "IPY_MODEL_d77251f6192e4a6a97ec1b21358129b1",
            "_model_module": "@jupyter-widgets/controls",
            "children": [
              "IPY_MODEL_bab895c3771540efbec9868ceec7a376",
              "IPY_MODEL_4e4e0fc9e3c84e2ebdc25790073e6b3b"
            ]
          }
        },
        "d77251f6192e4a6a97ec1b21358129b1": {
          "model_module": "@jupyter-widgets/base",
          "model_name": "LayoutModel",
          "state": {
            "_view_name": "LayoutView",
            "grid_template_rows": null,
            "right": null,
            "justify_content": null,
            "_view_module": "@jupyter-widgets/base",
            "overflow": null,
            "_model_module_version": "1.2.0",
            "_view_count": null,
            "flex_flow": null,
            "width": null,
            "min_width": null,
            "border": null,
            "align_items": null,
            "bottom": null,
            "_model_module": "@jupyter-widgets/base",
            "top": null,
            "grid_column": null,
            "overflow_y": null,
            "overflow_x": null,
            "grid_auto_flow": null,
            "grid_area": null,
            "grid_template_columns": null,
            "flex": null,
            "_model_name": "LayoutModel",
            "justify_items": null,
            "grid_row": null,
            "max_height": null,
            "align_content": null,
            "visibility": null,
            "align_self": null,
            "height": null,
            "min_height": null,
            "padding": null,
            "grid_auto_rows": null,
            "grid_gap": null,
            "max_width": null,
            "order": null,
            "_view_module_version": "1.2.0",
            "grid_template_areas": null,
            "object_position": null,
            "object_fit": null,
            "grid_auto_columns": null,
            "margin": null,
            "display": null,
            "left": null
          }
        },
        "bab895c3771540efbec9868ceec7a376": {
          "model_module": "@jupyter-widgets/controls",
          "model_name": "FloatProgressModel",
          "state": {
            "_view_name": "ProgressView",
            "style": "IPY_MODEL_8f34901beb0744f0b95fdcf46de43544",
            "_dom_classes": [],
            "description": "Downloading: 100%",
            "_model_name": "FloatProgressModel",
            "bar_style": "success",
            "max": 456318,
            "_view_module": "@jupyter-widgets/controls",
            "_model_module_version": "1.5.0",
            "value": 456318,
            "_view_count": null,
            "_view_module_version": "1.5.0",
            "orientation": "horizontal",
            "min": 0,
            "description_tooltip": null,
            "_model_module": "@jupyter-widgets/controls",
            "layout": "IPY_MODEL_b64469bbc6294f7097ba534fc0825160"
          }
        },
        "4e4e0fc9e3c84e2ebdc25790073e6b3b": {
          "model_module": "@jupyter-widgets/controls",
          "model_name": "HTMLModel",
          "state": {
            "_view_name": "HTMLView",
            "style": "IPY_MODEL_0286fb9df4684a10bdd06960bad73a34",
            "_dom_classes": [],
            "description": "",
            "_model_name": "HTMLModel",
            "placeholder": "​",
            "_view_module": "@jupyter-widgets/controls",
            "_model_module_version": "1.5.0",
            "value": " 456k/456k [00:00&lt;00:00, 1.27MB/s]",
            "_view_count": null,
            "_view_module_version": "1.5.0",
            "description_tooltip": null,
            "_model_module": "@jupyter-widgets/controls",
            "layout": "IPY_MODEL_baa7da2de4884c8cb1245eb1d5b9d610"
          }
        },
        "8f34901beb0744f0b95fdcf46de43544": {
          "model_module": "@jupyter-widgets/controls",
          "model_name": "ProgressStyleModel",
          "state": {
            "_view_name": "StyleView",
            "_model_name": "ProgressStyleModel",
            "description_width": "initial",
            "_view_module": "@jupyter-widgets/base",
            "_model_module_version": "1.5.0",
            "_view_count": null,
            "_view_module_version": "1.2.0",
            "bar_color": null,
            "_model_module": "@jupyter-widgets/controls"
          }
        },
        "b64469bbc6294f7097ba534fc0825160": {
          "model_module": "@jupyter-widgets/base",
          "model_name": "LayoutModel",
          "state": {
            "_view_name": "LayoutView",
            "grid_template_rows": null,
            "right": null,
            "justify_content": null,
            "_view_module": "@jupyter-widgets/base",
            "overflow": null,
            "_model_module_version": "1.2.0",
            "_view_count": null,
            "flex_flow": null,
            "width": null,
            "min_width": null,
            "border": null,
            "align_items": null,
            "bottom": null,
            "_model_module": "@jupyter-widgets/base",
            "top": null,
            "grid_column": null,
            "overflow_y": null,
            "overflow_x": null,
            "grid_auto_flow": null,
            "grid_area": null,
            "grid_template_columns": null,
            "flex": null,
            "_model_name": "LayoutModel",
            "justify_items": null,
            "grid_row": null,
            "max_height": null,
            "align_content": null,
            "visibility": null,
            "align_self": null,
            "height": null,
            "min_height": null,
            "padding": null,
            "grid_auto_rows": null,
            "grid_gap": null,
            "max_width": null,
            "order": null,
            "_view_module_version": "1.2.0",
            "grid_template_areas": null,
            "object_position": null,
            "object_fit": null,
            "grid_auto_columns": null,
            "margin": null,
            "display": null,
            "left": null
          }
        },
        "0286fb9df4684a10bdd06960bad73a34": {
          "model_module": "@jupyter-widgets/controls",
          "model_name": "DescriptionStyleModel",
          "state": {
            "_view_name": "StyleView",
            "_model_name": "DescriptionStyleModel",
            "description_width": "",
            "_view_module": "@jupyter-widgets/base",
            "_model_module_version": "1.5.0",
            "_view_count": null,
            "_view_module_version": "1.2.0",
            "_model_module": "@jupyter-widgets/controls"
          }
        },
        "baa7da2de4884c8cb1245eb1d5b9d610": {
          "model_module": "@jupyter-widgets/base",
          "model_name": "LayoutModel",
          "state": {
            "_view_name": "LayoutView",
            "grid_template_rows": null,
            "right": null,
            "justify_content": null,
            "_view_module": "@jupyter-widgets/base",
            "overflow": null,
            "_model_module_version": "1.2.0",
            "_view_count": null,
            "flex_flow": null,
            "width": null,
            "min_width": null,
            "border": null,
            "align_items": null,
            "bottom": null,
            "_model_module": "@jupyter-widgets/base",
            "top": null,
            "grid_column": null,
            "overflow_y": null,
            "overflow_x": null,
            "grid_auto_flow": null,
            "grid_area": null,
            "grid_template_columns": null,
            "flex": null,
            "_model_name": "LayoutModel",
            "justify_items": null,
            "grid_row": null,
            "max_height": null,
            "align_content": null,
            "visibility": null,
            "align_self": null,
            "height": null,
            "min_height": null,
            "padding": null,
            "grid_auto_rows": null,
            "grid_gap": null,
            "max_width": null,
            "order": null,
            "_view_module_version": "1.2.0",
            "grid_template_areas": null,
            "object_position": null,
            "object_fit": null,
            "grid_auto_columns": null,
            "margin": null,
            "display": null,
            "left": null
          }
        },
        "62bd4d86df1f40d492fe004b45fb8790": {
          "model_module": "@jupyter-widgets/controls",
          "model_name": "HBoxModel",
          "state": {
            "_view_name": "HBoxView",
            "_dom_classes": [],
            "_model_name": "HBoxModel",
            "_view_module": "@jupyter-widgets/controls",
            "_model_module_version": "1.5.0",
            "_view_count": null,
            "_view_module_version": "1.5.0",
            "box_style": "",
            "layout": "IPY_MODEL_134028a9d14842198bfd906feda88de0",
            "_model_module": "@jupyter-widgets/controls",
            "children": [
              "IPY_MODEL_bedde844c6fb47eab05083c66d416542",
              "IPY_MODEL_03ce87f18dae4c2a981bf3c5256d3ab2"
            ]
          }
        },
        "134028a9d14842198bfd906feda88de0": {
          "model_module": "@jupyter-widgets/base",
          "model_name": "LayoutModel",
          "state": {
            "_view_name": "LayoutView",
            "grid_template_rows": null,
            "right": null,
            "justify_content": null,
            "_view_module": "@jupyter-widgets/base",
            "overflow": null,
            "_model_module_version": "1.2.0",
            "_view_count": null,
            "flex_flow": null,
            "width": null,
            "min_width": null,
            "border": null,
            "align_items": null,
            "bottom": null,
            "_model_module": "@jupyter-widgets/base",
            "top": null,
            "grid_column": null,
            "overflow_y": null,
            "overflow_x": null,
            "grid_auto_flow": null,
            "grid_area": null,
            "grid_template_columns": null,
            "flex": null,
            "_model_name": "LayoutModel",
            "justify_items": null,
            "grid_row": null,
            "max_height": null,
            "align_content": null,
            "visibility": null,
            "align_self": null,
            "height": null,
            "min_height": null,
            "padding": null,
            "grid_auto_rows": null,
            "grid_gap": null,
            "max_width": null,
            "order": null,
            "_view_module_version": "1.2.0",
            "grid_template_areas": null,
            "object_position": null,
            "object_fit": null,
            "grid_auto_columns": null,
            "margin": null,
            "display": null,
            "left": null
          }
        },
        "bedde844c6fb47eab05083c66d416542": {
          "model_module": "@jupyter-widgets/controls",
          "model_name": "FloatProgressModel",
          "state": {
            "_view_name": "ProgressView",
            "style": "IPY_MODEL_e4f637c2492b45c9a70fffe033017a8b",
            "_dom_classes": [],
            "description": "Downloading: 100%",
            "_model_name": "FloatProgressModel",
            "bar_style": "success",
            "max": 1343,
            "_view_module": "@jupyter-widgets/controls",
            "_model_module_version": "1.5.0",
            "value": 1343,
            "_view_count": null,
            "_view_module_version": "1.5.0",
            "orientation": "horizontal",
            "min": 0,
            "description_tooltip": null,
            "_model_module": "@jupyter-widgets/controls",
            "layout": "IPY_MODEL_05b3b02e910f4a1d8681cf9d3a169e63"
          }
        },
        "03ce87f18dae4c2a981bf3c5256d3ab2": {
          "model_module": "@jupyter-widgets/controls",
          "model_name": "HTMLModel",
          "state": {
            "_view_name": "HTMLView",
            "style": "IPY_MODEL_b3c9829be85f47de8a0b91dcb2728285",
            "_dom_classes": [],
            "description": "",
            "_model_name": "HTMLModel",
            "placeholder": "​",
            "_view_module": "@jupyter-widgets/controls",
            "_model_module_version": "1.5.0",
            "value": " 1.34k/1.34k [00:23&lt;00:00, 56.1B/s]",
            "_view_count": null,
            "_view_module_version": "1.5.0",
            "description_tooltip": null,
            "_model_module": "@jupyter-widgets/controls",
            "layout": "IPY_MODEL_25230ef5fd5345f09260c4d74a9df64d"
          }
        },
        "e4f637c2492b45c9a70fffe033017a8b": {
          "model_module": "@jupyter-widgets/controls",
          "model_name": "ProgressStyleModel",
          "state": {
            "_view_name": "StyleView",
            "_model_name": "ProgressStyleModel",
            "description_width": "initial",
            "_view_module": "@jupyter-widgets/base",
            "_model_module_version": "1.5.0",
            "_view_count": null,
            "_view_module_version": "1.2.0",
            "bar_color": null,
            "_model_module": "@jupyter-widgets/controls"
          }
        },
        "05b3b02e910f4a1d8681cf9d3a169e63": {
          "model_module": "@jupyter-widgets/base",
          "model_name": "LayoutModel",
          "state": {
            "_view_name": "LayoutView",
            "grid_template_rows": null,
            "right": null,
            "justify_content": null,
            "_view_module": "@jupyter-widgets/base",
            "overflow": null,
            "_model_module_version": "1.2.0",
            "_view_count": null,
            "flex_flow": null,
            "width": null,
            "min_width": null,
            "border": null,
            "align_items": null,
            "bottom": null,
            "_model_module": "@jupyter-widgets/base",
            "top": null,
            "grid_column": null,
            "overflow_y": null,
            "overflow_x": null,
            "grid_auto_flow": null,
            "grid_area": null,
            "grid_template_columns": null,
            "flex": null,
            "_model_name": "LayoutModel",
            "justify_items": null,
            "grid_row": null,
            "max_height": null,
            "align_content": null,
            "visibility": null,
            "align_self": null,
            "height": null,
            "min_height": null,
            "padding": null,
            "grid_auto_rows": null,
            "grid_gap": null,
            "max_width": null,
            "order": null,
            "_view_module_version": "1.2.0",
            "grid_template_areas": null,
            "object_position": null,
            "object_fit": null,
            "grid_auto_columns": null,
            "margin": null,
            "display": null,
            "left": null
          }
        },
        "b3c9829be85f47de8a0b91dcb2728285": {
          "model_module": "@jupyter-widgets/controls",
          "model_name": "DescriptionStyleModel",
          "state": {
            "_view_name": "StyleView",
            "_model_name": "DescriptionStyleModel",
            "description_width": "",
            "_view_module": "@jupyter-widgets/base",
            "_model_module_version": "1.5.0",
            "_view_count": null,
            "_view_module_version": "1.2.0",
            "_model_module": "@jupyter-widgets/controls"
          }
        },
        "25230ef5fd5345f09260c4d74a9df64d": {
          "model_module": "@jupyter-widgets/base",
          "model_name": "LayoutModel",
          "state": {
            "_view_name": "LayoutView",
            "grid_template_rows": null,
            "right": null,
            "justify_content": null,
            "_view_module": "@jupyter-widgets/base",
            "overflow": null,
            "_model_module_version": "1.2.0",
            "_view_count": null,
            "flex_flow": null,
            "width": null,
            "min_width": null,
            "border": null,
            "align_items": null,
            "bottom": null,
            "_model_module": "@jupyter-widgets/base",
            "top": null,
            "grid_column": null,
            "overflow_y": null,
            "overflow_x": null,
            "grid_auto_flow": null,
            "grid_area": null,
            "grid_template_columns": null,
            "flex": null,
            "_model_name": "LayoutModel",
            "justify_items": null,
            "grid_row": null,
            "max_height": null,
            "align_content": null,
            "visibility": null,
            "align_self": null,
            "height": null,
            "min_height": null,
            "padding": null,
            "grid_auto_rows": null,
            "grid_gap": null,
            "max_width": null,
            "order": null,
            "_view_module_version": "1.2.0",
            "grid_template_areas": null,
            "object_position": null,
            "object_fit": null,
            "grid_auto_columns": null,
            "margin": null,
            "display": null,
            "left": null
          }
        },
        "ade9f6e92c774ae9882677fcab42c430": {
          "model_module": "@jupyter-widgets/controls",
          "model_name": "HBoxModel",
          "state": {
            "_view_name": "HBoxView",
            "_dom_classes": [],
            "_model_name": "HBoxModel",
            "_view_module": "@jupyter-widgets/controls",
            "_model_module_version": "1.5.0",
            "_view_count": null,
            "_view_module_version": "1.5.0",
            "box_style": "",
            "layout": "IPY_MODEL_4fcb8346753a41e8a83c3f9a0e47b34d",
            "_model_module": "@jupyter-widgets/controls",
            "children": [
              "IPY_MODEL_0d6bd501846943a7a83a2fee654b6aac",
              "IPY_MODEL_bbe6606ec1a2436e936cab364a35696a"
            ]
          }
        },
        "4fcb8346753a41e8a83c3f9a0e47b34d": {
          "model_module": "@jupyter-widgets/base",
          "model_name": "LayoutModel",
          "state": {
            "_view_name": "LayoutView",
            "grid_template_rows": null,
            "right": null,
            "justify_content": null,
            "_view_module": "@jupyter-widgets/base",
            "overflow": null,
            "_model_module_version": "1.2.0",
            "_view_count": null,
            "flex_flow": null,
            "width": null,
            "min_width": null,
            "border": null,
            "align_items": null,
            "bottom": null,
            "_model_module": "@jupyter-widgets/base",
            "top": null,
            "grid_column": null,
            "overflow_y": null,
            "overflow_x": null,
            "grid_auto_flow": null,
            "grid_area": null,
            "grid_template_columns": null,
            "flex": null,
            "_model_name": "LayoutModel",
            "justify_items": null,
            "grid_row": null,
            "max_height": null,
            "align_content": null,
            "visibility": null,
            "align_self": null,
            "height": null,
            "min_height": null,
            "padding": null,
            "grid_auto_rows": null,
            "grid_gap": null,
            "max_width": null,
            "order": null,
            "_view_module_version": "1.2.0",
            "grid_template_areas": null,
            "object_position": null,
            "object_fit": null,
            "grid_auto_columns": null,
            "margin": null,
            "display": null,
            "left": null
          }
        },
        "0d6bd501846943a7a83a2fee654b6aac": {
          "model_module": "@jupyter-widgets/controls",
          "model_name": "FloatProgressModel",
          "state": {
            "_view_name": "ProgressView",
            "style": "IPY_MODEL_4cdaefd1896a433c830159802b828dd1",
            "_dom_classes": [],
            "description": "Downloading: 100%",
            "_model_name": "FloatProgressModel",
            "bar_style": "success",
            "max": 1625270765,
            "_view_module": "@jupyter-widgets/controls",
            "_model_module_version": "1.5.0",
            "value": 1625270765,
            "_view_count": null,
            "_view_module_version": "1.5.0",
            "orientation": "horizontal",
            "min": 0,
            "description_tooltip": null,
            "_model_module": "@jupyter-widgets/controls",
            "layout": "IPY_MODEL_590cae5c2337447998e3e559cf9f9c89"
          }
        },
        "bbe6606ec1a2436e936cab364a35696a": {
          "model_module": "@jupyter-widgets/controls",
          "model_name": "HTMLModel",
          "state": {
            "_view_name": "HTMLView",
            "style": "IPY_MODEL_e30e704d44c3440fb82ce1237d459766",
            "_dom_classes": [],
            "description": "",
            "_model_name": "HTMLModel",
            "placeholder": "​",
            "_view_module": "@jupyter-widgets/controls",
            "_model_module_version": "1.5.0",
            "value": " 1.63G/1.63G [00:23&lt;00:00, 69.7MB/s]",
            "_view_count": null,
            "_view_module_version": "1.5.0",
            "description_tooltip": null,
            "_model_module": "@jupyter-widgets/controls",
            "layout": "IPY_MODEL_8ffc68619fd54bd3818699a9ad9c1783"
          }
        },
        "4cdaefd1896a433c830159802b828dd1": {
          "model_module": "@jupyter-widgets/controls",
          "model_name": "ProgressStyleModel",
          "state": {
            "_view_name": "StyleView",
            "_model_name": "ProgressStyleModel",
            "description_width": "initial",
            "_view_module": "@jupyter-widgets/base",
            "_model_module_version": "1.5.0",
            "_view_count": null,
            "_view_module_version": "1.2.0",
            "bar_color": null,
            "_model_module": "@jupyter-widgets/controls"
          }
        },
        "590cae5c2337447998e3e559cf9f9c89": {
          "model_module": "@jupyter-widgets/base",
          "model_name": "LayoutModel",
          "state": {
            "_view_name": "LayoutView",
            "grid_template_rows": null,
            "right": null,
            "justify_content": null,
            "_view_module": "@jupyter-widgets/base",
            "overflow": null,
            "_model_module_version": "1.2.0",
            "_view_count": null,
            "flex_flow": null,
            "width": null,
            "min_width": null,
            "border": null,
            "align_items": null,
            "bottom": null,
            "_model_module": "@jupyter-widgets/base",
            "top": null,
            "grid_column": null,
            "overflow_y": null,
            "overflow_x": null,
            "grid_auto_flow": null,
            "grid_area": null,
            "grid_template_columns": null,
            "flex": null,
            "_model_name": "LayoutModel",
            "justify_items": null,
            "grid_row": null,
            "max_height": null,
            "align_content": null,
            "visibility": null,
            "align_self": null,
            "height": null,
            "min_height": null,
            "padding": null,
            "grid_auto_rows": null,
            "grid_gap": null,
            "max_width": null,
            "order": null,
            "_view_module_version": "1.2.0",
            "grid_template_areas": null,
            "object_position": null,
            "object_fit": null,
            "grid_auto_columns": null,
            "margin": null,
            "display": null,
            "left": null
          }
        },
        "e30e704d44c3440fb82ce1237d459766": {
          "model_module": "@jupyter-widgets/controls",
          "model_name": "DescriptionStyleModel",
          "state": {
            "_view_name": "StyleView",
            "_model_name": "DescriptionStyleModel",
            "description_width": "",
            "_view_module": "@jupyter-widgets/base",
            "_model_module_version": "1.5.0",
            "_view_count": null,
            "_view_module_version": "1.2.0",
            "_model_module": "@jupyter-widgets/controls"
          }
        },
        "8ffc68619fd54bd3818699a9ad9c1783": {
          "model_module": "@jupyter-widgets/base",
          "model_name": "LayoutModel",
          "state": {
            "_view_name": "LayoutView",
            "grid_template_rows": null,
            "right": null,
            "justify_content": null,
            "_view_module": "@jupyter-widgets/base",
            "overflow": null,
            "_model_module_version": "1.2.0",
            "_view_count": null,
            "flex_flow": null,
            "width": null,
            "min_width": null,
            "border": null,
            "align_items": null,
            "bottom": null,
            "_model_module": "@jupyter-widgets/base",
            "top": null,
            "grid_column": null,
            "overflow_y": null,
            "overflow_x": null,
            "grid_auto_flow": null,
            "grid_area": null,
            "grid_template_columns": null,
            "flex": null,
            "_model_name": "LayoutModel",
            "justify_items": null,
            "grid_row": null,
            "max_height": null,
            "align_content": null,
            "visibility": null,
            "align_self": null,
            "height": null,
            "min_height": null,
            "padding": null,
            "grid_auto_rows": null,
            "grid_gap": null,
            "max_width": null,
            "order": null,
            "_view_module_version": "1.2.0",
            "grid_template_areas": null,
            "object_position": null,
            "object_fit": null,
            "grid_auto_columns": null,
            "margin": null,
            "display": null,
            "left": null
          }
        }
      }
    }
  },
  "cells": [
    {
      "cell_type": "markdown",
      "metadata": {
        "id": "view-in-github",
        "colab_type": "text"
      },
      "source": [
        "<a href=\"https://colab.research.google.com/github/dandanloveJM/COVID-19/blob/main/COVID19_2020.ipynb\" target=\"_parent\"><img src=\"https://colab.research.google.com/assets/colab-badge.svg\" alt=\"Open In Colab\"/></a>"
      ]
    },
    {
      "cell_type": "code",
      "metadata": {
        "id": "1cPKDtm8R8jo"
      },
      "source": [
        "USE_SUMMARY = True\n",
        "FIND_PDFS = True"
      ],
      "execution_count": 2,
      "outputs": []
    },
    {
      "cell_type": "code",
      "metadata": {
        "id": "fgxZ9aT4SQRt"
      },
      "source": [
        "import os\n",
        "#%%capture\n",
        "!curl -O https://download.java.net/java/GA/jdk11/9/GPL/openjdk-11.0.2_linux-x64_bin.tar.gz\n",
        "!mv openjdk-11.0.2_linux-x64_bin.tar.gz /usr/lib/jvm/; cd /usr/lib/jvm/; tar -zxvf openjdk-11.0.2_linux-x64_bin.tar.gz\n",
        "!update-alternatives --install /usr/bin/java java /usr/lib/jvm/jdk-11.0.2/bin/java 1\n",
        "!update-alternatives --set java /usr/lib/jvm/jdk-11.0.2/bin/java\n",
        "os.environ[\"JAVA_HOME\"] = \"/usr/lib/jvm/jdk-11.0.2\""
      ],
      "execution_count": null,
      "outputs": []
    },
    {
      "cell_type": "code",
      "metadata": {
        "id": "dad7uFveSSlY"
      },
      "source": [
        "#%%capture\n",
        "!pip install pyserini==0.8.1.0\n",
        "from pyserini.search import pysearch"
      ],
      "execution_count": null,
      "outputs": []
    },
    {
      "cell_type": "code",
      "metadata": {
        "id": "6pYRfnKtSukK",
        "outputId": "e8afc71b-907e-4e30-aa96-653420a4bbe0",
        "colab": {
          "base_uri": "https://localhost:8080/",
          "height": 35
        }
      },
      "source": [
        "from google.colab import drive\n",
        "drive.mount('/content/drive')\n",
        "import os\n",
        "os.chdir(\"/content/drive/\")"
      ],
      "execution_count": 5,
      "outputs": [
        {
          "output_type": "stream",
          "text": [
            "Drive already mounted at /content/drive; to attempt to forcibly remount, call drive.mount(\"/content/drive\", force_remount=True).\n"
          ],
          "name": "stdout"
        }
      ]
    },
    {
      "cell_type": "code",
      "metadata": {
        "id": "OGYv29XsSyJS"
      },
      "source": [
        "!wget \"https://bit.ly/2yh2RiW\" -O - | tar -xzvf - -C \"/content/drive/My Drive/covid/\""
      ],
      "execution_count": null,
      "outputs": []
    },
    {
      "cell_type": "code",
      "metadata": {
        "id": "SvSDWhslS1Bw"
      },
      "source": [
        "import tensorflow as tf\n",
        "import tensorflow_hub as hub"
      ],
      "execution_count": 7,
      "outputs": []
    },
    {
      "cell_type": "code",
      "metadata": {
        "id": "r6oiTFsbX8V5",
        "outputId": "3c290fa0-6fd1-4820-fd84-a98fe7b2614f",
        "colab": {
          "base_uri": "https://localhost:8080/",
          "height": 208
        }
      },
      "source": [
        "\n",
        "\n",
        "# Download the module, and uncompress it to the destination folder. \n",
        "!curl -L \"https://tfhub.dev/google/universal-sentence-encoder-large/3?tf-hub-format=compressed\" | tar -zxvC \"/content/drive/My Drive/covid/kaggle\""
      ],
      "execution_count": 8,
      "outputs": [
        {
          "output_type": "stream",
          "text": [
            "  % Total    % Received % Xferd  Average Speed   Time    Time     Time  Current\n",
            "                                 Dload  Upload   Total   Spent    Left  Speed\n",
            "  0     0    0     0    0     0      0      0 --:--:-- --:--:-- --:--:--     0\n",
            "  0     0    0     0    0     0      0      0 --:--:-- --:--:-- --:--:--     0./\n",
            "./tfhub_module.pb\n",
            "./variables/\n",
            "./variables/variables.data-00000-of-00001\n",
            " 97  745M   97  729M    0     0  34.0M      0  0:00:21  0:00:21 --:--:-- 36.4M./variables/variables.index\n",
            "./assets/\n",
            "./saved_model.pb\n",
            "100  745M  100  745M    0     0  34.1M      0  0:00:21  0:00:21 --:--:-- 36.7M\n"
          ],
          "name": "stdout"
        }
      ]
    },
    {
      "cell_type": "code",
      "metadata": {
        "id": "Us7TmKgZX-fY",
        "outputId": "4ef1b14e-aba3-499a-8b64-3ca26a345fa9",
        "colab": {
          "base_uri": "https://localhost:8080/",
          "height": 627
        }
      },
      "source": [
        "!pip install transformers"
      ],
      "execution_count": 9,
      "outputs": [
        {
          "output_type": "stream",
          "text": [
            "Collecting transformers\n",
            "\u001b[?25l  Downloading https://files.pythonhosted.org/packages/19/22/aff234f4a841f8999e68a7a94bdd4b60b4cebcfeca5d67d61cd08c9179de/transformers-3.3.1-py3-none-any.whl (1.1MB)\n",
            "\u001b[K     |████████████████████████████████| 1.1MB 4.7MB/s \n",
            "\u001b[?25hRequirement already satisfied: tqdm>=4.27 in /usr/local/lib/python3.6/dist-packages (from transformers) (4.41.1)\n",
            "Requirement already satisfied: dataclasses; python_version < \"3.7\" in /usr/local/lib/python3.6/dist-packages (from transformers) (0.7)\n",
            "Collecting sentencepiece!=0.1.92\n",
            "\u001b[?25l  Downloading https://files.pythonhosted.org/packages/d4/a4/d0a884c4300004a78cca907a6ff9a5e9fe4f090f5d95ab341c53d28cbc58/sentencepiece-0.1.91-cp36-cp36m-manylinux1_x86_64.whl (1.1MB)\n",
            "\u001b[K     |████████████████████████████████| 1.1MB 24.4MB/s \n",
            "\u001b[?25hRequirement already satisfied: requests in /usr/local/lib/python3.6/dist-packages (from transformers) (2.23.0)\n",
            "Requirement already satisfied: numpy in /usr/local/lib/python3.6/dist-packages (from transformers) (1.18.5)\n",
            "Collecting tokenizers==0.8.1.rc2\n",
            "\u001b[?25l  Downloading https://files.pythonhosted.org/packages/80/83/8b9fccb9e48eeb575ee19179e2bdde0ee9a1904f97de5f02d19016b8804f/tokenizers-0.8.1rc2-cp36-cp36m-manylinux1_x86_64.whl (3.0MB)\n",
            "\u001b[K     |████████████████████████████████| 3.0MB 41.2MB/s \n",
            "\u001b[?25hCollecting sacremoses\n",
            "\u001b[?25l  Downloading https://files.pythonhosted.org/packages/7d/34/09d19aff26edcc8eb2a01bed8e98f13a1537005d31e95233fd48216eed10/sacremoses-0.0.43.tar.gz (883kB)\n",
            "\u001b[K     |████████████████████████████████| 890kB 51.4MB/s \n",
            "\u001b[?25hRequirement already satisfied: regex!=2019.12.17 in /usr/local/lib/python3.6/dist-packages (from transformers) (2019.12.20)\n",
            "Requirement already satisfied: filelock in /usr/local/lib/python3.6/dist-packages (from transformers) (3.0.12)\n",
            "Requirement already satisfied: packaging in /usr/local/lib/python3.6/dist-packages (from transformers) (20.4)\n",
            "Requirement already satisfied: certifi>=2017.4.17 in /usr/local/lib/python3.6/dist-packages (from requests->transformers) (2020.6.20)\n",
            "Requirement already satisfied: chardet<4,>=3.0.2 in /usr/local/lib/python3.6/dist-packages (from requests->transformers) (3.0.4)\n",
            "Requirement already satisfied: idna<3,>=2.5 in /usr/local/lib/python3.6/dist-packages (from requests->transformers) (2.10)\n",
            "Requirement already satisfied: urllib3!=1.25.0,!=1.25.1,<1.26,>=1.21.1 in /usr/local/lib/python3.6/dist-packages (from requests->transformers) (1.24.3)\n",
            "Requirement already satisfied: six in /usr/local/lib/python3.6/dist-packages (from sacremoses->transformers) (1.15.0)\n",
            "Requirement already satisfied: click in /usr/local/lib/python3.6/dist-packages (from sacremoses->transformers) (7.1.2)\n",
            "Requirement already satisfied: joblib in /usr/local/lib/python3.6/dist-packages (from sacremoses->transformers) (0.16.0)\n",
            "Requirement already satisfied: pyparsing>=2.0.2 in /usr/local/lib/python3.6/dist-packages (from packaging->transformers) (2.4.7)\n",
            "Building wheels for collected packages: sacremoses\n",
            "  Building wheel for sacremoses (setup.py) ... \u001b[?25l\u001b[?25hdone\n",
            "  Created wheel for sacremoses: filename=sacremoses-0.0.43-cp36-none-any.whl size=893257 sha256=3dae640016c8ac3f694afd1072c23d8fe2ff4b01a16fce9a322a1b63ecb241b6\n",
            "  Stored in directory: /root/.cache/pip/wheels/29/3c/fd/7ce5c3f0666dab31a50123635e6fb5e19ceb42ce38d4e58f45\n",
            "Successfully built sacremoses\n",
            "Installing collected packages: sentencepiece, tokenizers, sacremoses, transformers\n",
            "Successfully installed sacremoses-0.0.43 sentencepiece-0.1.91 tokenizers-0.8.1rc2 transformers-3.3.1\n"
          ],
          "name": "stdout"
        }
      ]
    },
    {
      "cell_type": "code",
      "metadata": {
        "id": "BnKbY4w0YL7A",
        "outputId": "4a34266f-55f2-47a5-e68d-cf2e7e9352da",
        "colab": {
          "base_uri": "https://localhost:8080/",
          "height": 35
        }
      },
      "source": [
        "cd /content/drive/My Drive/covid"
      ],
      "execution_count": 10,
      "outputs": [
        {
          "output_type": "stream",
          "text": [
            "/content/drive/My Drive/covid\n"
          ],
          "name": "stdout"
        }
      ]
    },
    {
      "cell_type": "code",
      "metadata": {
        "id": "KHICd10oYTg4",
        "outputId": "00ef5978-c0c7-407c-e029-2607f30d6775",
        "colab": {
          "base_uri": "https://localhost:8080/",
          "height": 35
        }
      },
      "source": [
        "!git clone https://github.com/huggingface/transformers.git"
      ],
      "execution_count": 11,
      "outputs": [
        {
          "output_type": "stream",
          "text": [
            "fatal: destination path 'transformers' already exists and is not an empty directory.\n"
          ],
          "name": "stdout"
        }
      ]
    },
    {
      "cell_type": "code",
      "metadata": {
        "id": "ucHz3TMdYWYl",
        "outputId": "fbb2a5a2-df9d-496d-ab28-ebd1ec53f31b",
        "colab": {
          "base_uri": "https://localhost:8080/",
          "height": 35
        }
      },
      "source": [
        "cd transformers"
      ],
      "execution_count": 12,
      "outputs": [
        {
          "output_type": "stream",
          "text": [
            "/content/drive/My Drive/covid/transformers\n"
          ],
          "name": "stdout"
        }
      ]
    },
    {
      "cell_type": "code",
      "metadata": {
        "id": "ryoJomq0YoEU"
      },
      "source": [
        "import torch\n",
        "from transformers import BertForQuestionAnswering\n",
        "from transformers import BertTokenizer\n",
        "from transformers import BartTokenizer, BartForConditionalGeneration\n",
        "torch_device = 'cuda' if torch.cuda.is_available() else 'cpu'\n",
        "\n",
        "QA_MODEL = BertForQuestionAnswering.from_pretrained('bert-large-uncased-whole-word-masking-finetuned-squad')\n",
        "QA_TOKENIZER = BertTokenizer.from_pretrained('bert-large-uncased-whole-word-masking-finetuned-squad')\n",
        "QA_MODEL.to(torch_device)\n",
        "QA_MODEL.eval()\n"
      ],
      "execution_count": null,
      "outputs": []
    },
    {
      "cell_type": "code",
      "metadata": {
        "id": "DdrYXWOqYsUL",
        "outputId": "768b68d6-4a40-47a3-9f65-063f56a10832",
        "colab": {
          "base_uri": "https://localhost:8080/",
          "height": 215,
          "referenced_widgets": [
            "be01ae77b5bd4ed1990725e723688d68",
            "22cced0028ce498db9a92b6f7f2652b5",
            "4df5d7b337cd4c8fab6f050ea862c43d",
            "fefc5453234446e698fe73859e9519a3",
            "f0a17ee3aa794719be609df87ea6d724",
            "38c6b8ae49ec464ea5a55b2647dd1052",
            "11fc0465998a497ca3f9eb8bde66aac2",
            "eec4fc24a23044d8958d67b005704527",
            "73c7e7de98e04c9d8aa81193dddb23eb",
            "d77251f6192e4a6a97ec1b21358129b1",
            "bab895c3771540efbec9868ceec7a376",
            "4e4e0fc9e3c84e2ebdc25790073e6b3b",
            "8f34901beb0744f0b95fdcf46de43544",
            "b64469bbc6294f7097ba534fc0825160",
            "0286fb9df4684a10bdd06960bad73a34",
            "baa7da2de4884c8cb1245eb1d5b9d610",
            "62bd4d86df1f40d492fe004b45fb8790",
            "134028a9d14842198bfd906feda88de0",
            "bedde844c6fb47eab05083c66d416542",
            "03ce87f18dae4c2a981bf3c5256d3ab2",
            "e4f637c2492b45c9a70fffe033017a8b",
            "05b3b02e910f4a1d8681cf9d3a169e63",
            "b3c9829be85f47de8a0b91dcb2728285",
            "25230ef5fd5345f09260c4d74a9df64d",
            "ade9f6e92c774ae9882677fcab42c430",
            "4fcb8346753a41e8a83c3f9a0e47b34d",
            "0d6bd501846943a7a83a2fee654b6aac",
            "bbe6606ec1a2436e936cab364a35696a",
            "4cdaefd1896a433c830159802b828dd1",
            "590cae5c2337447998e3e559cf9f9c89",
            "e30e704d44c3440fb82ce1237d459766",
            "8ffc68619fd54bd3818699a9ad9c1783"
          ]
        }
      },
      "source": [
        "\n",
        "if USE_SUMMARY:\n",
        "    SUMMARY_TOKENIZER = BartTokenizer.from_pretrained('facebook/bart-large-cnn')\n",
        "    SUMMARY_MODEL = BartForConditionalGeneration.from_pretrained('facebook/bart-large-cnn')\n",
        "    SUMMARY_MODEL.to(torch_device)\n",
        "    SUMMARY_MODEL.eval()"
      ],
      "execution_count": 14,
      "outputs": [
        {
          "output_type": "display_data",
          "data": {
            "application/vnd.jupyter.widget-view+json": {
              "model_id": "be01ae77b5bd4ed1990725e723688d68",
              "version_minor": 0,
              "version_major": 2
            },
            "text/plain": [
              "HBox(children=(FloatProgress(value=0.0, description='Downloading', max=898823.0, style=ProgressStyle(descripti…"
            ]
          },
          "metadata": {
            "tags": []
          }
        },
        {
          "output_type": "stream",
          "text": [
            "\n"
          ],
          "name": "stdout"
        },
        {
          "output_type": "display_data",
          "data": {
            "application/vnd.jupyter.widget-view+json": {
              "model_id": "73c7e7de98e04c9d8aa81193dddb23eb",
              "version_minor": 0,
              "version_major": 2
            },
            "text/plain": [
              "HBox(children=(FloatProgress(value=0.0, description='Downloading', max=456318.0, style=ProgressStyle(descripti…"
            ]
          },
          "metadata": {
            "tags": []
          }
        },
        {
          "output_type": "stream",
          "text": [
            "\n"
          ],
          "name": "stdout"
        },
        {
          "output_type": "display_data",
          "data": {
            "application/vnd.jupyter.widget-view+json": {
              "model_id": "62bd4d86df1f40d492fe004b45fb8790",
              "version_minor": 0,
              "version_major": 2
            },
            "text/plain": [
              "HBox(children=(FloatProgress(value=0.0, description='Downloading', max=1343.0, style=ProgressStyle(description…"
            ]
          },
          "metadata": {
            "tags": []
          }
        },
        {
          "output_type": "stream",
          "text": [
            "\n"
          ],
          "name": "stdout"
        },
        {
          "output_type": "display_data",
          "data": {
            "application/vnd.jupyter.widget-view+json": {
              "model_id": "ade9f6e92c774ae9882677fcab42c430",
              "version_minor": 0,
              "version_major": 2
            },
            "text/plain": [
              "HBox(children=(FloatProgress(value=0.0, description='Downloading', max=1625270765.0, style=ProgressStyle(descr…"
            ]
          },
          "metadata": {
            "tags": []
          }
        },
        {
          "output_type": "stream",
          "text": [
            "\n"
          ],
          "name": "stdout"
        }
      ]
    },
    {
      "cell_type": "code",
      "metadata": {
        "id": "0vt_MN95dYtC",
        "outputId": "8eadd5b8-11f9-441f-c631-b17ac8bd8b56",
        "colab": {
          "base_uri": "https://localhost:8080/",
          "height": 141
        }
      },
      "source": [
        "!pip install biopython\n",
        "from Bio import Entrez, Medline\n",
        "\n",
        "try:\n",
        "    from StringIO import StringIO\n",
        "except ImportError:\n",
        "    from io import StringIO\n",
        "import re"
      ],
      "execution_count": 15,
      "outputs": [
        {
          "output_type": "stream",
          "text": [
            "Collecting biopython\n",
            "\u001b[?25l  Downloading https://files.pythonhosted.org/packages/76/02/8b606c4aa92ff61b5eda71d23b499ab1de57d5e818be33f77b01a6f435a8/biopython-1.78-cp36-cp36m-manylinux1_x86_64.whl (2.3MB)\n",
            "\u001b[K     |████████████████████████████████| 2.3MB 4.8MB/s \n",
            "\u001b[?25hRequirement already satisfied: numpy in /usr/local/lib/python3.6/dist-packages (from biopython) (1.18.5)\n",
            "Installing collected packages: biopython\n",
            "Successfully installed biopython-1.78\n"
          ],
          "name": "stdout"
        }
      ]
    },
    {
      "cell_type": "code",
      "metadata": {
        "id": "KlhjNp7VZBfS"
      },
      "source": [
        "query = 'Which non-pharmaceutical interventions limit tramsission'\n",
        "keywords = '2019-nCoV, SARS-CoV-2, COVID-19, non-pharmaceutical interventions, npi'"
      ],
      "execution_count": 16,
      "outputs": []
    },
    {
      "cell_type": "code",
      "metadata": {
        "id": "iNWApj7BZ1TQ",
        "outputId": "b512ddaf-6d4e-4d3b-b1b6-245565781532",
        "colab": {
          "base_uri": "https://localhost:8080/",
          "height": 35
        }
      },
      "source": [
        "luceneDir = \"/content/drive/My Drive/covid/lucene-index-covid-2020-04-10\"\n",
        "print(luceneDir)"
      ],
      "execution_count": 17,
      "outputs": [
        {
          "output_type": "stream",
          "text": [
            "/content/drive/My Drive/covid/lucene-index-covid-2020-04-10\n"
          ],
          "name": "stdout"
        }
      ]
    },
    {
      "cell_type": "code",
      "metadata": {
        "id": "ufjT07YiZp5N"
      },
      "source": [
        "import json\n",
        "searcher = pysearch.SimpleSearcher(luceneDir)\n",
        "hits = searcher.search(query + '. ' + keywords)\n",
        "n_hits = len(hits)\n",
        "## collect the relevant data in a hit dictionary\n",
        "hit_dictionary = {}\n",
        "for i in range(0, n_hits):\n",
        "    doc_json = json.loads(hits[i].raw)\n",
        "    idx = str(hits[i].docid)\n",
        "    hit_dictionary[idx] = doc_json\n",
        "    hit_dictionary[idx]['title'] = hits[i].lucene_document.get(\"title\")\n",
        "    hit_dictionary[idx]['authors'] = hits[i].lucene_document.get(\"authors\")\n",
        "    hit_dictionary[idx]['doi'] = hits[i].lucene_document.get(\"doi\")\n",
        "\n",
        "## scrub the abstracts in prep for BERT-SQuAD\n",
        "for idx,v in hit_dictionary.items():\n",
        "    abs_dirty = v['abstract']\n",
        "    # looks like the abstract value can be an empty list\n",
        "    v['abstract_paragraphs'] = []\n",
        "    v['abstract_full'] = ''\n",
        "\n",
        "    if abs_dirty:\n",
        "        # looks like if it is a list, then the only entry is a dictionary wher text is in 'text' key\n",
        "        # looks like it is broken up by paragraph if it is in that form.  lets make lists for every paragraph\n",
        "        # and a new entry that is full abstract text as both could be valuable for BERT derrived QA\n",
        "\n",
        "\n",
        "        if isinstance(abs_dirty, list):\n",
        "            for p in abs_dirty:\n",
        "                v['abstract_paragraphs'].append(p['text'])\n",
        "                v['abstract_full'] += p['text'] + ' \\n\\n'\n",
        "\n",
        "        # looks like in some cases the abstract can be straight up text so we can actually leave that alone\n",
        "        if isinstance(abs_dirty, str):\n",
        "            v['abstract_paragraphs'].append(abs_dirty)\n",
        "            v['abstract_full'] += abs_dirty + ' \\n\\n'\n"
      ],
      "execution_count": 18,
      "outputs": []
    },
    {
      "cell_type": "markdown",
      "metadata": {
        "id": "fsF6qw-UaBlj"
      },
      "source": [
        "Lets try doing a simple BERT-SQuAD QA model first and see how it does"
      ]
    },
    {
      "cell_type": "code",
      "metadata": {
        "id": "tV5xRv8AZsdb",
        "outputId": "69be4150-7824-40ba-ab01-64897d3f62c2",
        "colab": {
          "base_uri": "https://localhost:8080/",
          "height": 191
        }
      },
      "source": [
        "def embed_useT(module):\n",
        "    with tf.Graph().as_default():\n",
        "        sentences = tf.compat.v1.placeholder(tf.string)\n",
        "        embed = hub.Module(module)\n",
        "        embeddings = embed(sentences)\n",
        "        session = tf.compat.v1.train.MonitoredSession()\n",
        "    return lambda x: session.run(embeddings, {sentences: x})\n",
        "embed_fn = embed_useT('/content/drive/My Drive/covid/kaggle')"
      ],
      "execution_count": 19,
      "outputs": [
        {
          "output_type": "stream",
          "text": [
            "INFO:absl:resolver HttpCompressedFileResolver does not support the provided handle.\n",
            "INFO:absl:resolver GcsCompressedFileResolver does not support the provided handle.\n"
          ],
          "name": "stderr"
        },
        {
          "output_type": "stream",
          "text": [
            "INFO:tensorflow:Saver not created because there are no variables in the graph to restore\n"
          ],
          "name": "stdout"
        },
        {
          "output_type": "stream",
          "text": [
            "INFO:tensorflow:Saver not created because there are no variables in the graph to restore\n"
          ],
          "name": "stderr"
        },
        {
          "output_type": "stream",
          "text": [
            "INFO:tensorflow:Graph was finalized.\n"
          ],
          "name": "stdout"
        },
        {
          "output_type": "stream",
          "text": [
            "INFO:tensorflow:Graph was finalized.\n"
          ],
          "name": "stderr"
        },
        {
          "output_type": "stream",
          "text": [
            "INFO:tensorflow:Running local_init_op.\n"
          ],
          "name": "stdout"
        },
        {
          "output_type": "stream",
          "text": [
            "INFO:tensorflow:Running local_init_op.\n"
          ],
          "name": "stderr"
        },
        {
          "output_type": "stream",
          "text": [
            "INFO:tensorflow:Done running local_init_op.\n"
          ],
          "name": "stdout"
        },
        {
          "output_type": "stream",
          "text": [
            "INFO:tensorflow:Done running local_init_op.\n"
          ],
          "name": "stderr"
        }
      ]
    },
    {
      "cell_type": "code",
      "metadata": {
        "id": "d1aAuxpaaZ97"
      },
      "source": [
        "import numpy as np\n",
        "def reconstructText(tokens, start=0, stop=-1):\n",
        "    tokens = tokens[start: stop]\n",
        "    if '[SEP]' in tokens:\n",
        "        sepind = tokens.index('[SEP]')\n",
        "        tokens = tokens[sepind+1:]\n",
        "    txt = ' '.join(tokens)\n",
        "    txt = txt.replace(' ##', '')\n",
        "    txt = txt.replace('##', '')\n",
        "    txt = txt.strip()\n",
        "    txt = \" \".join(txt.split())\n",
        "    txt = txt.replace(' .', '.')\n",
        "    txt = txt.replace('( ', '(')\n",
        "    txt = txt.replace(' )', ')')\n",
        "    txt = txt.replace(' - ', '-')\n",
        "    txt_list = txt.split(' , ')\n",
        "    txt = ''\n",
        "    nTxtL = len(txt_list)\n",
        "    if nTxtL == 1:\n",
        "        return txt_list[0]\n",
        "    newList =[]\n",
        "    for i,t in enumerate(txt_list):\n",
        "        if i < nTxtL -1:\n",
        "            if t[-1].isdigit() and txt_list[i+1][0].isdigit():\n",
        "                newList += [t,',']\n",
        "            else:\n",
        "                newList += [t, ', ']\n",
        "        else:\n",
        "            newList += [t]\n",
        "    return ''.join(newList)\n",
        "\n",
        "\n",
        "def makeBERTSQuADPrediction(document, question):\n",
        "    ## we need to rewrite this function so that it chuncks the document into 250-300 word segments with\n",
        "    ## 50 word overlaps on either end so that it can understand and check longer abstracts\n",
        "    nWords = len(document.split())\n",
        "    input_ids_all = QA_TOKENIZER.encode(question, document)\n",
        "    tokens_all = QA_TOKENIZER.convert_ids_to_tokens(input_ids_all)\n",
        "    overlapFac = 1.1\n",
        "    if len(input_ids_all)*overlapFac > 2048:\n",
        "        nSearchWords = int(np.ceil(nWords/5))\n",
        "        quarter = int(np.ceil(nWords/4))\n",
        "        docSplit = document.split()\n",
        "        docPieces = [' '.join(docSplit[:int(nSearchWords*overlapFac)]), \n",
        "                     ' '.join(docSplit[quarter-int(nSearchWords*overlapFac/2):quarter+int(quarter*overlapFac/2)]),\n",
        "                     ' '.join(docSplit[quarter*2-int(nSearchWords*overlapFac/2):quarter*2+int(quarter*overlapFac/2)]),\n",
        "                     ' '.join(docSplit[quarter*3-int(nSearchWords*overlapFac/2):quarter*3+int(quarter*overlapFac/2)]),\n",
        "                     ' '.join(docSplit[-int(nSearchWords*overlapFac):])]\n",
        "        input_ids = [QA_TOKENIZER.encode(question, dp) for dp in docPieces]        \n",
        "        \n",
        "    elif len(input_ids_all)*overlapFac > 1536:\n",
        "        nSearchWords = int(np.ceil(nWords/4))\n",
        "        third = int(np.ceil(nWords/3))\n",
        "        docSplit = document.split()\n",
        "        docPieces = [' '.join(docSplit[:int(nSearchWords*overlapFac)]), \n",
        "                     ' '.join(docSplit[third-int(nSearchWords*overlapFac/2):third+int(nSearchWords*overlapFac/2)]),\n",
        "                     ' '.join(docSplit[third*2-int(nSearchWords*overlapFac/2):third*2+int(nSearchWords*overlapFac/2)]),\n",
        "                     ' '.join(docSplit[-int(nSearchWords*overlapFac):])]\n",
        "        input_ids = [QA_TOKENIZER.encode(question, dp) for dp in docPieces]        \n",
        "        \n",
        "    elif len(input_ids_all)*overlapFac > 1024:\n",
        "        nSearchWords = int(np.ceil(nWords/3))\n",
        "        middle = int(np.ceil(nWords/2))\n",
        "        docSplit = document.split()\n",
        "        docPieces = [' '.join(docSplit[:int(nSearchWords*overlapFac)]), \n",
        "                     ' '.join(docSplit[middle-int(nSearchWords*overlapFac/2):middle+int(nSearchWords*overlapFac/2)]),\n",
        "                     ' '.join(docSplit[-int(nSearchWords*overlapFac):])]\n",
        "        input_ids = [QA_TOKENIZER.encode(question, dp) for dp in docPieces]\n",
        "    elif len(input_ids_all)*overlapFac > 512:\n",
        "        nSearchWords = int(np.ceil(nWords/2))\n",
        "        docSplit = document.split()\n",
        "        docPieces = [' '.join(docSplit[:int(nSearchWords*overlapFac)]), ' '.join(docSplit[-int(nSearchWords*overlapFac):])]\n",
        "        input_ids = [QA_TOKENIZER.encode(question, dp) for dp in docPieces]\n",
        "    else:\n",
        "        input_ids = [input_ids_all]\n",
        "    absTooLong = False    \n",
        "    \n",
        "    answers = []\n",
        "    cons = []\n",
        "    for iptIds in input_ids:\n",
        "        tokens = QA_TOKENIZER.convert_ids_to_tokens(iptIds)\n",
        "        sep_index = iptIds.index(QA_TOKENIZER.sep_token_id)\n",
        "        num_seg_a = sep_index + 1\n",
        "        num_seg_b = len(iptIds) - num_seg_a\n",
        "        segment_ids = [0]*num_seg_a + [1]*num_seg_b\n",
        "        assert len(segment_ids) == len(iptIds)\n",
        "        n_ids = len(segment_ids)\n",
        "        #print(n_ids)\n",
        "\n",
        "        if n_ids < 512:\n",
        "            start_scores, end_scores = QA_MODEL(torch.tensor([iptIds]).to(torch_device), \n",
        "                                     token_type_ids=torch.tensor([segment_ids]).to(torch_device))\n",
        "        else:\n",
        "            #this cuts off the text if its more than 512 words so it fits in model space\n",
        "            #need run multiple inferences for longer text. add to the todo\n",
        "            print('****** warning only considering first 512 tokens, document is '+str(nWords)+' words long.  There are '+str(n_ids)+ ' tokens')\n",
        "            absTooLong = True\n",
        "            start_scores, end_scores = QA_MODEL(torch.tensor([iptIds[:512]]).to(torch_device), \n",
        "                                     token_type_ids=torch.tensor([segment_ids[:512]]).to(torch_device))\n",
        "        start_scores = start_scores[:,1:-1]\n",
        "        end_scores = end_scores[:,1:-1]\n",
        "        answer_start = torch.argmax(start_scores)\n",
        "        answer_end = torch.argmax(end_scores)\n",
        "        #print(answer_start, answer_end)\n",
        "        answer = reconstructText(tokens, answer_start, answer_end+2)\n",
        "    \n",
        "        if answer.startswith('. ') or answer.startswith(', '):\n",
        "            answer = answer[2:]\n",
        "            \n",
        "        c = start_scores[0,answer_start].item()+end_scores[0,answer_end].item()\n",
        "        answers.append(answer)\n",
        "        cons.append(c)\n",
        "    \n",
        "    maxC = max(cons)\n",
        "    iMaxC = [i for i, j in enumerate(cons) if j == maxC][0]\n",
        "    confidence = cons[iMaxC]\n",
        "    answer = answers[iMaxC]\n",
        "    \n",
        "    sep_index = tokens_all.index('[SEP]')\n",
        "    full_txt_tokens = tokens_all[sep_index+1:]\n",
        "    \n",
        "    abs_returned = reconstructText(full_txt_tokens)\n",
        "\n",
        "    ans={}\n",
        "    ans['answer'] = answer\n",
        "    #print(answer)\n",
        "    if answer.startswith('[CLS]') or answer_end.item() < sep_index or answer.endswith('[SEP]'):\n",
        "        ans['confidence'] = -1000000\n",
        "    else:\n",
        "        #confidence = torch.max(start_scores) + torch.max(end_scores)\n",
        "        #confidence = np.log(confidence.item())\n",
        "        ans['confidence'] = confidence\n",
        "    #ans['start'] = answer_start.item()\n",
        "    #ans['end'] = answer_end.item()\n",
        "    ans['abstract_bert'] = abs_returned\n",
        "    ans['abs_too_long'] = absTooLong\n",
        "    return ans"
      ],
      "execution_count": 20,
      "outputs": []
    },
    {
      "cell_type": "markdown",
      "metadata": {
        "id": "tV_xJna0affR"
      },
      "source": [
        "Now we can write a function to do an Open Domain QA on all the abstracts using BERT-SQUAD"
      ]
    },
    {
      "cell_type": "code",
      "metadata": {
        "id": "HwRdi-yraf8b"
      },
      "source": [
        "from tqdm import tqdm\n",
        "def searchAbstracts(hit_dictionary, question):\n",
        "    abstractResults = {}\n",
        "    for k,v in tqdm(hit_dictionary.items()):\n",
        "        abstract = v['abstract_full']\n",
        "        if abstract:\n",
        "            ans = makeBERTSQuADPrediction(abstract, question)\n",
        "            if ans['answer']:\n",
        "                confidence = ans['confidence']\n",
        "                abstractResults[confidence]={}\n",
        "                abstractResults[confidence]['answer'] = ans['answer']\n",
        "                #abstractResults[confidence]['start'] = ans['start']\n",
        "                #abstractResults[confidence]['end'] = ans['end']\n",
        "                abstractResults[confidence]['abstract_bert'] = ans['abstract_bert']\n",
        "                abstractResults[confidence]['idx'] = k\n",
        "                abstractResults[confidence]['abs_too_long'] = ans['abs_too_long']\n",
        "                \n",
        "    cList = list(abstractResults.keys())\n",
        "\n",
        "    if cList:\n",
        "        maxScore = max(cList)\n",
        "        total = 0.0\n",
        "        exp_scores = []\n",
        "        for c in cList:\n",
        "            s = np.exp(c-maxScore)\n",
        "            exp_scores.append(s)\n",
        "        total = sum(exp_scores)\n",
        "        for i,c in enumerate(cList):\n",
        "            abstractResults[exp_scores[i]/total] = abstractResults.pop(c)\n",
        "    return abstractResults"
      ],
      "execution_count": 21,
      "outputs": []
    },
    {
      "cell_type": "code",
      "metadata": {
        "id": "EH1KCgOaakaJ",
        "outputId": "9aeb2dbc-8b46-4f1d-936d-d41997e0cbbf",
        "colab": {
          "base_uri": "https://localhost:8080/",
          "height": 89
        }
      },
      "source": [
        "answers = searchAbstracts(hit_dictionary, query)"
      ],
      "execution_count": 22,
      "outputs": [
        {
          "output_type": "stream",
          "text": [
            " 50%|█████     | 5/10 [00:00<00:00,  6.90it/s]Token indices sequence length is longer than the specified maximum sequence length for this model (646 > 512). Running this sequence through the model will result in indexing errors\n",
            " 60%|██████    | 6/10 [00:00<00:00,  6.49it/s]Token indices sequence length is longer than the specified maximum sequence length for this model (649 > 512). Running this sequence through the model will result in indexing errors\n",
            "100%|██████████| 10/10 [00:01<00:00,  8.37it/s]\n"
          ],
          "name": "stderr"
        }
      ]
    },
    {
      "cell_type": "code",
      "metadata": {
        "id": "FGU9mHjcdGdr"
      },
      "source": [
        "def getrecord(id, db):\n",
        "    handle = Entrez.efetch(db=db, id=id, rettype='Medline', retmode='text')\n",
        "    rec = handle.read()\n",
        "    handle.close()\n",
        "    return rec\n",
        "\n",
        "def pubMedSearch(terms, db='pubmed', mindate='2019/12/01'):\n",
        "    handle = Entrez.esearch(db = db, term = terms, retmax=10, mindate=mindate)\n",
        "    record = Entrez.read(handle)\n",
        "    record_db = {}\n",
        "    for id in record['IdList']:\n",
        "        try:\n",
        "            record = getrecord(id,db)\n",
        "            recfile = StringIO(record)\n",
        "            rec = Medline.read(recfile)\n",
        "            if 'AB' in rec and 'AU' in rec and 'LID' in rec and 'TI' in rec:\n",
        "                if '10.' in rec['LID'] and ' [doi]' in rec['LID']:\n",
        "                    record_db['pm_'+id] = {}\n",
        "                    record_db['pm_'+id]['authors'] = ' '.join(rec['AU'])\n",
        "                    record_db['pm_'+id]['doi'] = '10.'+rec['LID'].split('10.')[1].split(' [doi]')[0]\n",
        "                    record_db['pm_'+id]['abstract'] = rec['AB']\n",
        "                    record_db['pm_'+id]['title'] = rec['TI']\n",
        "        except:\n",
        "            print(\"Problem trying to retrieve: \" + str(id))\n",
        "        \n",
        "    return record_db\n",
        "\n",
        "\n",
        "Entrez.email = 'pubmedkaggle@gmail.com'\n"
      ],
      "execution_count": 23,
      "outputs": []
    },
    {
      "cell_type": "code",
      "metadata": {
        "id": "jQ4oyXYCcuxl"
      },
      "source": [
        "def searchDatabase(question, keywords, pysearch, lucene_database, pm_kw = '', minDate='2019/12/01', k=10):\n",
        "    ## search the lucene database with a combination of the question and the keywords\n",
        "    searcher = pysearch.SimpleSearcher(lucene_database)\n",
        "    hits = searcher.search(question + '. ' + keywords, k=k)\n",
        "    n_hits = len(hits)\n",
        "    ## collect the relevant data in a hit dictionary\n",
        "    hit_dictionary = {}\n",
        "    for i in range(0, n_hits):\n",
        "        doc_json = json.loads(hits[i].raw)\n",
        "        idx = str(hits[i].docid)\n",
        "        hit_dictionary[idx] = doc_json\n",
        "        hit_dictionary[idx]['title'] = hits[i].lucene_document.get(\"title\")\n",
        "        hit_dictionary[idx]['authors'] = hits[i].lucene_document.get(\"authors\")\n",
        "        hit_dictionary[idx]['doi'] = hits[i].lucene_document.get(\"doi\")\n",
        "        \n",
        "    \n",
        "   \n",
        "    \n",
        "    ## scrub the abstracts in prep for BERT-SQuAD\n",
        "    for idx,v in hit_dictionary.items():\n",
        "        abs_dirty = v['abstract']\n",
        "        # looks like the abstract value can be an empty list\n",
        "        v['abstract_paragraphs'] = []\n",
        "        v['abstract_full'] = ''\n",
        "\n",
        "        if abs_dirty:\n",
        "            # looks like if it is a list, then the only entry is a dictionary wher text is in 'text' key\n",
        "            # looks like it is broken up by paragraph if it is in that form.  lets make lists for every paragraph\n",
        "            # and a new entry that is full abstract text as both could be valuable for BERT derrived QA\n",
        "\n",
        "\n",
        "            if isinstance(abs_dirty, list):\n",
        "                for p in abs_dirty:\n",
        "                    v['abstract_paragraphs'].append(p['text'])\n",
        "                    v['abstract_full'] += p['text'] + ' \\n\\n'\n",
        "\n",
        "            # looks like in some cases the abstract can be straight up text so we can actually leave that alone\n",
        "            if isinstance(abs_dirty, str):\n",
        "                v['abstract_paragraphs'].append(abs_dirty)\n",
        "                v['abstract_full'] += abs_dirty + ' \\n\\n'\n",
        "    ## Search collected abstracts with BERT-SQuAD\n",
        "    answers = searchAbstracts(hit_dictionary, question)\n",
        "    \n",
        "    ## display results in a nice format\n",
        "    displayResults(hit_dictionary, answers, question)\n",
        "\n",
        "    ## save results to json\n"
      ],
      "execution_count": 24,
      "outputs": []
    },
    {
      "cell_type": "code",
      "metadata": {
        "id": "1r2sB8z0apdX"
      },
      "source": [
        "workingPath = '/content/drive/My Drive/covid'\n",
        "import pandas as pd\n",
        "\n",
        "from IPython.core.display import display, HTML\n",
        "\n",
        "#from summarizer import Summarizer\n",
        "#summarizerModel = Summarizer()\n",
        "def displayResults(hit_dictionary, answers, question):\n",
        "    \n",
        "    question_HTML = '<div style=\"font-family: Times New Roman; font-size: 28px; padding-bottom:28px\"><b>Query</b>: '+question+'</div>'\n",
        "    #all_HTML_txt = question_HTML\n",
        "    confidence = list(answers.keys())\n",
        "    confidence.sort(reverse=True)\n",
        "    \n",
        "    confidence = list(answers.keys())\n",
        "    confidence.sort(reverse=True)\n",
        "    \n",
        "\n",
        "    for c in confidence:\n",
        "        if c>0 and c <= 1 and len(answers[c]['answer']) != 0:\n",
        "            if 'idx' not in  answers[c]:\n",
        "                continue\n",
        "            rowData = []\n",
        "            idx = answers[c]['idx']\n",
        "            title = hit_dictionary[idx]['title']\n",
        "            authors = hit_dictionary[idx]['authors'] + ' et al.'\n",
        "            doi = '<a href=\"https://doi.org/'+hit_dictionary[idx]['doi']+'\" target=\"_blank\">' + title +'</a>'\n",
        "\n",
        "            \n",
        "            full_abs = answers[c]['abstract_bert']\n",
        "            bert_ans = answers[c]['answer']\n",
        "            \n",
        "            \n",
        "            split_abs = full_abs.split(bert_ans)\n",
        "            sentance_beginning = split_abs[0][split_abs[0].rfind('.')+1:]\n",
        "            if len(split_abs) == 1:\n",
        "                sentance_end_pos = len(full_abs)\n",
        "                sentance_end =''\n",
        "            else:\n",
        "                sentance_end_pos = split_abs[1].find('. ')+1\n",
        "                if sentance_end_pos == 0:\n",
        "                    sentance_end = split_abs[1]\n",
        "                else:\n",
        "                    sentance_end = split_abs[1][:sentance_end_pos]\n",
        "                \n",
        "            #sentance_full = sentance_beginning + bert_ans+ sentance_end\n",
        "            answers[c]['full_answer'] = sentance_beginning+bert_ans+sentance_end\n",
        "            answers[c]['sentence_beginning'] = sentance_beginning\n",
        "            answers[c]['sentence_end'] = sentance_end\n",
        "            answers[c]['title'] = title\n",
        "            answers[c]['doi'] = doi\n",
        "            if 'pdfLink' in hit_dictionary[idx]:\n",
        "                answers[c]['pdfLink'] = hit_dictionary[idx]['pdfLink']\n",
        "                \n",
        "        else:\n",
        "            answers.pop(c)\n",
        "    \n",
        "    \n",
        "    ## now rerank based on semantic similarity of the answers to the question\n",
        "    cList = list(answers.keys())\n",
        "    allAnswers = [answers[c]['full_answer'] for c in cList]\n",
        "    \n",
        "    messages = [question]+allAnswers\n",
        "    \n",
        "    encoding_matrix = embed_fn(messages)\n",
        "    similarity_matrix = np.inner(encoding_matrix, encoding_matrix)\n",
        "    rankings = similarity_matrix[1:,0]\n",
        "    \n",
        "    for i,c in enumerate(cList):\n",
        "        answers[rankings[i]] = answers.pop(c)\n",
        "\n",
        "    ## now form pandas dv\n",
        "    confidence = list(answers.keys())\n",
        "    confidence.sort(reverse=True)\n",
        "    pandasData = []\n",
        "    ranked_aswers = []\n",
        "    for c in confidence:\n",
        "        rowData=[]\n",
        "        title = answers[c]['title']\n",
        "        doi = answers[c]['doi']\n",
        "        idx = answers[c]['idx']\n",
        "        rowData += [idx]            \n",
        "        sentance_html = '<div>' +answers[c]['sentence_beginning'] + \" <font color='red'>\"+answers[c]['answer']+\"</font> \"+answers[c]['sentence_end']+'</div>'\n",
        "        \n",
        "        rowData += [sentance_html, c, doi]\n",
        "        pandasData.append(rowData)\n",
        "        ranked_aswers.append(' '.join([answers[c]['full_answer']]))\n",
        "    \n",
        "    if FIND_PDFS or SEARCH_MEDRXIV:\n",
        "        pdata2 = []\n",
        "        for rowData in pandasData:\n",
        "            rd = rowData\n",
        "            idx = rowData[0]\n",
        "            if 'pdfLink' in answers[rowData[2]]:\n",
        "                rd += ['<a href=\"'+answers[rowData[2]]['pdfLink']+'\" target=\"_blank\">PDF Link</a>']\n",
        "            elif FIND_PDFS:\n",
        "                if str(idx).startswith('pm_'):\n",
        "                    pmid = idx[3:]\n",
        "                else:\n",
        "                    try:\n",
        "                        test = UrlReverse('https://doi.org/'+hit_dictionary[idx]['doi'])\n",
        "                        if test is not None:\n",
        "                            pmid = test.pmid\n",
        "                        else:\n",
        "                            pmid = None\n",
        "                    except:\n",
        "                        pmid = None\n",
        "                pdfLink = None\n",
        "                if pmid is not None:\n",
        "                    try:\n",
        "                        pdfLink = FindIt(str(pmid))\n",
        "                    except:\n",
        "                        pdfLink = None\n",
        "                if pdfLink is not None:\n",
        "                    pdfLink = pdfLink.url\n",
        "\n",
        "                if pdfLink is None:\n",
        "\n",
        "                    rd += ['Not Available']\n",
        "                else:\n",
        "                    rd += ['<a href=\"'+pdfLink+'\" target=\"_blank\">PDF Link</a>']\n",
        "            else:\n",
        "                rd += ['Not Available']\n",
        "            pdata2.append(rowData)\n",
        "    else:\n",
        "        pdata2 = pandasData\n",
        "        \n",
        "    \n",
        "    display(HTML(question_HTML))\n",
        "    \n",
        "    if USE_SUMMARY:\n",
        "        ## try generating an exacutive summary with extractive summarizer\n",
        "        allAnswersTxt = ' '.join(ranked_aswers[:6]).replace('\\n','')\n",
        "    #    exec_sum = summarizerModel(allAnswersTxt, min_length=1, max_length=500)    \n",
        "     #   execSum_HTML = '<div style=\"font-family: Times New Roman; font-size: 18px; padding-bottom:18px\"><b>BERT Extractive Summary:</b>: '+exec_sum+'</div>'\n",
        "\n",
        "        answers_input_ids = SUMMARY_TOKENIZER.batch_encode_plus([allAnswersTxt], return_tensors='pt', max_length=1024)['input_ids'].to(torch_device)\n",
        "        summary_ids = SUMMARY_MODEL.generate(answers_input_ids,\n",
        "                                               num_beams=10,\n",
        "                                               length_penalty=1.2,\n",
        "                                               max_length=1024,\n",
        "                                               min_length=64,\n",
        "                                               no_repeat_ngram_size=4)\n",
        "\n",
        "        exec_sum = SUMMARY_TOKENIZER.decode(summary_ids.squeeze(), skip_special_tokens=True)\n",
        "        execSum_HTML = '<div style=\"font-family: Times New Roman; font-size: 18px; margin-bottom:1pt\"><b>BART Abstractive Summary:</b>: '+exec_sum+'</div>'\n",
        "        display(HTML(execSum_HTML))\n",
        "        warning_HTML = '<div style=\"font-family: Times New Roman; font-size: 12px; padding-bottom:12px; color:#CCCC00; margin-top:1pt\"> Warning this is an autogenerated summary based on semantic search of abstracts, always examine the sources before accepting this conclusion.  If the evidence only mentions topic in passing or the evidence is not clear, the summary will likely not clearly answer the question.</div>'\n",
        "        display(HTML(warning_HTML))\n",
        "\n",
        "#    display(HTML('<div style=\"font-family: Times New Roman; font-size: 18px; padding-bottom:18px\"><b>Body of Evidence:</b></div>'))\n",
        "    \n",
        "    if FIND_PDFS or SEARCH_MEDRXIV:\n",
        "        df = pd.DataFrame(pdata2, columns = ['Lucene ID', 'BERT-SQuAD Answer with Highlights', 'Confidence', 'Title/Link','PDF Link'])\n",
        "    else:\n",
        "        df = pd.DataFrame(pdata2, columns = ['Lucene ID', 'BERT-SQuAD Answer with Highlights', 'Confidence', 'Title/Link'])\n",
        "        \n",
        "    display(HTML(df.to_html(render_links=True, escape=False)))\n",
        "    \n",
        "#displayResults(hit_dictionary, answers, query)"
      ],
      "execution_count": 25,
      "outputs": []
    },
    {
      "cell_type": "code",
      "metadata": {
        "id": "dJ5c8Ekxa1sn",
        "outputId": "0c51f72a-1d15-44aa-937b-7d7a9a4d07a7",
        "colab": {
          "base_uri": "https://localhost:8080/",
          "height": 853
        }
      },
      "source": [
        "displayResults(hit_dictionary, answers, query)"
      ],
      "execution_count": 26,
      "outputs": [
        {
          "output_type": "display_data",
          "data": {
            "text/html": [
              "<div style=\"font-family: Times New Roman; font-size: 28px; padding-bottom:28px\"><b>Query</b>: Which non-pharmaceutical interventions limit tramsission</div>"
            ],
            "text/plain": [
              "<IPython.core.display.HTML object>"
            ]
          },
          "metadata": {
            "tags": []
          }
        },
        {
          "output_type": "stream",
          "text": [
            "Truncation was not explicitely activated but `max_length` is provided a specific value, please use `truncation=True` to explicitely truncate examples to max length. Defaulting to 'longest_first' truncation strategy. If you encode pairs of sequences (GLUE-style) with the tokenizer you can select this strategy more precisely by providing a specific strategy to `truncation`.\n"
          ],
          "name": "stderr"
        },
        {
          "output_type": "display_data",
          "data": {
            "text/html": [
              "<div style=\"font-family: Times New Roman; font-size: 18px; margin-bottom:1pt\"><b>BART Abstractive Summary:</b>: Public health resorted to non-pharmaceutical interventions such as social distancing and lockdown to slow down the spread of the pandemic. Social distancing measures are considered to be critical in order to at least delay the peak number of infected individuals and to prevent the health care system becoming overwhelmed by the number of patients to treat in hospitals or in intensive care units.</div>"
            ],
            "text/plain": [
              "<IPython.core.display.HTML object>"
            ]
          },
          "metadata": {
            "tags": []
          }
        },
        {
          "output_type": "display_data",
          "data": {
            "text/html": [
              "<div style=\"font-family: Times New Roman; font-size: 12px; padding-bottom:12px; color:#CCCC00; margin-top:1pt\"> Warning this is an autogenerated summary based on semantic search of abstracts, always examine the sources before accepting this conclusion.  If the evidence only mentions topic in passing or the evidence is not clear, the summary will likely not clearly answer the question.</div>"
            ],
            "text/plain": [
              "<IPython.core.display.HTML object>"
            ]
          },
          "metadata": {
            "tags": []
          }
        },
        {
          "output_type": "display_data",
          "data": {
            "text/html": [
              "<table border=\"1\" class=\"dataframe\">\n",
              "  <thead>\n",
              "    <tr style=\"text-align: right;\">\n",
              "      <th></th>\n",
              "      <th>Lucene ID</th>\n",
              "      <th>BERT-SQuAD Answer with Highlights</th>\n",
              "      <th>Confidence</th>\n",
              "      <th>Title/Link</th>\n",
              "      <th>PDF Link</th>\n",
              "    </tr>\n",
              "  </thead>\n",
              "  <tbody>\n",
              "    <tr>\n",
              "      <th>0</th>\n",
              "      <td>kqntu6ej</td>\n",
              "      <td><div> in impact of non-pharmaceutical interventions (npis) to  <font color='red'>reduce covid-19 mortality and healthcare demand</font> , imperial college covid-19 response team, london, 2020.</div></td>\n",
              "      <td>0.514955</td>\n",
              "      <td><a href=\"https://doi.org/10.1007/s11538-020-00726-x\" target=\"_blank\">Commentary on Ferguson, et al., “Impact of Non-pharmaceutical Interventions (NPIs) to Reduce COVID-19 Mortality and Healthcare Demand”</a></td>\n",
              "      <td>Not Available</td>\n",
              "    </tr>\n",
              "    <tr>\n",
              "      <th>1</th>\n",
              "      <td>vy1mu04l</td>\n",
              "      <td><div>much of the uncertainty about the progression of the covid-19 pandemic stems from questions about when and how non-pharmaceutical interventions (npi) by governments, in  <font color='red'>particular social distancing measures</font> , are implemented, to what extent the population complies with these measures, and how compliance changes through time.</div></td>\n",
              "      <td>0.436335</td>\n",
              "      <td><a href=\"https://doi.org/10.1101/2020.03.30.20047597\" target=\"_blank\">How will this continue? Modelling interactions between the COVID-19 pandemic and policy responses</a></td>\n",
              "      <td>Not Available</td>\n",
              "    </tr>\n",
              "    <tr>\n",
              "      <th>2</th>\n",
              "      <td>swcq2wfl</td>\n",
              "      <td><div> public health resorted to non-pharmaceutical interventions such  <font color='red'>as social distancing and lockdown</font>  to slow down the spread of the pandemic.</div></td>\n",
              "      <td>0.362183</td>\n",
              "      <td><a href=\"https://doi.org/10.1101/2020.04.05.20054460\" target=\"_blank\">A hybrid multi-scale model of COVID-19 transmission dynamics to assess the potential of non-pharmaceutical interventions</a></td>\n",
              "      <td>Not Available</td>\n",
              "    </tr>\n",
              "    <tr>\n",
              "      <th>3</th>\n",
              "      <td>0uzma5vr</td>\n",
              "      <td><div> npis are considered to be critical in order to at  <font color='red'>least delay the peak number of infected individuals</font>  and to prevent the health care system becoming overwhelmed by the number of patients to treat in hospitals or in intensive care units (icus).</div></td>\n",
              "      <td>0.360318</td>\n",
              "      <td><a href=\"https://doi.org/10.1101/2020.04.04.20053637\" target=\"_blank\">Estimate of the development of the epidemic reproduction number Rt from Coronavirus SARS-CoV-2 case data and implications for political measures based on prognostics</a></td>\n",
              "      <td>Not Available</td>\n",
              "    </tr>\n",
              "    <tr>\n",
              "      <th>4</th>\n",
              "      <td>cnmijcwv</td>\n",
              "      <td><div> the model found that desire, perceived behavioral control, frequency of past behavior, and non-pharmaceutical interventions predicted tourists ' intention  <font color='red'>but perceptions of 2009 h1n1 had nil effect on desire and intention</font> .</div></td>\n",
              "      <td>0.308177</td>\n",
              "      <td><a href=\"https://doi.org/10.1016/j.tourman.2011.02.006\" target=\"_blank\">The impact of non-pharmaceutical interventions for 2009 H1N1 influenza on travel intentions: A model of goal-directed behavior</a></td>\n",
              "      <td>Not Available</td>\n",
              "    </tr>\n",
              "    <tr>\n",
              "      <th>5</th>\n",
              "      <td>jtwb17u8</td>\n",
              "      <td><div> historical and near-real time human movement data, obtained from baidu location-based service, were used to derive the intensity  <font color='red'>of travel restrictions</font>  and contact reductions across china.</div></td>\n",
              "      <td>0.204339</td>\n",
              "      <td><a href=\"https://doi.org/10.1101/2020.03.03.20029843\" target=\"_blank\">Effect of non-pharmaceutical interventions for containing the COVID-19 outbreak in China</a></td>\n",
              "      <td>Not Available</td>\n",
              "    </tr>\n",
              "    <tr>\n",
              "      <th>6</th>\n",
              "      <td>velir6gb</td>\n",
              "      <td><div>, using a thermometer, wearing a face mask)  <font color='red'>and inadequate hand washing and household disinfection practices</font> .</div></td>\n",
              "      <td>0.171863</td>\n",
              "      <td><a href=\"https://doi.org/10.1186/1471-2458-14-665\" target=\"_blank\">Pandemic preparedness: perceptions of vulnerable migrants in Thailand towards WHO-recommended non-pharmaceutical interventions: a cross-sectional study</a></td>\n",
              "      <td>Not Available</td>\n",
              "    </tr>\n",
              "  </tbody>\n",
              "</table>"
            ],
            "text/plain": [
              "<IPython.core.display.HTML object>"
            ]
          },
          "metadata": {
            "tags": []
          }
        }
      ]
    },
    {
      "cell_type": "markdown",
      "metadata": {
        "id": "uV0cRM0ocSHA"
      },
      "source": [
        "Define All The Questions"
      ]
    },
    {
      "cell_type": "code",
      "metadata": {
        "id": "NWUsQfTWcQHw"
      },
      "source": [
        "all_topics=[\n",
        "    'What is known about transmission, incubation, and environmental stability?',\n",
        "    'What do we know about COVID-19 risk factors?',\n",
        "    'What do we know about virus genetics, origin, and evolution?',\n",
        "    'What do we know about vaccines and therapeutics?',\n",
        "    'What do we know about non-pharmaceutical interventions?',\n",
        "    'What has been published about medical care?',\n",
        "    'What do we know about diagnostics and surveillance?'\n",
        "    'What has been published about information sharing and inter-sectoral collaboration?',\n",
        "    'What has been published about ethical and social science considerations?'\n",
        "]\n",
        "topic_area = {}\n",
        "\n",
        "#0\n",
        "#What is known about transmission, incubation, and environmental stability?\n",
        "question_list = []\n",
        "kw_list = []\n",
        "pm_kw_list = []\n",
        "question_list.append(\"Is the virus transmitted by aerisol, droplets, food, close contact, fecal matter, or water\")\n",
        "kw_list.append(\"2019-nCoV,SARS-CoV-2, COVID-19, coronavirus, novel coronavirus, person to person, human to human, interpersonal contact, air, water,fecal, surfaces, aerisol, transmission, shedding\")\n",
        "pm_kw_list.append(\"2019-nCoV, transmission, shedding\")\n",
        "\n",
        "question_list.append( \"How long is the incubation period for the virus\")\n",
        "kw_list.append(\"2019-nCoV, SARS-CoV-2, COVID-19, coronavirus, novel coronavirus, hours, days, period\")\n",
        "pm_kw_list.append(\"2019-nCoV, incubation period\")\n",
        "\n",
        "question_list.append(\"Can the virus be transmitted asymptomatically or during the incubation period\")\n",
        "kw_list.append(\"2019-nCoV, COVID-19, coronavirus, novel coronavirus, asymptomatic, person to person, human to human, transmission\")\n",
        "pm_kw_list.append(\"2019-nCoV, asymptomatic, transmission\")\n",
        "\n",
        "question_list.append(\"What is the quantity of asymptomatic shedding\")\n",
        "kw_list.append(\"2019-nCoV, SARS-CoV-2, COVID-19, asymptomatic, shedding, percentage, rate, quantity, pediatric\")\n",
        "pm_kw_list.append(\"2019-nCoV, asymptomatic, shedding\")\n",
        "\n",
        "question_list.append(\"How does temperature and humidity affect the tramsmission of 2019-nCoV\")\n",
        "kw_list.append(\"2019-nCoV, COVID-19, coronavirus, novel coronavirus, temperature, humidity\")\n",
        "pm_kw_list.append(\"2019-nCoV, temperature, humidity\")\n",
        "\n",
        "question_list.append(\"How long can 2019-nCoV remain viable on inanimate, environmental, or common surfaces\")\n",
        "kw_list.append(\"2019-nCoV, SARS-CoV-2, COVID-19, inanimate, environmental, touch, copper, plastic, steel, wood, fabric, glass, porous, nonporous\")\n",
        "pm_kw_list.append(\"2019-nCoV, surface\")\n",
        "\n",
        "question_list.append(\"What types of inanimate or environmental surfaces affect transmission, survival, or  inactivation of 2019-nCov\")\n",
        "kw_list.append(\"2019-nCoV, SARS-CoV-2, COVID-19, inanimate, environmental, touch, copper, plastic, steel, wood, fabric, glass, porous, nonporous\")\n",
        "pm_kw_list.append(\"2019-nCoV, surface\")\n",
        "\n",
        "question_list.append(\"Can the virus be found in nasal discharge, sputum, urine, fecal matter, or blood\")\n",
        "kw_list.append(\"2019-nCoV, SARS-CoV-2, COVID-19, shedding, body fluid\")\n",
        "pm_kw_list.append(\"2019-nCoV, body fluids\")\n",
        "\n",
        "topic_area['What is known about transmission, incubation, and environmental stability?'] = list(zip(question_list,kw_list, pm_kw_list))\n",
        "\n",
        "\n",
        "\n",
        "#1\n",
        "#What do we know about COVID-19 risk factors?\n",
        "question_list = []\n",
        "kw_list = []\n",
        "pm_kw_list = []\n",
        "question_list.append(\"What risk factors contribute to the severity of 2019-nCoV\")\n",
        "kw_list.append(\"2019-nCoV, SARS-CoV-2, COVID-19, coronavirus, novel coronavirus, susceptible, smoking, smoker, neonates, pregnant, socio-economic, behavioral, age, elderly, young, old, children\")\n",
        "pm_kw_list.append(\"2019-nCoV, risk factors\")\n",
        "\n",
        "question_list.append(\"How does hypertension affect patients\")\n",
        "kw_list.append(\"2019-nCoV, SARS-CoV-2, COVID-19, hypertension, blood pressure, comorbidity\")\n",
        "pm_kw_list.append(\"2019-nCoV, hypertension, comorbidity\")\n",
        "\n",
        "question_list.append(\"How does heart disease affect patients\")\n",
        "kw_list.append(\"2019-nCoV, SARS-CoV-2, COVID-19, heart disease, comorbidity\")\n",
        "pm_kw_list.append(\"2019-nCoV, heart disease, comorbidity\")\n",
        "\n",
        "question_list.append(\"How does copd affect patients\")\n",
        "kw_list.append(\"2019-nCoV, SARS-CoV-2, COVID-19, copd, chronic obstructive pulmonary disease\")\n",
        "pm_kw_list.append(\"2019-nCoV, copd, chronic obstructive pulmonary disease\")\n",
        "\n",
        "question_list.append(\"How does smoking affect 2019-nCoV patients\")\n",
        "kw_list.append(\"2019-nCoV, SARS-CoV-2, COVID-19, smoking, smoker\")\n",
        "pm_kw_list.append(\"2019-nCoV, smoking, smoker\")\n",
        "\n",
        "question_list.append(\"How does pregnancy affect patients\")\n",
        "kw_list.append(\"2019-nCoV, SARS-CoV-2, COVID-19, pregnant, pregnancy\")\n",
        "pm_kw_list.append(\"2019-nCoV, pregnant, pregnancy\")\n",
        "\n",
        "question_list.append(\"What are the case fatality rates for 2019-nCoV patients\")\n",
        "kw_list.append(\"2019-nCoV, SARS-CoV-2, COVID-19, coronavirus, novel coronavirus, fatality rate\")\n",
        "pm_kw_list.append(\"2019-nCoV, fatality, statistics, death\")\n",
        "\n",
        "question_list.append(\"What is the case fatality rate in Italy\")\n",
        "kw_list.append(\"2019-nCoV, SARS-CoV-2, COVID-19, coronavirus, novel coronavirus, fatality rate, Italy\")\n",
        "pm_kw_list.append(\"2019-nCoV, fatality, statistics, death\")\n",
        "\n",
        "question_list.append(\"What public health policies prevent or control the spread of 2019-nCoV\")\n",
        "kw_list.append(\"2019-nCoV, SARS-CoV-2, COVID-19, coronavirus, novel coronavirus, guidance, prevention measures, public health, community, prevention, administration, government, health department, policy, control measures, travel\")\n",
        "pm_kw_list.append(\"2019-nCoV, guidance, public health,  policy, control measures\")\n",
        "\n",
        "topic_area['What do we know about COVID-19 risk factors?'] = list(zip(question_list,kw_list, pm_kw_list))\n",
        "\n",
        "\n",
        "#2\n",
        "#What do we know about virus genetics, origin, and evolution?\n",
        "question_list = []\n",
        "kw_list = []\n",
        "pm_kw_list = []\n",
        "question_list.append(\"Can animals transmit 2019-nCoV\")\n",
        "kw_list.append(\"2019-nCoV, SARS-CoV-2, COVID-19, coronavirus, novel coronavirus, animals, zoonotic, farm, spillover, animal to human, human to animal, reservoir\")\n",
        "pm_kw_list.append(\"2019-nCoV, spillover, reservoir\")\n",
        "\n",
        "question_list.append(\"What animal did 2019-nCoV come from\")\n",
        "kw_list.append(\"2019-nCoV, SARS-CoV-2, COVID-19, coronavirus, novel coronavirus, animals, zoonotic, farm, spillover, animal to human, bats, snakes, exotic animals\")\n",
        "pm_kw_list.append(\"2019-nCoV, zoonotic\")\n",
        "\n",
        "question_list.append(\"What real-time genomic tracking tools exist\")\n",
        "kw_list.append(\"2019-nCoV, SARS-CoV-2, COVID-19, coronavirus, novel coronavirus, real-time, gene, typing, tracking, software, reporting\")\n",
        "pm_kw_list.append('\"2019-nCoV, real-time, genomic, tracking')\n",
        "\n",
        "question_list.append(\"What regional genetic variations (mutations) exist\")\n",
        "kw_list.append(\"2019-nCoV, SARS-CoV-2, COVID-19, coronavirus, novel coronavirus, geography, region, genome, mutations\")\n",
        "pm_kw_list.append(\"2019-nCoV, geneome, region\")\n",
        "\n",
        "question_list.append(\"What effors are being done in asia to prevent further outbreaks\")\n",
        "kw_list.append(\"2019-nCoV, SARS-CoV-2, COVID-19, surveylance, wildlife, livestock, monitoring, asia, prevent, prevention, outbreaks\")\n",
        "pm_kw_list.append(\"2019-nCoV, surveylance\")\n",
        "\n",
        "question_list.append(\"What is the weighted prevalence of sars-cov-2 or covid-19 in general population\")\n",
        "kw_list.append(\"2019-nCoV, sars-cov-2, covid-19\")\n",
        "pm_kw_list.append(\"antibody, prevalence, COVID-19\")\n",
        "\n",
        "topic_area['What do we know about virus genetics, origin, and evolution?'] = list(zip(question_list,kw_list, pm_kw_list))\n",
        "\n",
        "#3\n",
        "#What do we know about vaccines and therapeutics?\n",
        "question_list = []\n",
        "kw_list = []\n",
        "pm_kw_list = []\n",
        "\n",
        "question_list.append(\"Does the presense neutralizing antibodies correlate to disease protection\")\n",
        "kw_list.append(\"2019-nCoV, sars-cov-2, covid-19\")\n",
        "pm_kw_list.append(\"sars-cov-2, neutralizing antibody\")\n",
        "\n",
        "question_list.append(\"What drugs or therapies are being investigated\")\n",
        "kw_list.append(\"2019-nCoV,  COVID-19, coronavirus, novel coronavirus, drug, antiviral, testing, clinical trial, study\")\n",
        "pm_kw_list.append(\"2019-nCoV,  drug, therapy\")\n",
        "\n",
        "question_list.append(\"What clinical trials for hydroxychloroquine have been completed\")\n",
        "kw_list.append(\"2019-nCoV, SARS-CoV-2, COVID-19, hydroxychloroquine, clinical trial\")\n",
        "pm_kw_list.append(\"2019-nCoV, hydroxychloroquine\")\n",
        "\n",
        "question_list.append(\"What antiviral drug clinical trials have been completed\")\n",
        "kw_list.append(\"2019-nCoV, SARS-CoV-2, COVID-19, clinical trial\")\n",
        "pm_kw_list.append(\"2019-nCoV, antiviral\")\n",
        "\n",
        "question_list.append(\"Are anti-inflammatory drugs recommended\")\n",
        "kw_list.append(\"2019-nCoV, SARS-CoV-2, COVID-19, coronavirus, novel coronavirus, ibuprofen, advil, NSAID, anti-inflamatory, treatment\")\n",
        "pm_kw_list.append('2019-nCoV, ibuprofen, NSAID')\n",
        "\n",
        "topic_area['What do we know about vaccines and therapeutics?'] = list(zip(question_list,kw_list, pm_kw_list))\n",
        "\n",
        "\n",
        "#4\n",
        "#What do we know about non-pharmaceutical interventions?\n",
        "question_list = []\n",
        "kw_list = []\n",
        "pm_kw_list = []\n",
        "question_list.append(\"Which non-pharmaceutical interventions limit tramsission\")\n",
        "kw_list.append(\"2019-nCoV, SARS-CoV-2, COVID-19, non-pharmaceutical interventions, npi\")\n",
        "pm_kw_list.append(\"2019-nCoV, npi\")\n",
        "\n",
        "question_list.append(\"What are most important barriers to compliance\")\n",
        "kw_list.append(\"2019-nCoV, SARS-CoV-2, COVID-19, non-pharmaceutical interventions, npi\")\n",
        "pm_kw_list.append('2019-nCoV, npi, barrier to compliance')\n",
        "\n",
        "topic_area['What do we know about non-pharmaceutical interventions?'] = list(zip(question_list,kw_list, pm_kw_list))\n",
        "\n",
        "#5\n",
        "#What has been published about medical care?\n",
        "question_list = []\n",
        "kw_list = []\n",
        "pm_kw_list = []\n",
        "question_list.append(\"How does extracorporeal membrane oxygenation affect 2019-nCoV patients\")\n",
        "kw_list.append(\"2019-nCoV, SARS-CoV-2, COVID-19, extracorporeal membrane oxygenation, ecmo\")\n",
        "pm_kw_list.append('2019-nCoV, ecmo')\n",
        "\n",
        "question_list.append(\"What telemedicine and cybercare methods are most effective\")\n",
        "kw_list.append(\"2019-nCoV, SARS-CoV-2, COVID-19, coronavirus, novel coronavirus, telemedicine, 5G, cell phone, cyber, cybercare, information technolog, remote, over the phone, internet, web\")\n",
        "pm_kw_list.append('2019-nCoV, telemedicine, cybercare')\n",
        "\n",
        "question_list.append(\"How is artificial intelligence being used in real time health delivery\")\n",
        "kw_list.append(\"2019-nCoV, ai, real-time\")\n",
        "pm_kw_list.append('')\n",
        "\n",
        "question_list.append(\"What adjunctive or supportive methods can help patients\")\n",
        "kw_list.append(\"2019-nCoV, SARS-CoV-2, COVID-19, adjunctive, supportive\")\n",
        "pm_kw_list.append('')\n",
        "\n",
        "topic_area['What has been published about medical care?'] = list(zip(question_list,kw_list, pm_kw_list))\n",
        "\n",
        "#6\n",
        "#What do we know about diagnostics and surveillance?\n",
        "question_list = []\n",
        "kw_list = []\n",
        "pm_kw_list = []\n",
        "question_list.append(\"What diagnostic tests (tools) exist or are being developed to detect 2019-nCoV\")\n",
        "kw_list.append(\"2019-nCoV, SARS-CoV-2, COVID-19, coronavirus, novel coronavirus, diagnosis, tools, detetion\")\n",
        "pm_kw_list.append('2019-nCoV, diagnostic, tools, detetion')\n",
        "\n",
        "question_list.append(\"What is being done to increase testing capacity or throughput\")\n",
        "kw_list.append(\"2019-nCoV, sars-cov-2, covid-19, diagnostic, testing, throughput\")\n",
        "pm_kw_list.append(\"2019-nCoV, testing capacity OR throughput\")\n",
        "\n",
        "question_list.append(\"What point of care tests are exist or are being developed\")\n",
        "kw_list.append(\"2019-nCoV, sars-cov-2, covid-19\")\n",
        "pm_kw_list.append(\"2019-nCoV, point-of-care\")\n",
        "\n",
        "question_list.append(\"What is the minimum viral load for detection\")\n",
        "kw_list.append(\"2019-nCoV, sars-cov-2, covid-19\")\n",
        "pm_kw_list.append(\"2019-nCoV, viral load\")\n",
        "\n",
        "question_list.append(\"What markers are used to detect or track COVID-19\")\n",
        "kw_list.append(\"2019-nCoV, sars-cov-2, covid-19\")\n",
        "pm_kw_list.append(\"2019-nCoV, markers\")\n",
        "\n",
        "topic_area['What do we know about diagnostics and surveillance?'] = list(zip(question_list,kw_list, pm_kw_list))\n",
        "\n",
        "\n",
        "\n",
        "#7\n",
        "#What has been published about information sharing and inter-sectoral collaboration?\n",
        "question_list = []\n",
        "kw_list = []\n",
        "pm_kw_list = []\n",
        "question_list.append('What collaborations are happening within the research community')\n",
        "kw_list.append('inter-sectorial, international, collaboration, global, coronavirus, novel coronavirus, sharing')\n",
        "pm_kw_list.append('2019-nCoV, collaboration, sharing')\n",
        "\n",
        "question_list.append(\"What communication strategies are effective for high risk populations\")\n",
        "kw_list.append(\"2019-nCoV, sars-cov-2, covid-19\")\n",
        "pm_kw_list.append(\"2019-nCoV, communication, at risk\")\n",
        "\n",
        "topic_area['What has been published about information sharing and inter-sectoral collaboration?'] = list(zip(question_list,kw_list, pm_kw_list))\n",
        "\n",
        "\n",
        "#8\n",
        "#What has been published about ethical and social science considerations?\n",
        "question_list = []\n",
        "kw_list = []\n",
        "pm_kw_list = []\n",
        "\n",
        "question_list.append(\"What are the major ethical issues related pandemic outbreaks\")\n",
        "kw_list.append(\"ehtics, pandemic\")\n",
        "pm_kw_list.append(\"ethics, pandemic\")\n",
        "\n",
        "question_list.append(\"How do pandemics affect the physical and/or psychological health of doctors and nurses\")\n",
        "kw_list.append(\"2019-nCoV, sars-cov-2, covid-19, caregivers, health care workers\")\n",
        "pm_kw_list.append(\"2019-nCoV, physical OR psychological\")\n",
        "\n",
        "question_list.append(\"What strategies can help doctors and nurses cope with stress in a pandemic\")\n",
        "kw_list.append(\"2019-nCoV, sars-cov-2, covid-19, caregivers, health care workers\")\n",
        "pm_kw_list.append(\"2019-nCoV, physical OR psychological\")\n",
        "\n",
        "question_list.append(\"What factors contribute to rumors and misinformation\")\n",
        "kw_list.append(\"2019-nCoV, sars-cov-2, covid-19, social media\")\n",
        "pm_kw_list.append(\"2019-nCoV, misinformation OR social media\")\n",
        "\n",
        "topic_area['What has been published about ethical and social science considerations?'] = list(zip(question_list,kw_list, pm_kw_list))\n",
        "\n",
        "\n",
        "\n",
        "#-1\n",
        "# Other interesting Questions\n",
        "question_list = []\n",
        "kw_list = []\n",
        "pm_kw_list = []\n",
        "question_list.append(\"What is the immune system response to 2019-nCoV\")\n",
        "kw_list.append(\"2019-nCoV, SARS-CoV-2, COVID-19, coronavirus, novel coronavirus, immune, immune system, response, immunity, antibodies\")\n",
        "pm_kw_list.append('2019-nCoV, immune system, immunity, antibodie')\n",
        "\n",
        "question_list.append(\"Can personal protective equipment prevent the transmission of 2019-nCoV\")\n",
        "kw_list.append(\"2019-nCoV, SARS-CoV-2, COVID-19, coronavirus, novel coronavirus, ppe, masks, gloves, face shields, gown, eye protection\")\n",
        "pm_kw_list.append('2019-nCoV, ppe')\n",
        "\n",
        "question_list.append(\"Can 2019-nCoV infect patients a second time\")\n",
        "kw_list.append(\"2019-nCoV, SARS-CoV-2, COVID-19, coronavirus, novel coronavirus, reinfected, multiple infections, second time, permenant immunity\")\n",
        "pm_kw_list.append('2019-nCoV, reinfected')\n",
        "\n",
        "topic_area['Other interesting Questions'] = list(zip(question_list,kw_list, pm_kw_list))\n",
        "\n",
        "\n",
        "def runAllQuestionsByTopic(topic_dict, topic_name):\n",
        "    for q,kw, pm_kw in topic_dict[topic_name]:\n",
        "        if q:\n",
        "            searchDatabase(q, kw, pysearch, luceneDir, pm_kw=pm_kw, minDate=minDate)"
      ],
      "execution_count": 27,
      "outputs": []
    },
    {
      "cell_type": "code",
      "metadata": {
        "id": "Nloc77XOcb_u",
        "outputId": "3c65b256-839b-4e17-9c2a-813c2463d01d",
        "colab": {
          "base_uri": "https://localhost:8080/",
          "height": 1000
        }
      },
      "source": [
        "question_list = []\n",
        "kw_list = []\n",
        "pm_kw_list=[]\n",
        "\n",
        "question_list.append(\"What is the weighted prevalence of sars-cov-2 or covid-19 in general population\")\n",
        "kw_list.append(\"2019-nCoV, sars-cov-2, covid-19\")\n",
        "pm_kw_list.append(\"antibody, prevalence, COVID-19\")\n",
        "\n",
        "\n",
        "searchDatabase(question_list[0], kw_list[0], pysearch, luceneDir, pm_kw=pm_kw_list[0], minDate='2020/01/01', k=20)"
      ],
      "execution_count": 28,
      "outputs": [
        {
          "output_type": "stream",
          "text": [
            " 70%|███████   | 14/20 [00:00<00:00, 19.09it/s]Token indices sequence length is longer than the specified maximum sequence length for this model (548 > 512). Running this sequence through the model will result in indexing errors\n",
            "100%|██████████| 20/20 [00:01<00:00, 18.00it/s]\n"
          ],
          "name": "stderr"
        },
        {
          "output_type": "display_data",
          "data": {
            "text/html": [
              "<div style=\"font-family: Times New Roman; font-size: 28px; padding-bottom:28px\"><b>Query</b>: What is the weighted prevalence of sars-cov-2 or covid-19 in general population</div>"
            ],
            "text/plain": [
              "<IPython.core.display.HTML object>"
            ]
          },
          "metadata": {
            "tags": []
          }
        },
        {
          "output_type": "stream",
          "text": [
            "Truncation was not explicitely activated but `max_length` is provided a specific value, please use `truncation=True` to explicitely truncate examples to max length. Defaulting to 'longest_first' truncation strategy. If you encode pairs of sequences (GLUE-style) with the tokenizer you can select this strategy more precisely by providing a specific strategy to `truncation`.\n"
          ],
          "name": "stderr"
        },
        {
          "output_type": "display_data",
          "data": {
            "text/html": [
              "<div style=\"font-family: Times New Roman; font-size: 18px; margin-bottom:1pt\"><b>BART Abstractive Summary:</b>: An outbreak of a novel coronavirus (sars-cov-2)-infected pneumonia was first occurred in wuhan, china, in december 2019 and then spread rapidly to 35 other regions. By press time, more than 70,000 infected people had been confirmed worldwide. adults represent the population with the highest infection rate.</div>"
            ],
            "text/plain": [
              "<IPython.core.display.HTML object>"
            ]
          },
          "metadata": {
            "tags": []
          }
        },
        {
          "output_type": "display_data",
          "data": {
            "text/html": [
              "<div style=\"font-family: Times New Roman; font-size: 12px; padding-bottom:12px; color:#CCCC00; margin-top:1pt\"> Warning this is an autogenerated summary based on semantic search of abstracts, always examine the sources before accepting this conclusion.  If the evidence only mentions topic in passing or the evidence is not clear, the summary will likely not clearly answer the question.</div>"
            ],
            "text/plain": [
              "<IPython.core.display.HTML object>"
            ]
          },
          "metadata": {
            "tags": []
          }
        },
        {
          "output_type": "display_data",
          "data": {
            "text/html": [
              "<table border=\"1\" class=\"dataframe\">\n",
              "  <thead>\n",
              "    <tr style=\"text-align: right;\">\n",
              "      <th></th>\n",
              "      <th>Lucene ID</th>\n",
              "      <th>BERT-SQuAD Answer with Highlights</th>\n",
              "      <th>Confidence</th>\n",
              "      <th>Title/Link</th>\n",
              "      <th>PDF Link</th>\n",
              "    </tr>\n",
              "  </thead>\n",
              "  <tbody>\n",
              "    <tr>\n",
              "      <th>0</th>\n",
              "      <td>pth2d40p</td>\n",
              "      <td><div>  <font color='red'>adults represent the population with the highest infection rate</font>  ; however, neonates, (p.-r.</div></td>\n",
              "      <td>0.517242</td>\n",
              "      <td><a href=\"https://doi.org/10.1016/j.jmii.2020.02.012\" target=\"_blank\">Asymptomatic carrier state, acute respiratory disease, and pneumonia due to severe acute respiratory syndrome coronavirus 2 (SARSCoV-2): Facts and myths</a></td>\n",
              "      <td>Not Available</td>\n",
              "    </tr>\n",
              "    <tr>\n",
              "      <th>1</th>\n",
              "      <td>ejg393zs</td>\n",
              "      <td><div> the case fatality rate in patients infected with sarc-cov-2  <font color='red'>is 4. 3 %</font> , and the results indicate that the mortality is higher in elderly individuals and patients with chronic conditions including patients with coronary artery disease, diabetes, chronic pulmonary disease, and hypertension.</div></td>\n",
              "      <td>0.458472</td>\n",
              "      <td><a href=\"https://doi.org/\" target=\"_blank\">Novel Coronavirus Disease 2019 (COVID-19): An Emerging Infectious Disease in the 21st Century</a></td>\n",
              "      <td>Not Available</td>\n",
              "    </tr>\n",
              "    <tr>\n",
              "      <th>2</th>\n",
              "      <td>6vt60348</td>\n",
              "      <td><div>  <font color='red'>the true number of people currently infected with the virus, divided by the total population size</font> .</div></td>\n",
              "      <td>0.456849</td>\n",
              "      <td><a href=\"https://doi.org/10.1101/2020.03.24.20043067\" target=\"_blank\">Estimation of SARS-CoV-2 Infection Prevalence in Santa Clara County</a></td>\n",
              "      <td>Not Available</td>\n",
              "    </tr>\n",
              "    <tr>\n",
              "      <th>3</th>\n",
              "      <td>2ftw85xw</td>\n",
              "      <td><div> this commentary discusses the reasons for the fast spread of sars-cov-2 in three aspects : the infectious sources, including the biological nature of the virus ;  <font color='red'>the susceptible population</font>  ; and the transmission routes.</div></td>\n",
              "      <td>0.360217</td>\n",
              "      <td><a href=\"https://doi.org/10.1002/jmv.25720\" target=\"_blank\">Facing the COVID-19 outbreak: What should we know and what could we do?</a></td>\n",
              "      <td>Not Available</td>\n",
              "    </tr>\n",
              "    <tr>\n",
              "      <th>4</th>\n",
              "      <td>ne0qwv56</td>\n",
              "      <td><div> <font color='red'>background 33 an outbreak of a novel coronavirus (sars-cov-2)-infected pneumonia was first occurred in wuhan, china, in december 2019 and then spread rapidly to 35 other regions. it has been declared that at least one confirmed case infected by 36 sars-cov-2 was found in each province of china by late january 2020. 37 we collected the time series data of the cumulative number of confirmed infected, 39 dead, and cured cases from the health commissions in 31 provinces in mainland china. 40 a simple descriptive model in a logistic form was formulated to infer the intrinsic 41 epidemic rules of covid-19. furthermore, we compared the intrinsic epidemic rules 42 of covid-19 in hubei with that of severe acute respiratory syndrome (sars) in 43 beijing, which was obtained from the ministry of public health of china in 2003. 44 the feature of data of three population groups in all the provinces could be well 46 captured (r 2 > 0. 95</font> ) by the proposed descriptive model with slight variation among 47 (which was not peer-reviewed) the copyright holder for this preprint.</div></td>\n",
              "      <td>0.323962</td>\n",
              "      <td><a href=\"https://doi.org/10.1101/2020.02.23.20024802\" target=\"_blank\">Intrinsic growth rules of patients infected, dead and cured with 2019 novel coronavirus in mainland China</a></td>\n",
              "      <td>Not Available</td>\n",
              "    </tr>\n",
              "    <tr>\n",
              "      <th>5</th>\n",
              "      <td>s7uqawbd</td>\n",
              "      <td><div> by press time,  <font color='red'>more than 70,000 infected people had been confirmed worldwide</font> .</div></td>\n",
              "      <td>0.255771</td>\n",
              "      <td><a href=\"https://doi.org/10.1101/2020.02.20.20025874\" target=\"_blank\">Rapid colorimetric detection of COVID-19 coronavirus using a reverse tran-scriptional loop-mediated isothermal amplification (RT-LAMP) diagnostic plat-form: iLACO</a></td>\n",
              "      <td>Not Available</td>\n",
              "    </tr>\n",
              "    <tr>\n",
              "      <th>6</th>\n",
              "      <td>rmia5w3x</td>\n",
              "      <td><div>a word count for text  <font color='red'>: 2460 words</font>  all rights reserved.</div></td>\n",
              "      <td>0.048428</td>\n",
              "      <td><a href=\"https://doi.org/10.1101/2020.02.20.20025601\" target=\"_blank\">Clinical and pathological characteristics of 2019 novel coronavirus disease (COVID-19): a systematic review</a></td>\n",
              "      <td>Not Available</td>\n",
              "    </tr>\n",
              "  </tbody>\n",
              "</table>"
            ],
            "text/plain": [
              "<IPython.core.display.HTML object>"
            ]
          },
          "metadata": {
            "tags": []
          }
        }
      ]
    },
    {
      "cell_type": "code",
      "metadata": {
        "id": "c7Lg70RSeWZL"
      },
      "source": [
        "minDate='2020/01/01'"
      ],
      "execution_count": 29,
      "outputs": []
    },
    {
      "cell_type": "markdown",
      "metadata": {
        "id": "5ZXlq4RneLte"
      },
      "source": [
        "What is known about transmission, incubation, and environmental stability?"
      ]
    },
    {
      "cell_type": "code",
      "metadata": {
        "id": "Oc3HUZuSeN2g",
        "outputId": "469ce3e8-fb30-49d3-ed0c-0977a40e5b18",
        "colab": {
          "base_uri": "https://localhost:8080/",
          "height": 1000
        }
      },
      "source": [
        "runAllQuestionsByTopic(topic_area, 'What is known about transmission, incubation, and environmental stability?')"
      ],
      "execution_count": 30,
      "outputs": [
        {
          "output_type": "stream",
          "text": [
            "  0%|          | 0/10 [00:00<?, ?it/s]Token indices sequence length is longer than the specified maximum sequence length for this model (551 > 512). Running this sequence through the model will result in indexing errors\n",
            "100%|██████████| 10/10 [00:00<00:00, 20.37it/s]\n"
          ],
          "name": "stderr"
        },
        {
          "output_type": "display_data",
          "data": {
            "text/html": [
              "<div style=\"font-family: Times New Roman; font-size: 28px; padding-bottom:28px\"><b>Query</b>: Is the virus transmitted by aerisol, droplets, food, close contact, fecal matter, or water</div>"
            ],
            "text/plain": [
              "<IPython.core.display.HTML object>"
            ]
          },
          "metadata": {
            "tags": []
          }
        },
        {
          "output_type": "stream",
          "text": [
            "Truncation was not explicitely activated but `max_length` is provided a specific value, please use `truncation=True` to explicitely truncate examples to max length. Defaulting to 'longest_first' truncation strategy. If you encode pairs of sequences (GLUE-style) with the tokenizer you can select this strategy more precisely by providing a specific strategy to `truncation`.\n"
          ],
          "name": "stderr"
        },
        {
          "output_type": "display_data",
          "data": {
            "text/html": [
              "<div style=\"font-family: Times New Roman; font-size: 18px; margin-bottom:1pt\"><b>BART Abstractive Summary:</b>: The new coronavirus was reported to spread via droplets, contact and natural aerosols from human-to-human. persistent shedding of sars-cov-2 in stools of infected children indicates the potential for the virus to be transmitted through fecal excretion. there is a new public health crises threatening the world with the emergence and spread of 2019 novel coronavirus (2019-ncov)</div>"
            ],
            "text/plain": [
              "<IPython.core.display.HTML object>"
            ]
          },
          "metadata": {
            "tags": []
          }
        },
        {
          "output_type": "display_data",
          "data": {
            "text/html": [
              "<div style=\"font-family: Times New Roman; font-size: 12px; padding-bottom:12px; color:#CCCC00; margin-top:1pt\"> Warning this is an autogenerated summary based on semantic search of abstracts, always examine the sources before accepting this conclusion.  If the evidence only mentions topic in passing or the evidence is not clear, the summary will likely not clearly answer the question.</div>"
            ],
            "text/plain": [
              "<IPython.core.display.HTML object>"
            ]
          },
          "metadata": {
            "tags": []
          }
        },
        {
          "output_type": "display_data",
          "data": {
            "text/html": [
              "<table border=\"1\" class=\"dataframe\">\n",
              "  <thead>\n",
              "    <tr style=\"text-align: right;\">\n",
              "      <th></th>\n",
              "      <th>Lucene ID</th>\n",
              "      <th>BERT-SQuAD Answer with Highlights</th>\n",
              "      <th>Confidence</th>\n",
              "      <th>Title/Link</th>\n",
              "      <th>PDF Link</th>\n",
              "    </tr>\n",
              "  </thead>\n",
              "  <tbody>\n",
              "    <tr>\n",
              "      <th>0</th>\n",
              "      <td>mz06mkqf</td>\n",
              "      <td><div> persistent shedding of sars-cov-2 in stools of infected children indicates the potential for the virus to be transmitted  <font color='red'>through fecal excretion</font> .</div></td>\n",
              "      <td>0.718391</td>\n",
              "      <td><a href=\"https://doi.org/10.1101/2020.03.11.20033159\" target=\"_blank\">Prolonged presence of SARS-CoV-2 in feces of pediatric patients during the convalescent phase</a></td>\n",
              "      <td>Not Available</td>\n",
              "    </tr>\n",
              "    <tr>\n",
              "      <th>1</th>\n",
              "      <td>z4a8ru9z</td>\n",
              "      <td><div>  <font color='red'>the virus is transmitted through droplets, close contact, and other means</font> , and patients in the incubation period could potentially transmit the virus to other persons.</div></td>\n",
              "      <td>0.699239</td>\n",
              "      <td><a href=\"https://doi.org/10.3760/cma.j.issn.0253-9624.2020.0001\" target=\"_blank\">2019-nCoV: new challenges from coronavirus</a></td>\n",
              "      <td>Not Available</td>\n",
              "    </tr>\n",
              "    <tr>\n",
              "      <th>2</th>\n",
              "      <td>xs7vkm19</td>\n",
              "      <td><div>  <font color='red'>disease spread through both direct (droplet and person-to-person) as well as indirect contact (contaminated objects and airborne transmission) are indicated</font> , supporting the use of airborne isolation precautions.</div></td>\n",
              "      <td>0.625732</td>\n",
              "      <td><a href=\"https://doi.org/10.1101/2020.03.23.20039446\" target=\"_blank\">Transmission Potential of SARS-CoV-2 in Viral Shedding Observed at the University of Nebraska Medical Center</a></td>\n",
              "      <td>Not Available</td>\n",
              "    </tr>\n",
              "    <tr>\n",
              "      <th>3</th>\n",
              "      <td>bzwxt9bq</td>\n",
              "      <td><div>  <font color='red'>the new coronavirus was reported to spread via droplets, contact and natural aerosols from human-to-human</font> .</div></td>\n",
              "      <td>0.381108</td>\n",
              "      <td><a href=\"https://doi.org/10.24920/003724\" target=\"_blank\">Expert Recommendations for Tracheal Intubation in Critically ill Patients with Noval Coronavirus Disease 2019</a></td>\n",
              "      <td>Not Available</td>\n",
              "    </tr>\n",
              "    <tr>\n",
              "      <th>4</th>\n",
              "      <td>ztcyvsoi</td>\n",
              "      <td><div>there is a new public health crises threatening the world with the emergence and spread  <font color='red'>of 2019 novel coronavirus</font>  (2019-ncov)</div></td>\n",
              "      <td>0.300963</td>\n",
              "      <td><a href=\"https://doi.org/10.1007/s12098-020-03263-6\" target=\"_blank\">A Review of Coronavirus Disease-2019 (COVID-19)</a></td>\n",
              "      <td>Not Available</td>\n",
              "    </tr>\n",
              "  </tbody>\n",
              "</table>"
            ],
            "text/plain": [
              "<IPython.core.display.HTML object>"
            ]
          },
          "metadata": {
            "tags": []
          }
        },
        {
          "output_type": "stream",
          "text": [
            " 20%|██        | 2/10 [00:00<00:00, 14.99it/s]Token indices sequence length is longer than the specified maximum sequence length for this model (538 > 512). Running this sequence through the model will result in indexing errors\n",
            " 60%|██████    | 6/10 [00:00<00:00, 11.91it/s]Token indices sequence length is longer than the specified maximum sequence length for this model (545 > 512). Running this sequence through the model will result in indexing errors\n",
            "100%|██████████| 10/10 [00:00<00:00, 13.87it/s]\n"
          ],
          "name": "stderr"
        },
        {
          "output_type": "display_data",
          "data": {
            "text/html": [
              "<div style=\"font-family: Times New Roman; font-size: 28px; padding-bottom:28px\"><b>Query</b>: How long is the incubation period for the virus</div>"
            ],
            "text/plain": [
              "<IPython.core.display.HTML object>"
            ]
          },
          "metadata": {
            "tags": []
          }
        },
        {
          "output_type": "stream",
          "text": [
            "Truncation was not explicitely activated but `max_length` is provided a specific value, please use `truncation=True` to explicitely truncate examples to max length. Defaulting to 'longest_first' truncation strategy. If you encode pairs of sequences (GLUE-style) with the tokenizer you can select this strategy more precisely by providing a specific strategy to `truncation`.\n"
          ],
          "name": "stderr"
        },
        {
          "output_type": "display_data",
          "data": {
            "text/html": [
              "<div style=\"font-family: Times New Roman; font-size: 18px; margin-bottom:1pt\"><b>BART Abstractive Summary:</b>: Covid-19 had a high r0, a long incubation period, and a short serial interval. The average incubation period is 2-14 days, and mostly 3-7 days. With an estimation of 8 days incubation period and 6 days 17 serial interval, our results indicate that there may exist infectiousness during the 18 incubation period for 2019-ncov.</div>"
            ],
            "text/plain": [
              "<IPython.core.display.HTML object>"
            ]
          },
          "metadata": {
            "tags": []
          }
        },
        {
          "output_type": "display_data",
          "data": {
            "text/html": [
              "<div style=\"font-family: Times New Roman; font-size: 12px; padding-bottom:12px; color:#CCCC00; margin-top:1pt\"> Warning this is an autogenerated summary based on semantic search of abstracts, always examine the sources before accepting this conclusion.  If the evidence only mentions topic in passing or the evidence is not clear, the summary will likely not clearly answer the question.</div>"
            ],
            "text/plain": [
              "<IPython.core.display.HTML object>"
            ]
          },
          "metadata": {
            "tags": []
          }
        },
        {
          "output_type": "display_data",
          "data": {
            "text/html": [
              "<table border=\"1\" class=\"dataframe\">\n",
              "  <thead>\n",
              "    <tr style=\"text-align: right;\">\n",
              "      <th></th>\n",
              "      <th>Lucene ID</th>\n",
              "      <th>BERT-SQuAD Answer with Highlights</th>\n",
              "      <th>Confidence</th>\n",
              "      <th>Title/Link</th>\n",
              "      <th>PDF Link</th>\n",
              "    </tr>\n",
              "  </thead>\n",
              "  <tbody>\n",
              "    <tr>\n",
              "      <th>0</th>\n",
              "      <td>9jatvium</td>\n",
              "      <td><div> the average incubation period  <font color='red'>is 2-14 days, and mostly 3-7 days</font> .</div></td>\n",
              "      <td>0.623661</td>\n",
              "      <td><a href=\"https://doi.org/10.1016/j.clim.2020.108413\" target=\"_blank\">COVID-19 in a patient with long-term use of glucocorticoids: A study of a familial cluster</a></td>\n",
              "      <td>Not Available</td>\n",
              "    </tr>\n",
              "    <tr>\n",
              "      <th>1</th>\n",
              "      <td>ejg393zs</td>\n",
              "      <td><div> incubation period for covid-19  <font color='red'>is between 2-10 days</font> , according to the world health organization (who).</div></td>\n",
              "      <td>0.606400</td>\n",
              "      <td><a href=\"https://doi.org/\" target=\"_blank\">Novel Coronavirus Disease 2019 (COVID-19): An Emerging Infectious Disease in the 21st Century</a></td>\n",
              "      <td>Not Available</td>\n",
              "    </tr>\n",
              "    <tr>\n",
              "      <th>2</th>\n",
              "      <td>tne83uu0</td>\n",
              "      <td><div> with an estimation  <font color='red'>of 8 days</font>  incubation period and 6 days 17 serial interval, our results indicate that there may exist infectiousness during the 18 incubation period for 2019-ncov.</div></td>\n",
              "      <td>0.579399</td>\n",
              "      <td><a href=\"https://doi.org/10.1101/2020.03.01.20028944\" target=\"_blank\">Epidemiologic Characteristics of COVID-19 in Guizhou, China</a></td>\n",
              "      <td>Not Available</td>\n",
              "    </tr>\n",
              "    <tr>\n",
              "      <th>3</th>\n",
              "      <td>juz9jnfk</td>\n",
              "      <td><div>the covid-19 had a high r0,  <font color='red'>a long incubation period</font> , and a short serial interval.</div></td>\n",
              "      <td>0.475607</td>\n",
              "      <td><a href=\"https://doi.org/10.1016/j.ijid.2020.03.071\" target=\"_blank\">Insight into 2019 novel coronavirus — an updated intrim review and lessons from SARS-CoV and MERS-CoV</a></td>\n",
              "      <td>Not Available</td>\n",
              "    </tr>\n",
              "    <tr>\n",
              "      <th>4</th>\n",
              "      <td>0hnh4n9e</td>\n",
              "      <td><div> we reported  <font color='red'>the median (iqr) incubation period</font>  of sars-cov-2.</div></td>\n",
              "      <td>0.454003</td>\n",
              "      <td><a href=\"https://doi.org/10.1016/s0140-6736(20)30528-6\" target=\"_blank\">Investigation of three clusters of COVID-19 in Singapore: implications for surveillance and response measures</a></td>\n",
              "      <td>Not Available</td>\n",
              "    </tr>\n",
              "  </tbody>\n",
              "</table>"
            ],
            "text/plain": [
              "<IPython.core.display.HTML object>"
            ]
          },
          "metadata": {
            "tags": []
          }
        },
        {
          "output_type": "stream",
          "text": [
            "  0%|          | 0/10 [00:00<?, ?it/s]Token indices sequence length is longer than the specified maximum sequence length for this model (513 > 512). Running this sequence through the model will result in indexing errors\n",
            " 40%|████      | 4/10 [00:00<00:00, 15.30it/s]Token indices sequence length is longer than the specified maximum sequence length for this model (544 > 512). Running this sequence through the model will result in indexing errors\n",
            "100%|██████████| 10/10 [00:00<00:00, 17.94it/s]\n"
          ],
          "name": "stderr"
        },
        {
          "output_type": "display_data",
          "data": {
            "text/html": [
              "<div style=\"font-family: Times New Roman; font-size: 28px; padding-bottom:28px\"><b>Query</b>: Can the virus be transmitted asymptomatically or during the incubation period</div>"
            ],
            "text/plain": [
              "<IPython.core.display.HTML object>"
            ]
          },
          "metadata": {
            "tags": []
          }
        },
        {
          "output_type": "stream",
          "text": [
            "Truncation was not explicitely activated but `max_length` is provided a specific value, please use `truncation=True` to explicitely truncate examples to max length. Defaulting to 'longest_first' truncation strategy. If you encode pairs of sequences (GLUE-style) with the tokenizer you can select this strategy more precisely by providing a specific strategy to `truncation`.\n"
          ],
          "name": "stderr"
        },
        {
          "output_type": "display_data",
          "data": {
            "text/html": [
              "<div style=\"font-family: Times New Roman; font-size: 18px; margin-bottom:1pt\"><b>BART Abstractive Summary:</b>: With an estimation of 8 days incubation period and 6 days 17 serial interval, our results indicate that there may exist infectiousness during the 18 incubation period for 2019-ncov. Delays in diagnosis of cases and proportion of asymptomatic cases are key factors for containment and slowing down the epidemic.</div>"
            ],
            "text/plain": [
              "<IPython.core.display.HTML object>"
            ]
          },
          "metadata": {
            "tags": []
          }
        },
        {
          "output_type": "display_data",
          "data": {
            "text/html": [
              "<div style=\"font-family: Times New Roman; font-size: 12px; padding-bottom:12px; color:#CCCC00; margin-top:1pt\"> Warning this is an autogenerated summary based on semantic search of abstracts, always examine the sources before accepting this conclusion.  If the evidence only mentions topic in passing or the evidence is not clear, the summary will likely not clearly answer the question.</div>"
            ],
            "text/plain": [
              "<IPython.core.display.HTML object>"
            ]
          },
          "metadata": {
            "tags": []
          }
        },
        {
          "output_type": "display_data",
          "data": {
            "text/html": [
              "<table border=\"1\" class=\"dataframe\">\n",
              "  <thead>\n",
              "    <tr style=\"text-align: right;\">\n",
              "      <th></th>\n",
              "      <th>Lucene ID</th>\n",
              "      <th>BERT-SQuAD Answer with Highlights</th>\n",
              "      <th>Confidence</th>\n",
              "      <th>Title/Link</th>\n",
              "      <th>PDF Link</th>\n",
              "    </tr>\n",
              "  </thead>\n",
              "  <tbody>\n",
              "    <tr>\n",
              "      <th>0</th>\n",
              "      <td>v3gww4iv</td>\n",
              "      <td><div> strong and effective countermeasures should be implemented to prevent or mit <font color='red'>igate asymptomatic</font>  transmission during the incubation period in populations at high risk.</div></td>\n",
              "      <td>0.663061</td>\n",
              "      <td><a href=\"https://doi.org/10.1101/2020.03.06.20031955\" target=\"_blank\">Transmission of corona virus disease 2019 during the incubation period may lead to a quarantine loophole</a></td>\n",
              "      <td>Not Available</td>\n",
              "    </tr>\n",
              "    <tr>\n",
              "      <th>1</th>\n",
              "      <td>tne83uu0</td>\n",
              "      <td><div> with an estimation of 8 days incubation period and 6 days 17 serial interval, our results indicate that there may exist infectious <font color='red'>ness during the 18 incubation period</font>  for 2019-ncov.</div></td>\n",
              "      <td>0.599176</td>\n",
              "      <td><a href=\"https://doi.org/10.1101/2020.03.01.20028944\" target=\"_blank\">Epidemiologic Characteristics of COVID-19 in Guizhou, China</a></td>\n",
              "      <td>Not Available</td>\n",
              "    </tr>\n",
              "    <tr>\n",
              "      <th>2</th>\n",
              "      <td>kgkcgpmq</td>\n",
              "      <td><div> delays in diagnosis of cases and proportion  <font color='red'>of asymptomatic</font>  cases are key factors for containment and slowing down the epidemic.</div></td>\n",
              "      <td>0.592561</td>\n",
              "      <td><a href=\"https://doi.org/10.1101/2020.03.10.20033738\" target=\"_blank\">Effectiveness of isolation and contact tracing for containment and slowing down a COVID-19 epidemic: a modelling study</a></td>\n",
              "      <td>Not Available</td>\n",
              "    </tr>\n",
              "    <tr>\n",
              "      <th>3</th>\n",
              "      <td>56zhxd6e</td>\n",
              "      <td><div> <font color='red'>medrxiv preprint 3 generally longer incubation</font>  and serial interval of less severe cases suggests a high risk of longterm epidemic in the absence of appropriate control measures.</div></td>\n",
              "      <td>0.576508</td>\n",
              "      <td><a href=\"https://doi.org/10.1101/2020.03.21.20040329\" target=\"_blank\">Epidemiological parameters of coronavirus disease 2019: a pooled analysis of publicly reported individual data of 1155 cases from seven countries</a></td>\n",
              "      <td>Not Available</td>\n",
              "    </tr>\n",
              "    <tr>\n",
              "      <th>4</th>\n",
              "      <td>ofoqk100</td>\n",
              "      <td><div> <font color='red'>the asymptomatic</font>  carriers identified from close contacts were prone to be mildly ill during hospitalization.</div></td>\n",
              "      <td>0.479161</td>\n",
              "      <td><a href=\"https://doi.org/10.1101/2020.02.20.20025619\" target=\"_blank\">Clinical Characteristics of 24 Asymptomatic Infections with COVID-19 Screened among Close Contacts in Nanjing, China</a></td>\n",
              "      <td>Not Available</td>\n",
              "    </tr>\n",
              "    <tr>\n",
              "      <th>5</th>\n",
              "      <td>iff8cuum</td>\n",
              "      <td><div> through epidemiological investigation, we observed a  <font color='red'>typical asymptomatic</font>  transmission to the cohabiting family members, which even caused severe covid-19 pneumonia.</div></td>\n",
              "      <td>0.476138</td>\n",
              "      <td><a href=\"https://doi.org/10.1007/s11427-020-1661-4\" target=\"_blank\">Clinical characteristics of 24 asymptomatic infections with COVID-19 screened among close contacts in Nanjing, China</a></td>\n",
              "      <td>Not Available</td>\n",
              "    </tr>\n",
              "  </tbody>\n",
              "</table>"
            ],
            "text/plain": [
              "<IPython.core.display.HTML object>"
            ]
          },
          "metadata": {
            "tags": []
          }
        },
        {
          "output_type": "stream",
          "text": [
            " 60%|██████    | 6/10 [00:00<00:00, 14.69it/s]Token indices sequence length is longer than the specified maximum sequence length for this model (541 > 512). Running this sequence through the model will result in indexing errors\n",
            "100%|██████████| 10/10 [00:00<00:00, 20.30it/s]\n"
          ],
          "name": "stderr"
        },
        {
          "output_type": "display_data",
          "data": {
            "text/html": [
              "<div style=\"font-family: Times New Roman; font-size: 28px; padding-bottom:28px\"><b>Query</b>: What is the quantity of asymptomatic shedding</div>"
            ],
            "text/plain": [
              "<IPython.core.display.HTML object>"
            ]
          },
          "metadata": {
            "tags": []
          }
        },
        {
          "output_type": "stream",
          "text": [
            "Truncation was not explicitely activated but `max_length` is provided a specific value, please use `truncation=True` to explicitely truncate examples to max length. Defaulting to 'longest_first' truncation strategy. If you encode pairs of sequences (GLUE-style) with the tokenizer you can select this strategy more precisely by providing a specific strategy to `truncation`.\n"
          ],
          "name": "stderr"
        },
        {
          "output_type": "display_data",
          "data": {
            "text/html": [
              "<div style=\"font-family: Times New Roman; font-size: 18px; margin-bottom:1pt\"><b>BART Abstractive Summary:</b>: Covid-19 can present as an asymptomatic carrier state, acute respiratory disease, and pneumonia. adults represent the population with the highest infection rate. persistent shedding of sars-cov-2 in stools of infected children indicates the potential for the virus to be transmitted through fecal excretion.</div>"
            ],
            "text/plain": [
              "<IPython.core.display.HTML object>"
            ]
          },
          "metadata": {
            "tags": []
          }
        },
        {
          "output_type": "display_data",
          "data": {
            "text/html": [
              "<div style=\"font-family: Times New Roman; font-size: 12px; padding-bottom:12px; color:#CCCC00; margin-top:1pt\"> Warning this is an autogenerated summary based on semantic search of abstracts, always examine the sources before accepting this conclusion.  If the evidence only mentions topic in passing or the evidence is not clear, the summary will likely not clearly answer the question.</div>"
            ],
            "text/plain": [
              "<IPython.core.display.HTML object>"
            ]
          },
          "metadata": {
            "tags": []
          }
        },
        {
          "output_type": "display_data",
          "data": {
            "text/html": [
              "<table border=\"1\" class=\"dataframe\">\n",
              "  <thead>\n",
              "    <tr style=\"text-align: right;\">\n",
              "      <th></th>\n",
              "      <th>Lucene ID</th>\n",
              "      <th>BERT-SQuAD Answer with Highlights</th>\n",
              "      <th>Confidence</th>\n",
              "      <th>Title/Link</th>\n",
              "      <th>PDF Link</th>\n",
              "    </tr>\n",
              "  </thead>\n",
              "  <tbody>\n",
              "    <tr>\n",
              "      <th>0</th>\n",
              "      <td>89fol3pq</td>\n",
              "      <td><div> important questions concerning the interaction between sars-cov-2 and host antiviral defence,  <font color='red'>including asymptomatic and presymptomatic virus shedding</font> , are also discussed.</div></td>\n",
              "      <td>0.602271</td>\n",
              "      <td><a href=\"https://doi.org/10.1080/22221751.2020.1736644\" target=\"_blank\">A tug-of-war between severe acute respiratory syndrome coronavirus 2 and host antiviral defence: lessons from other pathogenic viruses</a></td>\n",
              "      <td>Not Available</td>\n",
              "    </tr>\n",
              "    <tr>\n",
              "      <th>1</th>\n",
              "      <td>pth2d40p</td>\n",
              "      <td><div>since the emergence of coronavirus disease 2019 (covid-19) (formerly known as the 2019 novel coronavirus [ 2019-ncov ]) in wuhan, china in december 2019, which is caused by severe acute respiratory syndrome coronavirus 2 (sars-cov-2),  <font color='red'>more than 75,000 cases have been reported in 32 countries / regions, resulting in more than 2000 deaths worldwide. despite the fact that most covid-19 cases and mortalities were reported in china, the who has declared this outbreak as the sixth public health emergency of international concern. the covid-19 can present as an asymptomatic carrier state, acute respiratory disease, and pneumonia. adults represent the population with the highest infection rate ; however, neonates, (p.-r. hsueh). please cite this article as : lai c-c et al.</font> , asymptomatic carrier state, acute respiratory disease, and pneumonia due to severe acute respiratory syndrome coronavirus 2 (sars-cov-2) : facts and myths, journal of microbiology, immunology and infection, https : / / doi.</div></td>\n",
              "      <td>0.483038</td>\n",
              "      <td><a href=\"https://doi.org/10.1016/j.jmii.2020.02.012\" target=\"_blank\">Asymptomatic carrier state, acute respiratory disease, and pneumonia due to severe acute respiratory syndrome coronavirus 2 (SARSCoV-2): Facts and myths</a></td>\n",
              "      <td>Not Available</td>\n",
              "    </tr>\n",
              "    <tr>\n",
              "      <th>2</th>\n",
              "      <td>mz06mkqf</td>\n",
              "      <td><div>  <font color='red'>persistent shedding of sars-cov-2 in stools of infected children indicates the potential for the virus to be transmitted through fecal excretion</font> .</div></td>\n",
              "      <td>0.477686</td>\n",
              "      <td><a href=\"https://doi.org/10.1101/2020.03.11.20033159\" target=\"_blank\">Prolonged presence of SARS-CoV-2 in feces of pediatric patients during the convalescent phase</a></td>\n",
              "      <td>Not Available</td>\n",
              "    </tr>\n",
              "    <tr>\n",
              "      <th>3</th>\n",
              "      <td>hfkzu18p</td>\n",
              "      <td><div> here we highlight nine most important research questions concerning virus transmission,  <font color='red'>asymptomatic and presymptomatic virus shedding</font> , diagnosis, treatment, vaccine development, origin of virus and viral pathogenesis.</div></td>\n",
              "      <td>0.464288</td>\n",
              "      <td><a href=\"https://doi.org/10.1186/s13578-020-00404-4\" target=\"_blank\">SARS-CoV-2 and COVID-19: The most important research questions</a></td>\n",
              "      <td>Not Available</td>\n",
              "    </tr>\n",
              "    <tr>\n",
              "      <th>4</th>\n",
              "      <td>3q2bj7cr</td>\n",
              "      <td><div>  <font color='red'>persistent shedding of sars-cov-2 in stools of infected children</font>  raises the possibility that the virus might be transmitted through contaminated fomites.</div></td>\n",
              "      <td>0.445311</td>\n",
              "      <td><a href=\"https://doi.org/10.1016/j.jmii.2020.03.021\" target=\"_blank\">Prolonged viral shedding in feces of pediatric patients with coronavirus disease 2019</a></td>\n",
              "      <td>Not Available</td>\n",
              "    </tr>\n",
              "    <tr>\n",
              "      <th>5</th>\n",
              "      <td>5m895fhj</td>\n",
              "      <td><div> we analyzed symptom data and quantitative viral load to investigate the association between viruses, symptoms and  <font color='red'>viral quantity in qrt-pcr-positive psps. results : out of 1629 children enrolled, a total of 204 respiratory viruses were present in 171 (10. 50 %) psps including 47 patients with mild symptoms and 124 with no symptoms after surgery. commonly detected viruses were human rhino / enterovirus (hrv / ev, 42. 19 %), parainfluenza virus 3 (piv3,24. 48 %), coronavirus (cov nl63, oc43, hku1,11. 46 %), and respiratory syncytial virus (rsv, 9. 9 %). piv3 infection with a higher viral load was frequently found in psps presenting with mild symptoms, progressing to pneumonia with radiographic evidence after surgery. hrv / ev were the most commonly detected pathogens in both asymptomatic and mild symptomatic psps. cov (oc43, hku1) infections with a higher viral load were mostly observed in asymptomatic psps progressing to alveolar or interstitial infiltration</font> .</div></td>\n",
              "      <td>0.366343</td>\n",
              "      <td><a href=\"https://doi.org/10.1186/s12931-019-1086-y\" target=\"_blank\">Respiratory virus associated with surgery in children patients</a></td>\n",
              "      <td>Not Available</td>\n",
              "    </tr>\n",
              "  </tbody>\n",
              "</table>"
            ],
            "text/plain": [
              "<IPython.core.display.HTML object>"
            ]
          },
          "metadata": {
            "tags": []
          }
        },
        {
          "output_type": "stream",
          "text": [
            "  0%|          | 0/10 [00:00<?, ?it/s]Token indices sequence length is longer than the specified maximum sequence length for this model (543 > 512). Running this sequence through the model will result in indexing errors\n",
            " 10%|█         | 1/10 [00:00<00:01,  5.90it/s]Token indices sequence length is longer than the specified maximum sequence length for this model (563 > 512). Running this sequence through the model will result in indexing errors\n",
            "100%|██████████| 10/10 [00:00<00:00, 12.23it/s]\n"
          ],
          "name": "stderr"
        },
        {
          "output_type": "display_data",
          "data": {
            "text/html": [
              "<div style=\"font-family: Times New Roman; font-size: 28px; padding-bottom:28px\"><b>Query</b>: How does temperature and humidity affect the tramsmission of 2019-nCoV</div>"
            ],
            "text/plain": [
              "<IPython.core.display.HTML object>"
            ]
          },
          "metadata": {
            "tags": []
          }
        },
        {
          "output_type": "stream",
          "text": [
            "Truncation was not explicitely activated but `max_length` is provided a specific value, please use `truncation=True` to explicitely truncate examples to max length. Defaulting to 'longest_first' truncation strategy. If you encode pairs of sequences (GLUE-style) with the tokenizer you can select this strategy more precisely by providing a specific strategy to `truncation`.\n"
          ],
          "name": "stderr"
        },
        {
          "output_type": "display_data",
          "data": {
            "text/html": [
              "<div style=\"font-family: Times New Roman; font-size: 18px; margin-bottom:1pt\"><b>BART Abstractive Summary:</b>: This study suggests the temperature variation and humidity may be important factors affecting the covid-19 mortality. A wide range of continuous warm and dry weather is conducive to the survival of 2019-ncov. The rising temperature is expected to decrease its infection ability much faster than sars-cov, and get controlled more easily.</div>"
            ],
            "text/plain": [
              "<IPython.core.display.HTML object>"
            ]
          },
          "metadata": {
            "tags": []
          }
        },
        {
          "output_type": "display_data",
          "data": {
            "text/html": [
              "<div style=\"font-family: Times New Roman; font-size: 12px; padding-bottom:12px; color:#CCCC00; margin-top:1pt\"> Warning this is an autogenerated summary based on semantic search of abstracts, always examine the sources before accepting this conclusion.  If the evidence only mentions topic in passing or the evidence is not clear, the summary will likely not clearly answer the question.</div>"
            ],
            "text/plain": [
              "<IPython.core.display.HTML object>"
            ]
          },
          "metadata": {
            "tags": []
          }
        },
        {
          "output_type": "display_data",
          "data": {
            "text/html": [
              "<table border=\"1\" class=\"dataframe\">\n",
              "  <thead>\n",
              "    <tr style=\"text-align: right;\">\n",
              "      <th></th>\n",
              "      <th>Lucene ID</th>\n",
              "      <th>BERT-SQuAD Answer with Highlights</th>\n",
              "      <th>Confidence</th>\n",
              "      <th>Title/Link</th>\n",
              "      <th>PDF Link</th>\n",
              "    </tr>\n",
              "  </thead>\n",
              "  <tbody>\n",
              "    <tr>\n",
              "      <th>0</th>\n",
              "      <td>lmjaldcs</td>\n",
              "      <td><div> compared with relative humidity,  <font color='red'>2019-ncov is more sensitive to water vapor pressure</font> .</div></td>\n",
              "      <td>0.709891</td>\n",
              "      <td><a href=\"https://doi.org/10.1101/2020.04.01.20050526\" target=\"_blank\">Meteorological factors correlate with transmission of 2019-nCoV: Proof of incidence of novel coronavirus pneumonia in Hubei Province, China</a></td>\n",
              "      <td>Not Available</td>\n",
              "    </tr>\n",
              "    <tr>\n",
              "      <th>1</th>\n",
              "      <td>f53i4n02</td>\n",
              "      <td><div> in summary, this study suggests  <font color='red'>the temperature variation and humidity may be important factors affecting the covid-19 mortality</font> .</div></td>\n",
              "      <td>0.638107</td>\n",
              "      <td><a href=\"https://doi.org/10.1101/2020.03.15.20036426\" target=\"_blank\">Effects of temperature variation and humidity on the mortality of COVID-19 in Wuhan</a></td>\n",
              "      <td>Not Available</td>\n",
              "    </tr>\n",
              "    <tr>\n",
              "      <th>2</th>\n",
              "      <td>6anr4xdw</td>\n",
              "      <td><div> in summary, this study suggests the temperature variation and humidity may also be important factors affecting the covid- <font color='red'>19 mortality</font> .</div></td>\n",
              "      <td>0.632615</td>\n",
              "      <td><a href=\"https://doi.org/10.1016/j.scitotenv.2020.138226\" target=\"_blank\">Effects of temperature variation and humidity on the death of COVID-19 in Wuhan, China</a></td>\n",
              "      <td>Not Available</td>\n",
              "    </tr>\n",
              "    <tr>\n",
              "      <th>3</th>\n",
              "      <td>60qmiwjm</td>\n",
              "      <td><div> conclusions  <font color='red'>: a wide range of continuous warm and dry weather is conducive to the survival of 2019-ncov</font> .</div></td>\n",
              "      <td>0.567142</td>\n",
              "      <td><a href=\"https://doi.org/10.1101/2020.02.13.20022715\" target=\"_blank\">Analysis of meteorological conditions and prediction of epidemic trend of 2019-nCoV infection in 2020</a></td>\n",
              "      <td>Not Available</td>\n",
              "    </tr>\n",
              "    <tr>\n",
              "      <th>4</th>\n",
              "      <td>hicqy5sj</td>\n",
              "      <td><div> with the rising temperature,  <font color='red'>2019-ncov is expected to decrease its infection ability much faster than sars-cov</font> , and get controlled more easily.</div></td>\n",
              "      <td>0.557604</td>\n",
              "      <td><a href=\"https://doi.org/10.1101/2020.02.17.952903\" target=\"_blank\">Molecular mechanism of evolution and human infection with the novel coronavirus (2019-nCoV)</a></td>\n",
              "      <td>Not Available</td>\n",
              "    </tr>\n",
              "    <tr>\n",
              "      <th>5</th>\n",
              "      <td>pm6ta0qy</td>\n",
              "      <td><div>objective to investigate the impact of temperature and absolute humidity on  <font color='red'>the coronavirus disease 2019 (covid-19) outbreak</font> .</div></td>\n",
              "      <td>0.496729</td>\n",
              "      <td><a href=\"https://doi.org/10.1101/2020.03.22.20038919\" target=\"_blank\">The impact of temperature and absolute humidity on the coronavirus disease 2019 (COVID-19) outbreak - evidence from China</a></td>\n",
              "      <td>Not Available</td>\n",
              "    </tr>\n",
              "    <tr>\n",
              "      <th>6</th>\n",
              "      <td>3svnvozz</td>\n",
              "      <td><div> taken chinese cities as a discovery dataset, it was suggested that temperature, wind speed, and relative humidity combined together could  <font color='red'>best predict the epidemic situation</font> .</div></td>\n",
              "      <td>0.421551</td>\n",
              "      <td><a href=\"https://doi.org/10.1101/2020.03.16.20037168\" target=\"_blank\">Roles of meteorological conditions in COVID-19 transmission on a worldwide scale</a></td>\n",
              "      <td>Not Available</td>\n",
              "    </tr>\n",
              "    <tr>\n",
              "      <th>7</th>\n",
              "      <td>vc2eheb6</td>\n",
              "      <td><div>  <font color='red'>we received helpful comments and feedback</font>  from</div></td>\n",
              "      <td>0.062763</td>\n",
              "      <td><a href=\"https://doi.org/10.1101/2020.03.26.20044420\" target=\"_blank\">Causal empirical estimates suggest COVID-19 transmission rates are highly seasonal</a></td>\n",
              "      <td>Not Available</td>\n",
              "    </tr>\n",
              "  </tbody>\n",
              "</table>"
            ],
            "text/plain": [
              "<IPython.core.display.HTML object>"
            ]
          },
          "metadata": {
            "tags": []
          }
        },
        {
          "output_type": "stream",
          "text": [
            "100%|██████████| 10/10 [00:00<00:00, 23.41it/s]\n"
          ],
          "name": "stderr"
        },
        {
          "output_type": "display_data",
          "data": {
            "text/html": [
              "<div style=\"font-family: Times New Roman; font-size: 28px; padding-bottom:28px\"><b>Query</b>: How long can 2019-nCoV remain viable on inanimate, environmental, or common surfaces</div>"
            ],
            "text/plain": [
              "<IPython.core.display.HTML object>"
            ]
          },
          "metadata": {
            "tags": []
          }
        },
        {
          "output_type": "stream",
          "text": [
            "Truncation was not explicitely activated but `max_length` is provided a specific value, please use `truncation=True` to explicitely truncate examples to max length. Defaulting to 'longest_first' truncation strategy. If you encode pairs of sequences (GLUE-style) with the tokenizer you can select this strategy more precisely by providing a specific strategy to `truncation`.\n"
          ],
          "name": "stderr"
        },
        {
          "output_type": "display_data",
          "data": {
            "text/html": [
              "<div style=\"font-family: Times New Roman; font-size: 18px; margin-bottom:1pt\"><b>BART Abstractive Summary:</b>: Human coronaviruses can persist on inanimate surfaces like metal, glass or plastic for up to 9 days, but can be efficiently inactivated by surface disinfection procedures. Pathogenic human coronavirus 229e remained infectious in a human lung cell culture model following at least 5 days of persistence on a range of common nonbiocidal surface materials.</div>"
            ],
            "text/plain": [
              "<IPython.core.display.HTML object>"
            ]
          },
          "metadata": {
            "tags": []
          }
        },
        {
          "output_type": "display_data",
          "data": {
            "text/html": [
              "<div style=\"font-family: Times New Roman; font-size: 12px; padding-bottom:12px; color:#CCCC00; margin-top:1pt\"> Warning this is an autogenerated summary based on semantic search of abstracts, always examine the sources before accepting this conclusion.  If the evidence only mentions topic in passing or the evidence is not clear, the summary will likely not clearly answer the question.</div>"
            ],
            "text/plain": [
              "<IPython.core.display.HTML object>"
            ]
          },
          "metadata": {
            "tags": []
          }
        },
        {
          "output_type": "display_data",
          "data": {
            "text/html": [
              "<table border=\"1\" class=\"dataframe\">\n",
              "  <thead>\n",
              "    <tr style=\"text-align: right;\">\n",
              "      <th></th>\n",
              "      <th>Lucene ID</th>\n",
              "      <th>BERT-SQuAD Answer with Highlights</th>\n",
              "      <th>Confidence</th>\n",
              "      <th>Title/Link</th>\n",
              "      <th>PDF Link</th>\n",
              "    </tr>\n",
              "  </thead>\n",
              "  <tbody>\n",
              "    <tr>\n",
              "      <th>0</th>\n",
              "      <td>k9xhphpl</td>\n",
              "      <td><div> the analysis of 22 studies reveals that human coronaviruses such as severe acute respiratory syndrome (sars) coronavirus, middle east respiratory syndrome (mers) coronavirus or endemic human coronaviruses (hcov) can persist on inanimate surfaces like metal, glass or plastic  <font color='red'>for up to 9 days</font> , but can be efficiently inactivated by surface disinfection procedures with 62e71 % ethanol, 0.</div></td>\n",
              "      <td>0.477358</td>\n",
              "      <td><a href=\"https://doi.org/10.1016/j.jhin.2020.01.022\" target=\"_blank\">Persistence of coronaviruses on inanimate surfaces and their inactivation with biocidal agents</a></td>\n",
              "      <td>Not Available</td>\n",
              "    </tr>\n",
              "    <tr>\n",
              "      <th>1</th>\n",
              "      <td>4d4l6mzl</td>\n",
              "      <td><div> we report here that pathogenic human coronavirus 229e remained infectious in a human lung cell culture model  <font color='red'>following at least 5 days</font>  of persistence on a range of common nonbiocidal surface materials, including polytetrafluoroethylene (teflon ; ptfe), polyvinyl chloride (pvc), ceramic tiles, glass, silicone rubber, and stainless steel.</div></td>\n",
              "      <td>0.449688</td>\n",
              "      <td><a href=\"https://doi.org/10.1128/mbio.01697-15\" target=\"_blank\">Human Coronavirus 229E Remains Infectious on Common Touch Surface Materials</a></td>\n",
              "      <td>Not Available</td>\n",
              "    </tr>\n",
              "    <tr>\n",
              "      <th>2</th>\n",
              "      <td>awp1nck0</td>\n",
              "      <td><div> the previous study indicated that different human coronaviruses, such as sars ‐ cov and mers ‐ cov,  <font color='red'>can maintain infectious for a different time on inanimate surfaces</font> .</div></td>\n",
              "      <td>0.449131</td>\n",
              "      <td><a href=\"https://doi.org/10.1111/irv.12735\" target=\"_blank\">Uncertainties about the transmission routes of 2019 novel coronavirus</a></td>\n",
              "      <td>Not Available</td>\n",
              "    </tr>\n",
              "    <tr>\n",
              "      <th>3</th>\n",
              "      <td>8n2s0bl1</td>\n",
              "      <td><div> this difference was observed in the five long-term care facilities and it persists through  <font color='red'>the three years</font>  of the study.</div></td>\n",
              "      <td>0.236370</td>\n",
              "      <td><a href=\"https://doi.org/10.3390/ma11122479\" target=\"_blank\">Copper Alloy Touch Surfaces in Healthcare Facilities: An Effective Solution to Prevent Bacterial Spreading</a></td>\n",
              "      <td>Not Available</td>\n",
              "    </tr>\n",
              "  </tbody>\n",
              "</table>"
            ],
            "text/plain": [
              "<IPython.core.display.HTML object>"
            ]
          },
          "metadata": {
            "tags": []
          }
        },
        {
          "output_type": "stream",
          "text": [
            "  0%|          | 0/10 [00:00<?, ?it/s]Token indices sequence length is longer than the specified maximum sequence length for this model (513 > 512). Running this sequence through the model will result in indexing errors\n",
            "100%|██████████| 10/10 [00:00<00:00, 17.05it/s]\n"
          ],
          "name": "stderr"
        },
        {
          "output_type": "display_data",
          "data": {
            "text/html": [
              "<div style=\"font-family: Times New Roman; font-size: 28px; padding-bottom:28px\"><b>Query</b>: What types of inanimate or environmental surfaces affect transmission, survival, or  inactivation of 2019-nCov</div>"
            ],
            "text/plain": [
              "<IPython.core.display.HTML object>"
            ]
          },
          "metadata": {
            "tags": []
          }
        },
        {
          "output_type": "stream",
          "text": [
            "Truncation was not explicitely activated but `max_length` is provided a specific value, please use `truncation=True` to explicitely truncate examples to max length. Defaulting to 'longest_first' truncation strategy. If you encode pairs of sequences (GLUE-style) with the tokenizer you can select this strategy more precisely by providing a specific strategy to `truncation`.\n"
          ],
          "name": "stderr"
        },
        {
          "output_type": "display_data",
          "data": {
            "text/html": [
              "<div style=\"font-family: Times New Roman; font-size: 18px; margin-bottom:1pt\"><b>BART Abstractive Summary:</b>: In the healthcare environment, microorganisms'cross-transmission between inanimate surfaces and patients or healthcare workers can lead to healthcare-associated infections. assessment of the risks posed by severe acute respiratory syndrome (sars) coronavirus (sars-cov) on surfaces requires data on survival of this virus on environmental surfaces.</div>"
            ],
            "text/plain": [
              "<IPython.core.display.HTML object>"
            ]
          },
          "metadata": {
            "tags": []
          }
        },
        {
          "output_type": "display_data",
          "data": {
            "text/html": [
              "<div style=\"font-family: Times New Roman; font-size: 12px; padding-bottom:12px; color:#CCCC00; margin-top:1pt\"> Warning this is an autogenerated summary based on semantic search of abstracts, always examine the sources before accepting this conclusion.  If the evidence only mentions topic in passing or the evidence is not clear, the summary will likely not clearly answer the question.</div>"
            ],
            "text/plain": [
              "<IPython.core.display.HTML object>"
            ]
          },
          "metadata": {
            "tags": []
          }
        },
        {
          "output_type": "display_data",
          "data": {
            "text/html": [
              "<table border=\"1\" class=\"dataframe\">\n",
              "  <thead>\n",
              "    <tr style=\"text-align: right;\">\n",
              "      <th></th>\n",
              "      <th>Lucene ID</th>\n",
              "      <th>BERT-SQuAD Answer with Highlights</th>\n",
              "      <th>Confidence</th>\n",
              "      <th>Title/Link</th>\n",
              "      <th>PDF Link</th>\n",
              "    </tr>\n",
              "  </thead>\n",
              "  <tbody>\n",
              "    <tr>\n",
              "      <th>0</th>\n",
              "      <td>8n2s0bl1</td>\n",
              "      <td><div>in the healthcare environment, microorganisms ' cross-transmission  <font color='red'>between inanimate</font>  surfaces and patients or healthcare workers can lead to healthcare-associated infections.</div></td>\n",
              "      <td>0.506739</td>\n",
              "      <td><a href=\"https://doi.org/10.3390/ma11122479\" target=\"_blank\">Copper Alloy Touch Surfaces in Healthcare Facilities: An Effective Solution to Prevent Bacterial Spreading</a></td>\n",
              "      <td>Not Available</td>\n",
              "    </tr>\n",
              "    <tr>\n",
              "      <th>1</th>\n",
              "      <td>tjplc5j6</td>\n",
              "      <td><div>assessment of the risks posed by severe acute respiratory syndrome (sars) coronavirus (sars-cov) on surfaces requires data on survival of this virus  <font color='red'>on environmental</font>  surfaces and on how survival is affected by environmental variables, such as air temperature (at) and relative humidity (rh).</div></td>\n",
              "      <td>0.478299</td>\n",
              "      <td><a href=\"https://doi.org/10.1128/aem.02291-09\" target=\"_blank\">Effects of Air Temperature and Relative Humidity on Coronavirus Survival on Surfaces</a></td>\n",
              "      <td>Not Available</td>\n",
              "    </tr>\n",
              "    <tr>\n",
              "      <th>2</th>\n",
              "      <td>k9xhphpl</td>\n",
              "      <td><div> we therefore reviewed the literature on all available information about the persistence of human and veterinary coronaviruses  <font color='red'>on inanimate surfaces as well as inactivation strategies with biocidal agents used for chemical disinfection, e. g. in healthcare facilities. the analysis of 22 studies reveals that human coronaviruses such as severe acute respiratory syndrome (sars) coronavirus, middle east respiratory syndrome (mers) coronavirus or endemic human coronaviruses (hcov) can persist on inanimate surfaces like metal, glass or plastic</font>  for up to 9 days, but can be efficiently inactivated by surface disinfection procedures with 62e71 % ethanol, 0.</div></td>\n",
              "      <td>0.464713</td>\n",
              "      <td><a href=\"https://doi.org/10.1016/j.jhin.2020.01.022\" target=\"_blank\">Persistence of coronaviruses on inanimate surfaces and their inactivation with biocidal agents</a></td>\n",
              "      <td>Not Available</td>\n",
              "    </tr>\n",
              "    <tr>\n",
              "      <th>3</th>\n",
              "      <td>awp1nck0</td>\n",
              "      <td><div> the previous study indicated that different human coronaviruses, such as sars ‐ cov and mers ‐ cov, can maintain infectious for a different time  <font color='red'>on inanimate</font>  surfaces.</div></td>\n",
              "      <td>0.434553</td>\n",
              "      <td><a href=\"https://doi.org/10.1111/irv.12735\" target=\"_blank\">Uncertainties about the transmission routes of 2019 novel coronavirus</a></td>\n",
              "      <td>Not Available</td>\n",
              "    </tr>\n",
              "    <tr>\n",
              "      <th>4</th>\n",
              "      <td>f5xp2ebn</td>\n",
              "      <td><div>the chemical disinfection of virus- <font color='red'>contaminated non-porous inanimate</font>  surfaces was investigated using coxsackievirus b3, adenovirus type 5, parainfluenza virus type 3 and coronavirus 229e as representatives of important nosocomial viral pathogens.</div></td>\n",
              "      <td>0.401105</td>\n",
              "      <td><a href=\"https://doi.org/\" target=\"_blank\">Chemical disinfection of non-porous inanimate surfaces experimentally contaminated with four human pathogenic viruses.</a></td>\n",
              "      <td>Not Available</td>\n",
              "    </tr>\n",
              "  </tbody>\n",
              "</table>"
            ],
            "text/plain": [
              "<IPython.core.display.HTML object>"
            ]
          },
          "metadata": {
            "tags": []
          }
        },
        {
          "output_type": "stream",
          "text": [
            " 30%|███       | 3/10 [00:00<00:00, 26.12it/s]Token indices sequence length is longer than the specified maximum sequence length for this model (550 > 512). Running this sequence through the model will result in indexing errors\n",
            " 40%|████      | 4/10 [00:00<00:00, 13.96it/s]Token indices sequence length is longer than the specified maximum sequence length for this model (515 > 512). Running this sequence through the model will result in indexing errors\n",
            " 70%|███████   | 7/10 [00:00<00:00, 11.42it/s]Token indices sequence length is longer than the specified maximum sequence length for this model (531 > 512). Running this sequence through the model will result in indexing errors\n",
            "100%|██████████| 10/10 [00:00<00:00, 12.63it/s]\n"
          ],
          "name": "stderr"
        },
        {
          "output_type": "display_data",
          "data": {
            "text/html": [
              "<div style=\"font-family: Times New Roman; font-size: 28px; padding-bottom:28px\"><b>Query</b>: Can the virus be found in nasal discharge, sputum, urine, fecal matter, or blood</div>"
            ],
            "text/plain": [
              "<IPython.core.display.HTML object>"
            ]
          },
          "metadata": {
            "tags": []
          }
        },
        {
          "output_type": "stream",
          "text": [
            "Truncation was not explicitely activated but `max_length` is provided a specific value, please use `truncation=True` to explicitely truncate examples to max length. Defaulting to 'longest_first' truncation strategy. If you encode pairs of sequences (GLUE-style) with the tokenizer you can select this strategy more precisely by providing a specific strategy to `truncation`.\n"
          ],
          "name": "stderr"
        },
        {
          "output_type": "display_data",
          "data": {
            "text/html": [
              "<div style=\"font-family: Times New Roman; font-size: 18px; margin-bottom:1pt\"><b>BART Abstractive Summary:</b>: Mers-cov of this origin has full capacity to infect human airway epithelium in both in vitro and in vivo models. Clinical samples from all patients including nasopharyngeal swab (nps) / sputum, urine, and feces were collected for serial virus rna testing.</div>"
            ],
            "text/plain": [
              "<IPython.core.display.HTML object>"
            ]
          },
          "metadata": {
            "tags": []
          }
        },
        {
          "output_type": "display_data",
          "data": {
            "text/html": [
              "<div style=\"font-family: Times New Roman; font-size: 12px; padding-bottom:12px; color:#CCCC00; margin-top:1pt\"> Warning this is an autogenerated summary based on semantic search of abstracts, always examine the sources before accepting this conclusion.  If the evidence only mentions topic in passing or the evidence is not clear, the summary will likely not clearly answer the question.</div>"
            ],
            "text/plain": [
              "<IPython.core.display.HTML object>"
            ]
          },
          "metadata": {
            "tags": []
          }
        },
        {
          "output_type": "display_data",
          "data": {
            "text/html": [
              "<table border=\"1\" class=\"dataframe\">\n",
              "  <thead>\n",
              "    <tr style=\"text-align: right;\">\n",
              "      <th></th>\n",
              "      <th>Lucene ID</th>\n",
              "      <th>BERT-SQuAD Answer with Highlights</th>\n",
              "      <th>Confidence</th>\n",
              "      <th>Title/Link</th>\n",
              "      <th>PDF Link</th>\n",
              "    </tr>\n",
              "  </thead>\n",
              "  <tbody>\n",
              "    <tr>\n",
              "      <th>0</th>\n",
              "      <td>33pxylb3</td>\n",
              "      <td><div>  <font color='red'>mers-cov has been detected in the nasal and rectal secretions of infected camels</font> , and mers-cov of this origin has full capacity to infect human airway epithelium in both in vitro and in vivo models.</div></td>\n",
              "      <td>0.620059</td>\n",
              "      <td><a href=\"https://doi.org/10.7717/peerj.7556\" target=\"_blank\">Middle East Respiratory Syndrome Coronavirus and the One Health concept</a></td>\n",
              "      <td>Not Available</td>\n",
              "    </tr>\n",
              "    <tr>\n",
              "      <th>1</th>\n",
              "      <td>ouca1bol</td>\n",
              "      <td><div> clinical samples from all patients  <font color='red'>including nasopharyngeal swab (nps) / sputum, urine, and feces</font>  were collected for serial virus rna testing by standard qrt-pcr assay.</div></td>\n",
              "      <td>0.587198</td>\n",
              "      <td><a href=\"https://doi.org/10.7150/ijbs.45357\" target=\"_blank\">Evaluation of SARS-CoV-2 RNA shedding in clinical specimens and clinical characteristics of 10 patients with COVID-19 in Macau</a></td>\n",
              "      <td>Not Available</td>\n",
              "    </tr>\n",
              "    <tr>\n",
              "      <th>2</th>\n",
              "      <td>gbkgzvc8</td>\n",
              "      <td><div>graphical abstract highlights d sars-cov-2-infected ferrets exhibit elevated body temperature and virus replication d sars-cov-2 is shed in nasal washes,  <font color='red'>saliva, urine and feces</font>  d sars-cov-2 is effectively transmitted to naive ferrets by direct contact d sars-cov-2 infection leads acute bronchiolitis in infected ferrets</div></td>\n",
              "      <td>0.556308</td>\n",
              "      <td><a href=\"https://doi.org/10.1016/j.chom.2020.03.023\" target=\"_blank\">Infection and Rapid Transmission of SARS-CoV-2 in Ferrets</a></td>\n",
              "      <td>Not Available</td>\n",
              "    </tr>\n",
              "  </tbody>\n",
              "</table>"
            ],
            "text/plain": [
              "<IPython.core.display.HTML object>"
            ]
          },
          "metadata": {
            "tags": []
          }
        }
      ]
    },
    {
      "cell_type": "markdown",
      "metadata": {
        "id": "Jjlx4Kj3ri71"
      },
      "source": [
        "What do we know about COVID-19 risk factors?"
      ]
    },
    {
      "cell_type": "code",
      "metadata": {
        "id": "H-6Jvr3krks_",
        "outputId": "61ed041a-95cc-4f9d-f71f-1e25646cce90",
        "colab": {
          "base_uri": "https://localhost:8080/",
          "height": 1000
        }
      },
      "source": [
        "runAllQuestionsByTopic(topic_area, 'What do we know about COVID-19 risk factors?')"
      ],
      "execution_count": 31,
      "outputs": [
        {
          "output_type": "stream",
          "text": [
            "100%|██████████| 10/10 [00:00<00:00, 17.02it/s]\n"
          ],
          "name": "stderr"
        },
        {
          "output_type": "display_data",
          "data": {
            "text/html": [
              "<div style=\"font-family: Times New Roman; font-size: 28px; padding-bottom:28px\"><b>Query</b>: What risk factors contribute to the severity of 2019-nCoV</div>"
            ],
            "text/plain": [
              "<IPython.core.display.HTML object>"
            ]
          },
          "metadata": {
            "tags": []
          }
        },
        {
          "output_type": "stream",
          "text": [
            "Truncation was not explicitely activated but `max_length` is provided a specific value, please use `truncation=True` to explicitely truncate examples to max length. Defaulting to 'longest_first' truncation strategy. If you encode pairs of sequences (GLUE-style) with the tokenizer you can select this strategy more precisely by providing a specific strategy to `truncation`.\n"
          ],
          "name": "stderr"
        },
        {
          "output_type": "display_data",
          "data": {
            "text/html": [
              "<div style=\"font-family: Times New Roman; font-size: 18px; margin-bottom:1pt\"><b>BART Abstractive Summary:</b>: Almost 70 % of patients susceptible to 2019-ncov are over age of 50 years, with extremely large proportion of critical illness and death of the elderly patients. neonates are thought to be susceptible to the virus because their immune system is not well developed. secondary endpoints included the clinical severity of covid-19, neonatal mortality, admission to neonatal intensive care unit (nicu), and the incidence of acute respiratory distress syndrome.</div>"
            ],
            "text/plain": [
              "<IPython.core.display.HTML object>"
            ]
          },
          "metadata": {
            "tags": []
          }
        },
        {
          "output_type": "display_data",
          "data": {
            "text/html": [
              "<div style=\"font-family: Times New Roman; font-size: 12px; padding-bottom:12px; color:#CCCC00; margin-top:1pt\"> Warning this is an autogenerated summary based on semantic search of abstracts, always examine the sources before accepting this conclusion.  If the evidence only mentions topic in passing or the evidence is not clear, the summary will likely not clearly answer the question.</div>"
            ],
            "text/plain": [
              "<IPython.core.display.HTML object>"
            ]
          },
          "metadata": {
            "tags": []
          }
        },
        {
          "output_type": "display_data",
          "data": {
            "text/html": [
              "<table border=\"1\" class=\"dataframe\">\n",
              "  <thead>\n",
              "    <tr style=\"text-align: right;\">\n",
              "      <th></th>\n",
              "      <th>Lucene ID</th>\n",
              "      <th>BERT-SQuAD Answer with Highlights</th>\n",
              "      <th>Confidence</th>\n",
              "      <th>Title/Link</th>\n",
              "      <th>PDF Link</th>\n",
              "    </tr>\n",
              "  </thead>\n",
              "  <tbody>\n",
              "    <tr>\n",
              "      <th>0</th>\n",
              "      <td>7jjpnfay</td>\n",
              "      <td><div>  <font color='red'>almost 70 % of patients susceptible to 2019-ncov are over age of 50 years, with extremely large proportion of critical illness and death of the elderly patients</font> .</div></td>\n",
              "      <td>0.507629</td>\n",
              "      <td><a href=\"https://doi.org/\" target=\"_blank\">Consensus on standardized diagnosis and treatment for osteoporotic vertebral compression fracture patients during epidemic of corona virus disease 2019</a></td>\n",
              "      <td>Not Available</td>\n",
              "    </tr>\n",
              "    <tr>\n",
              "      <th>1</th>\n",
              "      <td>uqkcbs2s</td>\n",
              "      <td><div>in current severe global emergency situation of 2019-ncov outbreak,  <font color='red'>it is imperative to identify vulnerable and susceptible groups for effective protection and care</font> .</div></td>\n",
              "      <td>0.494377</td>\n",
              "      <td><a href=\"https://doi.org/10.1101/2020.02.05.20020107\" target=\"_blank\">Bulk and single-cell transcriptomics identify tobacco-use disparity in lung gene expression of ACE2, the receptor of 2019-nCov</a></td>\n",
              "      <td>Not Available</td>\n",
              "    </tr>\n",
              "    <tr>\n",
              "      <th>2</th>\n",
              "      <td>cdjhmk5z</td>\n",
              "      <td><div>  <font color='red'>neonates are thought to be susceptible to the virus because their immune system is not well developed</font> , which is of great concern to neonatal medical service providers.</div></td>\n",
              "      <td>0.456040</td>\n",
              "      <td><a href=\"https://doi.org/10.1016/s2352-4642(20)30072-9\" target=\"_blank\">Managing neonates with respiratory failure due to SARS-CoV-2 – Authors' reply</a></td>\n",
              "      <td>Not Available</td>\n",
              "    </tr>\n",
              "    <tr>\n",
              "      <th>3</th>\n",
              "      <td>2mohptl2</td>\n",
              "      <td><div> secondary endpoints included  <font color='red'>the clinical severity of covid-19, neonatal mortality, admission to neonatal intensive care unit (nicu), and the incidence of acute respiratory distress syndrome (ards) of pregnant women and newborns</font> .</div></td>\n",
              "      <td>0.388002</td>\n",
              "      <td><a href=\"https://doi.org/10.1101/2020.03.22.20041061\" target=\"_blank\">Clinical features and the maternal and neonatal outcomes of pregnant women with coronavirus disease 2019</a></td>\n",
              "      <td>Not Available</td>\n",
              "    </tr>\n",
              "    <tr>\n",
              "      <th>4</th>\n",
              "      <td>r5jz7966</td>\n",
              "      <td><div>  <font color='red'>no one has progressed to critical pneumonia</font> .</div></td>\n",
              "      <td>0.358068</td>\n",
              "      <td><a href=\"https://doi.org/10.3760/cma.j.cn112141-20200218-00111\" target=\"_blank\">Analysis of the pregnancy outcomes in pregnant women with COVID-19 in Hubei Province</a></td>\n",
              "      <td>Not Available</td>\n",
              "    </tr>\n",
              "  </tbody>\n",
              "</table>"
            ],
            "text/plain": [
              "<IPython.core.display.HTML object>"
            ]
          },
          "metadata": {
            "tags": []
          }
        },
        {
          "output_type": "stream",
          "text": [
            "  0%|          | 0/10 [00:00<?, ?it/s]Token indices sequence length is longer than the specified maximum sequence length for this model (515 > 512). Running this sequence through the model will result in indexing errors\n",
            " 20%|██        | 2/10 [00:00<00:00, 15.38it/s]Token indices sequence length is longer than the specified maximum sequence length for this model (635 > 512). Running this sequence through the model will result in indexing errors\n",
            " 50%|█████     | 5/10 [00:00<00:00, 11.17it/s]Token indices sequence length is longer than the specified maximum sequence length for this model (535 > 512). Running this sequence through the model will result in indexing errors\n",
            " 80%|████████  | 8/10 [00:00<00:00, 10.26it/s]Token indices sequence length is longer than the specified maximum sequence length for this model (521 > 512). Running this sequence through the model will result in indexing errors\n",
            "100%|██████████| 10/10 [00:00<00:00, 10.14it/s]\n"
          ],
          "name": "stderr"
        },
        {
          "output_type": "display_data",
          "data": {
            "text/html": [
              "<div style=\"font-family: Times New Roman; font-size: 28px; padding-bottom:28px\"><b>Query</b>: How does hypertension affect patients</div>"
            ],
            "text/plain": [
              "<IPython.core.display.HTML object>"
            ]
          },
          "metadata": {
            "tags": []
          }
        },
        {
          "output_type": "stream",
          "text": [
            "Truncation was not explicitely activated but `max_length` is provided a specific value, please use `truncation=True` to explicitely truncate examples to max length. Defaulting to 'longest_first' truncation strategy. If you encode pairs of sequences (GLUE-style) with the tokenizer you can select this strategy more precisely by providing a specific strategy to `truncation`.\n"
          ],
          "name": "stderr"
        },
        {
          "output_type": "display_data",
          "data": {
            "text/html": [
              "<div style=\"font-family: Times New Roman; font-size: 18px; margin-bottom:1pt\"><b>BART Abstractive Summary:</b>: Patients who died from coronavirus disease 2019 (covid-19) often had comorbidities, such as hypertension, diabetes, and chronic obstructive lung disease. Increasing age, male gender, and angiotensin-converting enzyme 2 (ace2) associated factors adversely affected the viral clearance.</div>"
            ],
            "text/plain": [
              "<IPython.core.display.HTML object>"
            ]
          },
          "metadata": {
            "tags": []
          }
        },
        {
          "output_type": "display_data",
          "data": {
            "text/html": [
              "<div style=\"font-family: Times New Roman; font-size: 12px; padding-bottom:12px; color:#CCCC00; margin-top:1pt\"> Warning this is an autogenerated summary based on semantic search of abstracts, always examine the sources before accepting this conclusion.  If the evidence only mentions topic in passing or the evidence is not clear, the summary will likely not clearly answer the question.</div>"
            ],
            "text/plain": [
              "<IPython.core.display.HTML object>"
            ]
          },
          "metadata": {
            "tags": []
          }
        },
        {
          "output_type": "display_data",
          "data": {
            "text/html": [
              "<table border=\"1\" class=\"dataframe\">\n",
              "  <thead>\n",
              "    <tr style=\"text-align: right;\">\n",
              "      <th></th>\n",
              "      <th>Lucene ID</th>\n",
              "      <th>BERT-SQuAD Answer with Highlights</th>\n",
              "      <th>Confidence</th>\n",
              "      <th>Title/Link</th>\n",
              "      <th>PDF Link</th>\n",
              "    </tr>\n",
              "  </thead>\n",
              "  <tbody>\n",
              "    <tr>\n",
              "      <th>0</th>\n",
              "      <td>mwttkclk</td>\n",
              "      <td><div> the frequency of arbs / aceis usage in hyper <font color='red'>tension patients with or without covid-19 were comparable</font> .</div></td>\n",
              "      <td>0.686869</td>\n",
              "      <td><a href=\"https://doi.org/10.1101/2020.03.31.20038935\" target=\"_blank\">Angiotensin II Receptor Blockers and Angiotensin-Converting Enzyme Inhibitors Usage is Associated with Improved Inflammatory Status and Clinical Outcomes in COVID-19 Patients With Hypertension</a></td>\n",
              "      <td>Not Available</td>\n",
              "    </tr>\n",
              "    <tr>\n",
              "      <th>1</th>\n",
              "      <td>mfde6juv</td>\n",
              "      <td><div> the incidences of hypertension, cardia-cerebrovascular diseases and diabetes were about twofolds, threefolds and twofolds, respectively,  <font color='red'>higher in icu / severe cases than in their non-icu / severe counterparts</font> .</div></td>\n",
              "      <td>0.653121</td>\n",
              "      <td><a href=\"https://doi.org/10.1007/s00392-020-01626-9\" target=\"_blank\">Prevalence and impact of cardiovascular metabolic diseases on COVID-19 in China</a></td>\n",
              "      <td>Not Available</td>\n",
              "    </tr>\n",
              "    <tr>\n",
              "      <th>2</th>\n",
              "      <td>bpnqz1cn</td>\n",
              "      <td><div> the eldery patients and cases with comorbidities such as hypertension and heart  <font color='red'>failure more easily developed arf</font>  (65.</div></td>\n",
              "      <td>0.622043</td>\n",
              "      <td><a href=\"https://doi.org/10.1101/2020.03.04.20031120\" target=\"_blank\">Human Kidney is a Target for Novel Severe Acute Respiratory Syndrome Coronavirus 2 (SARS-CoV-2) Infection</a></td>\n",
              "      <td>Not Available</td>\n",
              "    </tr>\n",
              "    <tr>\n",
              "      <th>3</th>\n",
              "      <td>o0ot59di</td>\n",
              "      <td><div> the included covid-19 patients used acei, arb, calcium channel blockers (ccb), beta blockers (bb), or thiazide to treat preexisting hypertension prior to the hospital were compared  <font color='red'>to patients who did not take any of those drugs</font> .</div></td>\n",
              "      <td>0.564535</td>\n",
              "      <td><a href=\"https://doi.org/10.1101/2020.03.20.20039586\" target=\"_blank\">Anti-hypertensive Angiotensin II receptor blockers associated to mitigation of disease severity in elderly COVID-19 patients</a></td>\n",
              "      <td>Not Available</td>\n",
              "    </tr>\n",
              "    <tr>\n",
              "      <th>4</th>\n",
              "      <td>2un9aggj</td>\n",
              "      <td><div> patients who died from coronavirus disease 2019 (covid-19) often  <font color='red'>had comorbidities</font> , such as hypertension, diabetes, and chronic obstructive lung disease.</div></td>\n",
              "      <td>0.505894</td>\n",
              "      <td><a href=\"https://doi.org/10.1101/2020.03.21.20040261\" target=\"_blank\">ACE2 Expression is Increased in the Lungs of Patients with Comorbidities Associated with Severe COVID-19</a></td>\n",
              "      <td>Not Available</td>\n",
              "    </tr>\n",
              "    <tr>\n",
              "      <th>5</th>\n",
              "      <td>whnw19pc</td>\n",
              "      <td><div> results : we found that increasing age, male gender, and angiotensin-converting enzyme 2 (ace2) associated factors (including hypertension, diabetes, and cardiovascular diseases <font color='red'>) adversely affected the viral clearance</font> .</div></td>\n",
              "      <td>0.492302</td>\n",
              "      <td><a href=\"https://doi.org/10.1101/2020.03.22.20040774\" target=\"_blank\">Hypertension and Diabetes Delay the Viral Clearance in COVID-19 Patients</a></td>\n",
              "      <td>Not Available</td>\n",
              "    </tr>\n",
              "    <tr>\n",
              "      <th>6</th>\n",
              "      <td>igfur3l9</td>\n",
              "      <td><div> 5 %) had at least one  <font color='red'>of comorbidities</font> , including diabetes, hypertension, hepatic disease, cardiac disease, chronic pulmonary disease and others.</div></td>\n",
              "      <td>0.492097</td>\n",
              "      <td><a href=\"https://doi.org/10.1101/2020.03.13.20035329\" target=\"_blank\">Influence factors of death risk among COVID-19 patients in Wuhan, China: a hospital-based case-cohort study</a></td>\n",
              "      <td>Not Available</td>\n",
              "    </tr>\n",
              "  </tbody>\n",
              "</table>"
            ],
            "text/plain": [
              "<IPython.core.display.HTML object>"
            ]
          },
          "metadata": {
            "tags": []
          }
        },
        {
          "output_type": "stream",
          "text": [
            " 60%|██████    | 6/10 [00:00<00:00, 16.62it/s]Token indices sequence length is longer than the specified maximum sequence length for this model (650 > 512). Running this sequence through the model will result in indexing errors\n",
            "100%|██████████| 10/10 [00:00<00:00, 13.93it/s]\n"
          ],
          "name": "stderr"
        },
        {
          "output_type": "display_data",
          "data": {
            "text/html": [
              "<div style=\"font-family: Times New Roman; font-size: 28px; padding-bottom:28px\"><b>Query</b>: How does heart disease affect patients</div>"
            ],
            "text/plain": [
              "<IPython.core.display.HTML object>"
            ]
          },
          "metadata": {
            "tags": []
          }
        },
        {
          "output_type": "stream",
          "text": [
            "Truncation was not explicitely activated but `max_length` is provided a specific value, please use `truncation=True` to explicitely truncate examples to max length. Defaulting to 'longest_first' truncation strategy. If you encode pairs of sequences (GLUE-style) with the tokenizer you can select this strategy more precisely by providing a specific strategy to `truncation`.\n"
          ],
          "name": "stderr"
        },
        {
          "output_type": "display_data",
          "data": {
            "text/html": [
              "<div style=\"font-family: Times New Roman; font-size: 18px; margin-bottom:1pt\"><b>BART Abstractive Summary:</b>: High levels of heart injury indicators on admission are associated with higher mortality and shorter survival days. Patients with pulmonary fibrosis, heart failure, and virus infection have a higher risk and are more susceptible to sars-cov-2 infection. covid-19 can, in turn, aggravate the damage to the heart.</div>"
            ],
            "text/plain": [
              "<IPython.core.display.HTML object>"
            ]
          },
          "metadata": {
            "tags": []
          }
        },
        {
          "output_type": "display_data",
          "data": {
            "text/html": [
              "<div style=\"font-family: Times New Roman; font-size: 12px; padding-bottom:12px; color:#CCCC00; margin-top:1pt\"> Warning this is an autogenerated summary based on semantic search of abstracts, always examine the sources before accepting this conclusion.  If the evidence only mentions topic in passing or the evidence is not clear, the summary will likely not clearly answer the question.</div>"
            ],
            "text/plain": [
              "<IPython.core.display.HTML object>"
            ]
          },
          "metadata": {
            "tags": []
          }
        },
        {
          "output_type": "display_data",
          "data": {
            "text/html": [
              "<table border=\"1\" class=\"dataframe\">\n",
              "  <thead>\n",
              "    <tr style=\"text-align: right;\">\n",
              "      <th></th>\n",
              "      <th>Lucene ID</th>\n",
              "      <th>BERT-SQuAD Answer with Highlights</th>\n",
              "      <th>Confidence</th>\n",
              "      <th>Title/Link</th>\n",
              "      <th>PDF Link</th>\n",
              "    </tr>\n",
              "  </thead>\n",
              "  <tbody>\n",
              "    <tr>\n",
              "      <th>0</th>\n",
              "      <td>1e5wpt3x</td>\n",
              "      <td><div>  <font color='red'>underlying comorbidities</font>  in some patients were coronary heart disease (n = 2,20 %) ; hypertesion (n = 3 ; 30 %) ;, heart failure (n = 1,10 %) and diabetes (n = 2,20 %).</div></td>\n",
              "      <td>0.612244</td>\n",
              "      <td><a href=\"https://doi.org/10.1101/2020.03.31.20047142\" target=\"_blank\">Clinical features and outcomes of 2019 novel coronavirus-infected patients with high plasma BNP levels</a></td>\n",
              "      <td>Not Available</td>\n",
              "    </tr>\n",
              "    <tr>\n",
              "      <th>1</th>\n",
              "      <td>bpnqz1cn</td>\n",
              "      <td><div> the eldery patients  <font color='red'>and cases with comorbidities such as hypertension and heart failure more easily developed arf</font>  (65.</div></td>\n",
              "      <td>0.604290</td>\n",
              "      <td><a href=\"https://doi.org/10.1101/2020.03.04.20031120\" target=\"_blank\">Human Kidney is a Target for Novel Severe Acute Respiratory Syndrome Coronavirus 2 (SARS-CoV-2) Infection</a></td>\n",
              "      <td>Not Available</td>\n",
              "    </tr>\n",
              "    <tr>\n",
              "      <th>2</th>\n",
              "      <td>nsp2t0i6</td>\n",
              "      <td><div> high levels of heart injury indicators on admission are associated  <font color='red'>with higher mortality and shorter survival days</font> .</div></td>\n",
              "      <td>0.592148</td>\n",
              "      <td><a href=\"https://doi.org/10.1101/2020.02.26.20028589\" target=\"_blank\">Heart injury signs are associated with higher and earlier mortality in coronavirus disease 2019 (COVID-19)</a></td>\n",
              "      <td>Not Available</td>\n",
              "    </tr>\n",
              "    <tr>\n",
              "      <th>3</th>\n",
              "      <td>in3b1nzv</td>\n",
              "      <td><div> our findings indicate  <font color='red'>that patients with pulmonary fibrosis, heart failure, and virus infection have a higher risk and are more susceptible to sars-cov-2 infection</font> .</div></td>\n",
              "      <td>0.577118</td>\n",
              "      <td><a href=\"https://doi.org/10.1101/2020.03.31.20047621\" target=\"_blank\">Single-cell RNA Analysis on ACE2 Expression Provides Insight into SARS-CoV-2 Blood Entry and Heart Injury</a></td>\n",
              "      <td>Not Available</td>\n",
              "    </tr>\n",
              "    <tr>\n",
              "      <th>4</th>\n",
              "      <td>mfde6juv</td>\n",
              "      <td><div> on the other hand, covid-19 can, in turn,  <font color='red'>aggravate the damage to the heart</font> .</div></td>\n",
              "      <td>0.568562</td>\n",
              "      <td><a href=\"https://doi.org/10.1007/s00392-020-01626-9\" target=\"_blank\">Prevalence and impact of cardiovascular metabolic diseases on COVID-19 in China</a></td>\n",
              "      <td>Not Available</td>\n",
              "    </tr>\n",
              "  </tbody>\n",
              "</table>"
            ],
            "text/plain": [
              "<IPython.core.display.HTML object>"
            ]
          },
          "metadata": {
            "tags": []
          }
        },
        {
          "output_type": "stream",
          "text": [
            "  0%|          | 0/10 [00:00<?, ?it/s]Token indices sequence length is longer than the specified maximum sequence length for this model (535 > 512). Running this sequence through the model will result in indexing errors\n",
            "100%|██████████| 10/10 [00:00<00:00, 14.79it/s]\n"
          ],
          "name": "stderr"
        },
        {
          "output_type": "display_data",
          "data": {
            "text/html": [
              "<div style=\"font-family: Times New Roman; font-size: 28px; padding-bottom:28px\"><b>Query</b>: How does copd affect patients</div>"
            ],
            "text/plain": [
              "<IPython.core.display.HTML object>"
            ]
          },
          "metadata": {
            "tags": []
          }
        },
        {
          "output_type": "stream",
          "text": [
            "Truncation was not explicitely activated but `max_length` is provided a specific value, please use `truncation=True` to explicitely truncate examples to max length. Defaulting to 'longest_first' truncation strategy. If you encode pairs of sequences (GLUE-style) with the tokenizer you can select this strategy more precisely by providing a specific strategy to `truncation`.\n"
          ],
          "name": "stderr"
        },
        {
          "output_type": "display_data",
          "data": {
            "text/html": [
              "<div style=\"font-family: Times New Roman; font-size: 18px; margin-bottom:1pt\"><b>BART Abstractive Summary:</b>: Smokers and chronic obstructive pulmonary disease (copd) patients have been reported to be more susceptible to mers-cov infection. Vitamin d de fi ciency enhances bone resorption and osteoporosis in copd for which appropriate vitamin d supplementation is recommended. The estimated overall prevalence of copd in china in 2014-15 was 13 · 6 %.</div>"
            ],
            "text/plain": [
              "<IPython.core.display.HTML object>"
            ]
          },
          "metadata": {
            "tags": []
          }
        },
        {
          "output_type": "display_data",
          "data": {
            "text/html": [
              "<div style=\"font-family: Times New Roman; font-size: 12px; padding-bottom:12px; color:#CCCC00; margin-top:1pt\"> Warning this is an autogenerated summary based on semantic search of abstracts, always examine the sources before accepting this conclusion.  If the evidence only mentions topic in passing or the evidence is not clear, the summary will likely not clearly answer the question.</div>"
            ],
            "text/plain": [
              "<IPython.core.display.HTML object>"
            ]
          },
          "metadata": {
            "tags": []
          }
        },
        {
          "output_type": "display_data",
          "data": {
            "text/html": [
              "<table border=\"1\" class=\"dataframe\">\n",
              "  <thead>\n",
              "    <tr style=\"text-align: right;\">\n",
              "      <th></th>\n",
              "      <th>Lucene ID</th>\n",
              "      <th>BERT-SQuAD Answer with Highlights</th>\n",
              "      <th>Confidence</th>\n",
              "      <th>Title/Link</th>\n",
              "      <th>PDF Link</th>\n",
              "    </tr>\n",
              "  </thead>\n",
              "  <tbody>\n",
              "    <tr>\n",
              "      <th>0</th>\n",
              "      <td>ei2b8oqn</td>\n",
              "      <td><div> because individuals with chronic obstructive pulmonary disease (copd) are  <font color='red'>at increased risk of severe covid-19</font> , we determined whether ace-2 expression in the lower airways was related to copd and cigarette smoking.</div></td>\n",
              "      <td>0.725650</td>\n",
              "      <td><a href=\"https://doi.org/10.1101/2020.03.18.20038455\" target=\"_blank\">ACE-2 Expression in the Small Airway Epithelia of Smokers and COPD Patients: Implications for COVID-19</a></td>\n",
              "      <td>Not Available</td>\n",
              "    </tr>\n",
              "    <tr>\n",
              "      <th>1</th>\n",
              "      <td>piegimgz</td>\n",
              "      <td><div> smokers and chronic obstructive pulmonary disease (copd) patients have been reported to  <font color='red'>be more susceptible to mers-cov infection</font> .</div></td>\n",
              "      <td>0.702974</td>\n",
              "      <td><a href=\"https://doi.org/10.1093/cid/cix741\" target=\"_blank\">DPP4, the Middle East Respiratory Syndrome Coronavirus Receptor, is Upregulated in Lungs of Smokers and Chronic Obstructive Pulmonary Disease Patients</a></td>\n",
              "      <td>Not Available</td>\n",
              "    </tr>\n",
              "    <tr>\n",
              "      <th>2</th>\n",
              "      <td>euzvhtax</td>\n",
              "      <td><div>  <font color='red'>chronic obstructive pulmonary disease (copd) is characterized by chronic in fl ammation of the airways most often because of cigarette smoking. it has been recognized that repetitive airway infections and systemic consequences or co-morbidities also contribute to the progressive nature of copd. vitamin d de fi ciency is known to sneak in from the early stages of copd, to become highly prevalent at the more severe stages, and may thereby catalyse airway infection, in fl ammation and systemic consequences. undoubtedly, vitamin d de fi ciency enhances bone resorption and osteoporosis</font>  in copd for which appropriate vitamin d supplementation is recommended.</div></td>\n",
              "      <td>0.661017</td>\n",
              "      <td><a href=\"https://doi.org/10.1007/978-1-61779-888-7_11\" target=\"_blank\">Vitamin D and Chronic Obstructive Pulmonary Disease</a></td>\n",
              "      <td>Not Available</td>\n",
              "    </tr>\n",
              "    <tr>\n",
              "      <th>3</th>\n",
              "      <td>l0asrcn5</td>\n",
              "      <td><div> conclusion : according to the findings of the present study, hypertension, cardiovascular diseases, diabetes mellitus, smoking,  <font color='red'>chronic obstructive pulmonary disease (copd), malignancy, and chronic kidney disease were among the most prevalent underlying diseases among hospitalized covid-19 patients</font> , respectively.</div></td>\n",
              "      <td>0.579103</td>\n",
              "      <td><a href=\"https://doi.org/\" target=\"_blank\">Prevalence of Underlying Diseases in Hospitalized Patients with COVID-19: a Systematic Review and Meta-Analysis</a></td>\n",
              "      <td>Not Available</td>\n",
              "    </tr>\n",
              "    <tr>\n",
              "      <th>4</th>\n",
              "      <td>e9rcvf8w</td>\n",
              "      <td><div> epidemiological data showed that the older patients with chronic commodities were at high risk of the involvement of the severe and critical type of covid-19, especially patients with chronic obstructive pulmonary disease (copd) resulting  <font color='red'>in high mortalities</font> .</div></td>\n",
              "      <td>0.547263</td>\n",
              "      <td><a href=\"https://doi.org/10.3760/cma.j.cn112147-20200227-00201\" target=\"_blank\">Medical management and prevention instruction of chronic obstructive pulmonary disease during the coronavirus disease 2019 epidemic</a></td>\n",
              "      <td>Not Available</td>\n",
              "    </tr>\n",
              "    <tr>\n",
              "      <th>5</th>\n",
              "      <td>jeapjbmw</td>\n",
              "      <td><div> interpretation in a large, nationally representative sample of adults aged 40 years or older, the estimated overall prevalence of copd in china in 2014-15 was 13 · 6 %, indicating  <font color='red'>that this disease has become a major public-health problem</font> .</div></td>\n",
              "      <td>0.547031</td>\n",
              "      <td><a href=\"https://doi.org/10.1016/s2213-2600(18)30103-6\" target=\"_blank\">Chronic obstructive pulmonary disease in China: a nationwide prevalence study</a></td>\n",
              "      <td>Not Available</td>\n",
              "    </tr>\n",
              "  </tbody>\n",
              "</table>"
            ],
            "text/plain": [
              "<IPython.core.display.HTML object>"
            ]
          },
          "metadata": {
            "tags": []
          }
        },
        {
          "output_type": "stream",
          "text": [
            "  0%|          | 0/10 [00:00<?, ?it/s]Token indices sequence length is longer than the specified maximum sequence length for this model (513 > 512). Running this sequence through the model will result in indexing errors\n",
            " 70%|███████   | 7/10 [00:00<00:00, 12.55it/s]Token indices sequence length is longer than the specified maximum sequence length for this model (546 > 512). Running this sequence through the model will result in indexing errors\n",
            "100%|██████████| 10/10 [00:00<00:00, 13.33it/s]\n"
          ],
          "name": "stderr"
        },
        {
          "output_type": "display_data",
          "data": {
            "text/html": [
              "<div style=\"font-family: Times New Roman; font-size: 28px; padding-bottom:28px\"><b>Query</b>: How does smoking affect 2019-nCoV patients</div>"
            ],
            "text/plain": [
              "<IPython.core.display.HTML object>"
            ]
          },
          "metadata": {
            "tags": []
          }
        },
        {
          "output_type": "stream",
          "text": [
            "Truncation was not explicitely activated but `max_length` is provided a specific value, please use `truncation=True` to explicitely truncate examples to max length. Defaulting to 'longest_first' truncation strategy. If you encode pairs of sequences (GLUE-style) with the tokenizer you can select this strategy more precisely by providing a specific strategy to `truncation`.\n"
          ],
          "name": "stderr"
        },
        {
          "output_type": "display_data",
          "data": {
            "text/html": [
              "<div style=\"font-family: Times New Roman; font-size: 18px; margin-bottom:1pt\"><b>BART Abstractive Summary:</b>: Smokers especially former smokers may be more susceptible to 2019-ncov and have infection paths different with non-smokers. ace-2 expression in lower airways is increased in patients with copd and with current smoking. These data suggest that these two subgroups are at increased risk of serious covid-19 infection.</div>"
            ],
            "text/plain": [
              "<IPython.core.display.HTML object>"
            ]
          },
          "metadata": {
            "tags": []
          }
        },
        {
          "output_type": "display_data",
          "data": {
            "text/html": [
              "<div style=\"font-family: Times New Roman; font-size: 12px; padding-bottom:12px; color:#CCCC00; margin-top:1pt\"> Warning this is an autogenerated summary based on semantic search of abstracts, always examine the sources before accepting this conclusion.  If the evidence only mentions topic in passing or the evidence is not clear, the summary will likely not clearly answer the question.</div>"
            ],
            "text/plain": [
              "<IPython.core.display.HTML object>"
            ]
          },
          "metadata": {
            "tags": []
          }
        },
        {
          "output_type": "display_data",
          "data": {
            "text/html": [
              "<table border=\"1\" class=\"dataframe\">\n",
              "  <thead>\n",
              "    <tr style=\"text-align: right;\">\n",
              "      <th></th>\n",
              "      <th>Lucene ID</th>\n",
              "      <th>BERT-SQuAD Answer with Highlights</th>\n",
              "      <th>Confidence</th>\n",
              "      <th>Title/Link</th>\n",
              "      <th>PDF Link</th>\n",
              "    </tr>\n",
              "  </thead>\n",
              "  <tbody>\n",
              "    <tr>\n",
              "      <th>0</th>\n",
              "      <td>uqkcbs2s</td>\n",
              "      <td><div> together, this study indicates  <font color='red'>that smokers especially former smokers may be more susceptible to 2019-ncov and have infection paths different with non-smokers</font> .</div></td>\n",
              "      <td>0.662034</td>\n",
              "      <td><a href=\"https://doi.org/10.1101/2020.02.05.20020107\" target=\"_blank\">Bulk and single-cell transcriptomics identify tobacco-use disparity in lung gene expression of ACE2, the receptor of 2019-nCov</a></td>\n",
              "      <td>Not Available</td>\n",
              "    </tr>\n",
              "    <tr>\n",
              "      <th>1</th>\n",
              "      <td>ei2b8oqn</td>\n",
              "      <td><div> conclusions  <font color='red'>: ace-2 expression in lower airways is increased in patients with copd and with current smoking. these data suggest that these two subgroups are at increased risk of serious covid-19 infection and highlight the importance of smoking cessation in reducing the risk</font> .</div></td>\n",
              "      <td>0.652870</td>\n",
              "      <td><a href=\"https://doi.org/10.1101/2020.03.18.20038455\" target=\"_blank\">ACE-2 Expression in the Small Airway Epithelia of Smokers and COPD Patients: Implications for COVID-19</a></td>\n",
              "      <td>Not Available</td>\n",
              "    </tr>\n",
              "    <tr>\n",
              "      <th>2</th>\n",
              "      <td>mjhez5im</td>\n",
              "      <td><div> besides, based on the expression of ace2 in smoking individuals, we inferred  <font color='red'>that long-term smoking might be a risk factor for 2019-ncov</font> .</div></td>\n",
              "      <td>0.620185</td>\n",
              "      <td><a href=\"https://doi.org/10.1101/2020.02.03.20020206\" target=\"_blank\">Integrative Bioinformatics Analysis Provides Insight into the Molecular Mechanisms of 2019-nCoV</a></td>\n",
              "      <td>Not Available</td>\n",
              "    </tr>\n",
              "    <tr>\n",
              "      <th>3</th>\n",
              "      <td>4ihv80au</td>\n",
              "      <td><div>, 2019-ncov and sars-cov) are phylogenetically distantly related,  <font color='red'>but both are capable of infecting human hosts via the same receptor, angiotensin-converting enzyme 2, and cause similar clinical and pathological features</font> , suggesting their phenotypic convergence.</div></td>\n",
              "      <td>0.216295</td>\n",
              "      <td><a href=\"https://doi.org/10.1101/2020.03.04.975995\" target=\"_blank\">Strong evolutionary convergence of receptor-binding protein spike between COVID-19 and SARS-related coronaviruses</a></td>\n",
              "      <td>Not Available</td>\n",
              "    </tr>\n",
              "  </tbody>\n",
              "</table>"
            ],
            "text/plain": [
              "<IPython.core.display.HTML object>"
            ]
          },
          "metadata": {
            "tags": []
          }
        },
        {
          "output_type": "stream",
          "text": [
            " 80%|████████  | 8/10 [00:00<00:00, 13.57it/s]Token indices sequence length is longer than the specified maximum sequence length for this model (515 > 512). Running this sequence through the model will result in indexing errors\n",
            "100%|██████████| 10/10 [00:00<00:00, 14.01it/s]\n"
          ],
          "name": "stderr"
        },
        {
          "output_type": "display_data",
          "data": {
            "text/html": [
              "<div style=\"font-family: Times New Roman; font-size: 28px; padding-bottom:28px\"><b>Query</b>: How does pregnancy affect patients</div>"
            ],
            "text/plain": [
              "<IPython.core.display.HTML object>"
            ]
          },
          "metadata": {
            "tags": []
          }
        },
        {
          "output_type": "stream",
          "text": [
            "Truncation was not explicitely activated but `max_length` is provided a specific value, please use `truncation=True` to explicitely truncate examples to max length. Defaulting to 'longest_first' truncation strategy. If you encode pairs of sequences (GLUE-style) with the tokenizer you can select this strategy more precisely by providing a specific strategy to `truncation`.\n"
          ],
          "name": "stderr"
        },
        {
          "output_type": "display_data",
          "data": {
            "text/html": [
              "<div style=\"font-family: Times New Roman; font-size: 18px; margin-bottom:1pt\"><b>BART Abstractive Summary:</b>: An increasing proportion of the women are now infected with this virus during their pregnancy, which may put them in danger in terms of adverse maternal and newborn outcomes. There is little information about the coronavirus disease 2019 during pregnancy. This study aimed to determine the clinical features and the maternal and neonatal outcomes of pregnant women with covid-19.</div>"
            ],
            "text/plain": [
              "<IPython.core.display.HTML object>"
            ]
          },
          "metadata": {
            "tags": []
          }
        },
        {
          "output_type": "display_data",
          "data": {
            "text/html": [
              "<div style=\"font-family: Times New Roman; font-size: 12px; padding-bottom:12px; color:#CCCC00; margin-top:1pt\"> Warning this is an autogenerated summary based on semantic search of abstracts, always examine the sources before accepting this conclusion.  If the evidence only mentions topic in passing or the evidence is not clear, the summary will likely not clearly answer the question.</div>"
            ],
            "text/plain": [
              "<IPython.core.display.HTML object>"
            ]
          },
          "metadata": {
            "tags": []
          }
        },
        {
          "output_type": "display_data",
          "data": {
            "text/html": [
              "<table border=\"1\" class=\"dataframe\">\n",
              "  <thead>\n",
              "    <tr style=\"text-align: right;\">\n",
              "      <th></th>\n",
              "      <th>Lucene ID</th>\n",
              "      <th>BERT-SQuAD Answer with Highlights</th>\n",
              "      <th>Confidence</th>\n",
              "      <th>Title/Link</th>\n",
              "      <th>PDF Link</th>\n",
              "    </tr>\n",
              "  </thead>\n",
              "  <tbody>\n",
              "    <tr>\n",
              "      <th>0</th>\n",
              "      <td>r5jz7966</td>\n",
              "      <td><div> conclusions : if there is an indication for obstetric surgery or critical illness of covid-19 in pregnant women,  <font color='red'>timely termination of pregnancy will not increase the risk of premature birth and asphyxia of the newborn</font> , but it is beneficial to the treatment and rehabilitation of maternal pneumonia.</div></td>\n",
              "      <td>0.650292</td>\n",
              "      <td><a href=\"https://doi.org/10.3760/cma.j.cn112141-20200218-00111\" target=\"_blank\">Analysis of the pregnancy outcomes in pregnant women with COVID-19 in Hubei Province</a></td>\n",
              "      <td>Not Available</td>\n",
              "    </tr>\n",
              "    <tr>\n",
              "      <th>1</th>\n",
              "      <td>0hrmk77p</td>\n",
              "      <td><div> an increasing proportion of the women are now infected with this virus during their pregnancy, which may put them in danger in terms  <font color='red'>of adverse maternal and newborn outcomes</font> .</div></td>\n",
              "      <td>0.553620</td>\n",
              "      <td><a href=\"https://doi.org/10.1101/2020.03.31.20049304\" target=\"_blank\">COVID-19 infection during pregnancy: a systematic review to summarize possible symptoms, treatments, and pregnancy outcomes</a></td>\n",
              "      <td>Not Available</td>\n",
              "    </tr>\n",
              "    <tr>\n",
              "      <th>2</th>\n",
              "      <td>2mohptl2</td>\n",
              "      <td><div> <font color='red'>there is little information about the coronavirus disease 2019 during pregnancy. this study aimed to determine the clinical features and the maternal and neonatal outcomes of pregnant women with covid-19. in this retrospective analysis from five hospitals, we included pregnant women with covid-19 from january 1 to february 20,2020. the primary composite endpoints were admission to an intensive care unit (icu), the use of mechanical ventilation, or death. secondary endpoints included the clinical severity of covid-19, neonatal mortality, admission to neonatal intensive care unit (nicu), and the incidence of acute respiratory distress syndrome (ards) of pregnant women and newborns. thirty-three pregnant women with covid-19 and 28 newborns were identified. one (3 %) pregnant woman needed the use of mechanical ventilation. no pregnant women admitted to the icu. there were no moralities among pregnant women or newborns. the percentages of pregnant women with mild, moderate, and severe symptoms were 13 (39. 4 %), 19 (57. 6 %), and 1 (3 %). one (3. 6 %) newborn developed ards and was admitted to the nicu. the rate of perinatal transmission of sars-cov-2 was 3. 6 %. all rights reserved. no reuse allowed without permission. author / funder, who has granted medrxiv a license to display the preprint in perpetuity. : medrxiv preprint this report suggests that pregnant women are not at increased risk for severe illness or mortality with covid-19 compared with the general population</font> .</div></td>\n",
              "      <td>0.552768</td>\n",
              "      <td><a href=\"https://doi.org/10.1101/2020.03.22.20041061\" target=\"_blank\">Clinical features and the maternal and neonatal outcomes of pregnant women with coronavirus disease 2019</a></td>\n",
              "      <td>Not Available</td>\n",
              "    </tr>\n",
              "    <tr>\n",
              "      <th>3</th>\n",
              "      <td>ze8bdzkb</td>\n",
              "      <td><div>  <font color='red'>pregnancy complications that appeared after the onset of covid-19 infection included fetal distress in two of nine patients and premature rupture of the membranes in two of nine patients</font> .</div></td>\n",
              "      <td>0.548210</td>\n",
              "      <td><a href=\"https://doi.org/10.1002/uog.22006\" target=\"_blank\">Novel coronavirus infection and pregnancy</a></td>\n",
              "      <td>Not Available</td>\n",
              "    </tr>\n",
              "    <tr>\n",
              "      <th>4</th>\n",
              "      <td>x23ej29m</td>\n",
              "      <td><div>  <font color='red'>the number of affected pregnant women is increasing, but scarce information is available about the clinical features of covid-19 in pregnancy. this study aimed to clarify the clinical features and obstetric and neonatal outcomes of pregnant patients with covid-19. methods in this retrospective, single-centre study, we included all pregnant women with covid-19 who were admitted to tongji hospital in wuhan, china. clinical features, treatments, and maternal and fetal outcomes were assessed. findings seven patients, admitted to tongji hospital from jan 1, to feb 8,2020, were included in our study. the mean age of the patients was 32 years (range 29-34 years) and the mean gestational age was 39 weeks plus 1 day (range 37 weeks to 41 weeks plus 2 interpretation the maternal, fetal, and neonatal outcomes of patients who were infected in late pregnancy appeared very good, and these outcomes were achieved with intensive, active management that might be the best practice in the absence of more robust data. the clinical characteristics of these patients with covid-19 during pregnancy were similar to those of non-pregnant adults with covid-19 that have been reported in the literature</font> .</div></td>\n",
              "      <td>0.535435</td>\n",
              "      <td><a href=\"https://doi.org/10.1016/s1473-3099(20)30176-6\" target=\"_blank\">Clinical features and obstetric and neonatal outcomes of pregnant patients with COVID-19 in Wuhan, China: a retrospective, single-centre, descriptive study</a></td>\n",
              "      <td>Not Available</td>\n",
              "    </tr>\n",
              "    <tr>\n",
              "      <th>5</th>\n",
              "      <td>drto66xt</td>\n",
              "      <td><div>  <font color='red'>fetal distress was monitored in two cases. five of nine patients had lymphopenia (< 1 · 0 × 10⁹ cells per l). three patients had increased aminotransferase concentrations. none of the patients developed severe covid-19 pneumonia or died, as of feb 4,2020. nine livebirths were recorded. no neonatal asphyxia was observed in newborn babies</font> .</div></td>\n",
              "      <td>0.492117</td>\n",
              "      <td><a href=\"https://doi.org/10.1016/s0140-6736(20)30360-3\" target=\"_blank\">Clinical characteristics and intrauterine vertical transmission potential of COVID-19 infection in nine pregnant women: a retrospective review of medical records</a></td>\n",
              "      <td>Not Available</td>\n",
              "    </tr>\n",
              "    <tr>\n",
              "      <th>6</th>\n",
              "      <td>djuomhww</td>\n",
              "      <td><div>introduction : the outbreak of the new coronavirus in china in december 2019 and subsequently in various countries around the world has raised concerns about the possibility  <font color='red'>of vertical transmission</font>  of the virus from mother to fetus.</div></td>\n",
              "      <td>0.423665</td>\n",
              "      <td><a href=\"https://doi.org/\" target=\"_blank\">Risks of Novel Coronavirus Disease (COVID-19) in Pregnancy; a Narrative Review</a></td>\n",
              "      <td>Not Available</td>\n",
              "    </tr>\n",
              "  </tbody>\n",
              "</table>"
            ],
            "text/plain": [
              "<IPython.core.display.HTML object>"
            ]
          },
          "metadata": {
            "tags": []
          }
        },
        {
          "output_type": "stream",
          "text": [
            " 10%|█         | 1/10 [00:00<00:01,  7.62it/s]Token indices sequence length is longer than the specified maximum sequence length for this model (540 > 512). Running this sequence through the model will result in indexing errors\n",
            " 20%|██        | 2/10 [00:00<00:01,  7.38it/s]Token indices sequence length is longer than the specified maximum sequence length for this model (583 > 512). Running this sequence through the model will result in indexing errors\n",
            "100%|██████████| 10/10 [00:00<00:00, 11.39it/s]\n"
          ],
          "name": "stderr"
        },
        {
          "output_type": "display_data",
          "data": {
            "text/html": [
              "<div style=\"font-family: Times New Roman; font-size: 28px; padding-bottom:28px\"><b>Query</b>: What are the case fatality rates for 2019-nCoV patients</div>"
            ],
            "text/plain": [
              "<IPython.core.display.HTML object>"
            ]
          },
          "metadata": {
            "tags": []
          }
        },
        {
          "output_type": "stream",
          "text": [
            "Truncation was not explicitely activated but `max_length` is provided a specific value, please use `truncation=True` to explicitely truncate examples to max length. Defaulting to 'longest_first' truncation strategy. If you encode pairs of sequences (GLUE-style) with the tokenizer you can select this strategy more precisely by providing a specific strategy to `truncation`.\n"
          ],
          "name": "stderr"
        },
        {
          "output_type": "display_data",
          "data": {
            "text/html": [
              "<div style=\"font-family: Times New Roman; font-size: 18px; margin-bottom:1pt\"><b>BART Abstractive Summary:</b>: Since the emergence of coronavirus disease 2019 (covid-19) (formerly known as the 2019 novel coronavirus [ 2019-ncov ]) in wuhan, china in december 2019, more than 75,000 cases have been reported in 32 countries / regions. The case fatality rate in patients infected with sarc-cov-2 is 4. 3 %, and the results indicate that the mortality is higher in elderly individuals and patients with chronic conditions.</div>"
            ],
            "text/plain": [
              "<IPython.core.display.HTML object>"
            ]
          },
          "metadata": {
            "tags": []
          }
        },
        {
          "output_type": "display_data",
          "data": {
            "text/html": [
              "<div style=\"font-family: Times New Roman; font-size: 12px; padding-bottom:12px; color:#CCCC00; margin-top:1pt\"> Warning this is an autogenerated summary based on semantic search of abstracts, always examine the sources before accepting this conclusion.  If the evidence only mentions topic in passing or the evidence is not clear, the summary will likely not clearly answer the question.</div>"
            ],
            "text/plain": [
              "<IPython.core.display.HTML object>"
            ]
          },
          "metadata": {
            "tags": []
          }
        },
        {
          "output_type": "display_data",
          "data": {
            "text/html": [
              "<table border=\"1\" class=\"dataframe\">\n",
              "  <thead>\n",
              "    <tr style=\"text-align: right;\">\n",
              "      <th></th>\n",
              "      <th>Lucene ID</th>\n",
              "      <th>BERT-SQuAD Answer with Highlights</th>\n",
              "      <th>Confidence</th>\n",
              "      <th>Title/Link</th>\n",
              "      <th>PDF Link</th>\n",
              "    </tr>\n",
              "  </thead>\n",
              "  <tbody>\n",
              "    <tr>\n",
              "      <th>0</th>\n",
              "      <td>ejg393zs</td>\n",
              "      <td><div> the case fatality rate in patients infected with sarc-cov-2  <font color='red'>is 4. 3 %</font> , and the results indicate that the mortality is higher in elderly individuals and patients with chronic conditions including patients with coronary artery disease, diabetes, chronic pulmonary disease, and hypertension.</div></td>\n",
              "      <td>0.667228</td>\n",
              "      <td><a href=\"https://doi.org/\" target=\"_blank\">Novel Coronavirus Disease 2019 (COVID-19): An Emerging Infectious Disease in the 21st Century</a></td>\n",
              "      <td>Not Available</td>\n",
              "    </tr>\n",
              "    <tr>\n",
              "      <th>1</th>\n",
              "      <td>aoi4iqkf</td>\n",
              "      <td><div> 1 %, and the case fatality rate of patients with 2019-ncov infection  <font color='red'>was 4. 3 %</font> .</div></td>\n",
              "      <td>0.653511</td>\n",
              "      <td><a href=\"https://doi.org/10.1101/2020.02.18.20024539\" target=\"_blank\">Clinical characteristics of 50466 patients with 2019-nCoV infection</a></td>\n",
              "      <td>Not Available</td>\n",
              "    </tr>\n",
              "    <tr>\n",
              "      <th>2</th>\n",
              "      <td>pth2d40p</td>\n",
              "      <td><div>since the emergence of coronavirus disease 2019 (covid-19) (formerly known as the 2019 novel coronavirus [ 2019-ncov ]) in wuhan, china in december 2019, which is caused by severe acute respiratory syndrome coronavirus 2 (sars-cov-2), more than 75,000 cases have been reported in 32 countries / regions, resulting  <font color='red'>in more than 2000 deaths worldwide</font> .</div></td>\n",
              "      <td>0.533336</td>\n",
              "      <td><a href=\"https://doi.org/10.1016/j.jmii.2020.02.012\" target=\"_blank\">Asymptomatic carrier state, acute respiratory disease, and pneumonia due to severe acute respiratory syndrome coronavirus 2 (SARSCoV-2): Facts and myths</a></td>\n",
              "      <td>Not Available</td>\n",
              "    </tr>\n",
              "    <tr>\n",
              "      <th>3</th>\n",
              "      <td>zppc6p20</td>\n",
              "      <td><div> it infected 34799 people and resulted in 724  <font color='red'>(2. 08 %</font> ) casualties during the period december 29,2019 to february 7,2020.</div></td>\n",
              "      <td>0.386178</td>\n",
              "      <td><a href=\"https://doi.org/10.26355/eurrev_202002_20379\" target=\"_blank\">Novel coronavirus 2019-nCoV: prevalence, biological and clinical characteristics comparison with SARS-CoV and MERS-CoV</a></td>\n",
              "      <td>Not Available</td>\n",
              "    </tr>\n",
              "    <tr>\n",
              "      <th>4</th>\n",
              "      <td>ztcyvsoi</td>\n",
              "      <td><div> <font color='red'>there is a new public health crises threatening the world with the emergence and spread of 2019 novel coronavirus</font>  (2019-ncov)</div></td>\n",
              "      <td>0.289822</td>\n",
              "      <td><a href=\"https://doi.org/10.1007/s12098-020-03263-6\" target=\"_blank\">A Review of Coronavirus Disease-2019 (COVID-19)</a></td>\n",
              "      <td>Not Available</td>\n",
              "    </tr>\n",
              "  </tbody>\n",
              "</table>"
            ],
            "text/plain": [
              "<IPython.core.display.HTML object>"
            ]
          },
          "metadata": {
            "tags": []
          }
        },
        {
          "output_type": "stream",
          "text": [
            "  0%|          | 0/10 [00:00<?, ?it/s]Token indices sequence length is longer than the specified maximum sequence length for this model (517 > 512). Running this sequence through the model will result in indexing errors\n",
            " 30%|███       | 3/10 [00:00<00:00, 15.24it/s]Token indices sequence length is longer than the specified maximum sequence length for this model (536 > 512). Running this sequence through the model will result in indexing errors\n",
            " 70%|███████   | 7/10 [00:00<00:00, 11.65it/s]Token indices sequence length is longer than the specified maximum sequence length for this model (579 > 512). Running this sequence through the model will result in indexing errors\n",
            "100%|██████████| 10/10 [00:00<00:00, 12.44it/s]\n"
          ],
          "name": "stderr"
        },
        {
          "output_type": "display_data",
          "data": {
            "text/html": [
              "<div style=\"font-family: Times New Roman; font-size: 28px; padding-bottom:28px\"><b>Query</b>: What is the case fatality rate in Italy</div>"
            ],
            "text/plain": [
              "<IPython.core.display.HTML object>"
            ]
          },
          "metadata": {
            "tags": []
          }
        },
        {
          "output_type": "stream",
          "text": [
            "Truncation was not explicitely activated but `max_length` is provided a specific value, please use `truncation=True` to explicitely truncate examples to max length. Defaulting to 'longest_first' truncation strategy. If you encode pairs of sequences (GLUE-style) with the tokenizer you can select this strategy more precisely by providing a specific strategy to `truncation`.\n"
          ],
          "name": "stderr"
        },
        {
          "output_type": "display_data",
          "data": {
            "text/html": [
              "<div style=\"font-family: Times New Roman; font-size: 18px; margin-bottom:1pt\"><b>BART Abstractive Summary:</b>: The mortality is higher in elderly individuals and patients with chronic conditions including patients with coronary artery disease, diabetes, chronic pulmonary disease, and hypertension. The case fatality rate in patients infected with sarc-cov-2 is 4.3 %, with a high covid-19 fatality rate of 7.7%.</div>"
            ],
            "text/plain": [
              "<IPython.core.display.HTML object>"
            ]
          },
          "metadata": {
            "tags": []
          }
        },
        {
          "output_type": "display_data",
          "data": {
            "text/html": [
              "<div style=\"font-family: Times New Roman; font-size: 12px; padding-bottom:12px; color:#CCCC00; margin-top:1pt\"> Warning this is an autogenerated summary based on semantic search of abstracts, always examine the sources before accepting this conclusion.  If the evidence only mentions topic in passing or the evidence is not clear, the summary will likely not clearly answer the question.</div>"
            ],
            "text/plain": [
              "<IPython.core.display.HTML object>"
            ]
          },
          "metadata": {
            "tags": []
          }
        },
        {
          "output_type": "display_data",
          "data": {
            "text/html": [
              "<table border=\"1\" class=\"dataframe\">\n",
              "  <thead>\n",
              "    <tr style=\"text-align: right;\">\n",
              "      <th></th>\n",
              "      <th>Lucene ID</th>\n",
              "      <th>BERT-SQuAD Answer with Highlights</th>\n",
              "      <th>Confidence</th>\n",
              "      <th>Title/Link</th>\n",
              "      <th>PDF Link</th>\n",
              "    </tr>\n",
              "  </thead>\n",
              "  <tbody>\n",
              "    <tr>\n",
              "      <th>0</th>\n",
              "      <td>u1i5onqr</td>\n",
              "      <td><div> calculating the total case fatality rate (cfr) of italy (2020-03-04),  <font color='red'>about 7. 9 % of confirmed cases passed away</font> .</div></td>\n",
              "      <td>0.807883</td>\n",
              "      <td><a href=\"https://doi.org/10.1101/2020.03.15.20036418\" target=\"_blank\">Understanding Epidemic Data and Statistics: A case study of COVID-19</a></td>\n",
              "      <td>Not Available</td>\n",
              "    </tr>\n",
              "    <tr>\n",
              "      <th>1</th>\n",
              "      <td>wmxemk5r</td>\n",
              "      <td><div> comparison between case fatality rates in china and italy are identical  <font color='red'>at 2. 3</font> .</div></td>\n",
              "      <td>0.768221</td>\n",
              "      <td><a href=\"https://doi.org/10.3855/jidc.12600\" target=\"_blank\">Similarity in Case Fatality Rates (CFR) of COVID-19/SARS-COV-2 in Italy and China</a></td>\n",
              "      <td>Not Available</td>\n",
              "    </tr>\n",
              "    <tr>\n",
              "      <th>2</th>\n",
              "      <td>bxwcixd7</td>\n",
              "      <td><div> 92 %, with a high covid-19 fatality rate in italy  <font color='red'>(7. 7 %</font> ), iran (5.</div></td>\n",
              "      <td>0.746093</td>\n",
              "      <td><a href=\"https://doi.org/10.1101/2020.03.26.20044743\" target=\"_blank\">Global, Regional and National Incidence and Case-fatality rates of Novel Coronavirus (COVID-19) across 154 countries and territories: A systematic assessment of cases reported from January to March 16, 2020</a></td>\n",
              "      <td>Not Available</td>\n",
              "    </tr>\n",
              "    <tr>\n",
              "      <th>3</th>\n",
              "      <td>lgqseo8t</td>\n",
              "      <td><div> these estimates differ markedly from those documented in countries such as spain and italy, in which covid-19 case fatality rates  <font color='red'>exceed 8 %</font>  (case of italy) and from the percentage of patients who have required intensive care, which has ranged from 9 % to 11 % of patients in mediterranean european countries.</div></td>\n",
              "      <td>0.668458</td>\n",
              "      <td><a href=\"https://doi.org/10.1016/j.sapharm.2020.03.013\" target=\"_blank\">COVID-19 in Colombia endpoints. Are we different, like Europe?</a></td>\n",
              "      <td>Not Available</td>\n",
              "    </tr>\n",
              "    <tr>\n",
              "      <th>4</th>\n",
              "      <td>ejg393zs</td>\n",
              "      <td><div> the case fatality rate in patients infected with sarc-cov-2  <font color='red'>is 4. 3 %</font> , and the results indicate that the mortality is higher in elderly individuals and patients with chronic conditions including patients with coronary artery disease, diabetes, chronic pulmonary disease, and hypertension.</div></td>\n",
              "      <td>0.540315</td>\n",
              "      <td><a href=\"https://doi.org/\" target=\"_blank\">Novel Coronavirus Disease 2019 (COVID-19): An Emerging Infectious Disease in the 21st Century</a></td>\n",
              "      <td>Not Available</td>\n",
              "    </tr>\n",
              "  </tbody>\n",
              "</table>"
            ],
            "text/plain": [
              "<IPython.core.display.HTML object>"
            ]
          },
          "metadata": {
            "tags": []
          }
        },
        {
          "output_type": "stream",
          "text": [
            " 30%|███       | 3/10 [00:00<00:00, 27.64it/s]Token indices sequence length is longer than the specified maximum sequence length for this model (541 > 512). Running this sequence through the model will result in indexing errors\n",
            " 40%|████      | 4/10 [00:00<00:00, 14.57it/s]Token indices sequence length is longer than the specified maximum sequence length for this model (583 > 512). Running this sequence through the model will result in indexing errors\n",
            " 60%|██████    | 6/10 [00:00<00:00, 12.37it/s]Token indices sequence length is longer than the specified maximum sequence length for this model (584 > 512). Running this sequence through the model will result in indexing errors\n",
            " 80%|████████  | 8/10 [00:00<00:00, 11.75it/s]Token indices sequence length is longer than the specified maximum sequence length for this model (573 > 512). Running this sequence through the model will result in indexing errors\n",
            " 90%|█████████ | 9/10 [00:00<00:00,  9.21it/s]Token indices sequence length is longer than the specified maximum sequence length for this model (1059 > 512). Running this sequence through the model will result in indexing errors\n",
            "100%|██████████| 10/10 [00:01<00:00,  8.85it/s]\n"
          ],
          "name": "stderr"
        },
        {
          "output_type": "display_data",
          "data": {
            "text/html": [
              "<div style=\"font-family: Times New Roman; font-size: 28px; padding-bottom:28px\"><b>Query</b>: What public health policies prevent or control the spread of 2019-nCoV</div>"
            ],
            "text/plain": [
              "<IPython.core.display.HTML object>"
            ]
          },
          "metadata": {
            "tags": []
          }
        },
        {
          "output_type": "stream",
          "text": [
            "Truncation was not explicitely activated but `max_length` is provided a specific value, please use `truncation=True` to explicitely truncate examples to max length. Defaulting to 'longest_first' truncation strategy. If you encode pairs of sequences (GLUE-style) with the tokenizer you can select this strategy more precisely by providing a specific strategy to `truncation`.\n"
          ],
          "name": "stderr"
        },
        {
          "output_type": "display_data",
          "data": {
            "text/html": [
              "<div style=\"font-family: Times New Roman; font-size: 18px; margin-bottom:1pt\"><b>BART Abstractive Summary:</b>: The outbreak was declared by the who a public health emergency of international concern (pheic) as it had spread to 18 countries with four countries reporting human-to-human transmission. Currently, due to the lack of an effective treatment and vaccine, the best way to deal with the covid-19 disease is to prevent transmission and spread of the virus.</div>"
            ],
            "text/plain": [
              "<IPython.core.display.HTML object>"
            ]
          },
          "metadata": {
            "tags": []
          }
        },
        {
          "output_type": "display_data",
          "data": {
            "text/html": [
              "<div style=\"font-family: Times New Roman; font-size: 12px; padding-bottom:12px; color:#CCCC00; margin-top:1pt\"> Warning this is an autogenerated summary based on semantic search of abstracts, always examine the sources before accepting this conclusion.  If the evidence only mentions topic in passing or the evidence is not clear, the summary will likely not clearly answer the question.</div>"
            ],
            "text/plain": [
              "<IPython.core.display.HTML object>"
            ]
          },
          "metadata": {
            "tags": []
          }
        },
        {
          "output_type": "display_data",
          "data": {
            "text/html": [
              "<table border=\"1\" class=\"dataframe\">\n",
              "  <thead>\n",
              "    <tr style=\"text-align: right;\">\n",
              "      <th></th>\n",
              "      <th>Lucene ID</th>\n",
              "      <th>BERT-SQuAD Answer with Highlights</th>\n",
              "      <th>Confidence</th>\n",
              "      <th>Title/Link</th>\n",
              "      <th>PDF Link</th>\n",
              "    </tr>\n",
              "  </thead>\n",
              "  <tbody>\n",
              "    <tr>\n",
              "      <th>0</th>\n",
              "      <td>q856rx6b</td>\n",
              "      <td><div> these findings can help the government and health departments better communicate with the public on health and translate public health needs into practice to  <font color='red'>create targeted measures to prevent and control the spread of covid-19</font> .</div></td>\n",
              "      <td>0.687958</td>\n",
              "      <td><a href=\"https://doi.org/10.1101/2020.03.18.20038026\" target=\"_blank\">Chinese Public Attention to COVID-19 Epidemic: Based on Social Media</a></td>\n",
              "      <td>Not Available</td>\n",
              "    </tr>\n",
              "    <tr>\n",
              "      <th>1</th>\n",
              "      <td>zppc6p20</td>\n",
              "      <td><div>  <font color='red'>global health authorities should take immediate measures to prevent the outbreaks of such emerging and reemerging pathogens across the globe to minimize the disease burden locally and globally</font> .</div></td>\n",
              "      <td>0.612341</td>\n",
              "      <td><a href=\"https://doi.org/10.26355/eurrev_202002_20379\" target=\"_blank\">Novel coronavirus 2019-nCoV: prevalence, biological and clinical characteristics comparison with SARS-CoV and MERS-CoV</a></td>\n",
              "      <td>Not Available</td>\n",
              "    </tr>\n",
              "    <tr>\n",
              "      <th>2</th>\n",
              "      <td>l4o7nicc</td>\n",
              "      <td><div> although these measures might not prevent widespread transmission of the virus in the united states, they are being implemented to 1 <font color='red'>) slow the spread of illness</font>  ; 2) provide time to better prepare state and local health departments, health care systems, businesses, educational organizations, and the general public in the event that widespread transmission occurs ; and 3) better characterize covid-19 to guide public health recommendations and the development and deployment of medical countermeasures, including diagnostics, therapeutics, and vaccines.</div></td>\n",
              "      <td>0.573463</td>\n",
              "      <td><a href=\"https://doi.org/10.15585/mmwr.mm6908e1\" target=\"_blank\">Update: Public Health Response to the Coronavirus Disease 2019 Outbreak - United States, February 24, 2020</a></td>\n",
              "      <td>Not Available</td>\n",
              "    </tr>\n",
              "    <tr>\n",
              "      <th>3</th>\n",
              "      <td>ejg393zs</td>\n",
              "      <td><div> currently, due to the lack of an effective treatment and vaccine, the best way to deal with the covid-19 disease is to prevent transmission and spread of the virus and to  <font color='red'>execute personal protective measures</font> .</div></td>\n",
              "      <td>0.569224</td>\n",
              "      <td><a href=\"https://doi.org/\" target=\"_blank\">Novel Coronavirus Disease 2019 (COVID-19): An Emerging Infectious Disease in the 21st Century</a></td>\n",
              "      <td>Not Available</td>\n",
              "    </tr>\n",
              "    <tr>\n",
              "      <th>4</th>\n",
              "      <td>9sdehh8v</td>\n",
              "      <td><div> in a meeting on january 30,2020, per  <font color='red'>the international health regulations</font>  (ihr, 2005), the outbreak was declared by the who a public health emergency of international concern (pheic) as it had spread to 18 countries with four countries reporting human-to-human transmission.</div></td>\n",
              "      <td>0.559437</td>\n",
              "      <td><a href=\"https://doi.org/\" target=\"_blank\">Features, Evaluation and Treatment Coronavirus (COVID-19)</a></td>\n",
              "      <td>Not Available</td>\n",
              "    </tr>\n",
              "    <tr>\n",
              "      <th>5</th>\n",
              "      <td>s9j4yv3j</td>\n",
              "      <td><div> this threat is posing a severe challenge on the diagnosis and treatment of 2019-ncov infection,  <font color='red'>the prevention and control of hospital cross infection of medical staff</font> .</div></td>\n",
              "      <td>0.532043</td>\n",
              "      <td><a href=\"https://doi.org/\" target=\"_blank\">Advices on the prevention and control of nosocomial infection of novel coronavirus within children’s hospitals</a></td>\n",
              "      <td>Not Available</td>\n",
              "    </tr>\n",
              "    <tr>\n",
              "      <th>6</th>\n",
              "      <td>ikxbwbqf</td>\n",
              "      <td><div>following an outbreak of pneumonia caused by 2019 novel coronavirus (2019-ncov) which has spread in china, the national health commission of china issued public health policies and implemented interventions for control  <font color='red'>and prevention</font>  of the epidemic.</div></td>\n",
              "      <td>0.498386</td>\n",
              "      <td><a href=\"https://doi.org/\" target=\"_blank\">Proposed prevention and control of 2019 novel coronavirus infection in neonates</a></td>\n",
              "      <td>Not Available</td>\n",
              "    </tr>\n",
              "    <tr>\n",
              "      <th>7</th>\n",
              "      <td>xk5igdwo</td>\n",
              "      <td><div>what you need to knowconsider covid-19 infection in anyone with cough, fever, or breathlessness who has had contact with someone with covid-19, or has returned from a high risk area in the 14 days before the onset of symptomsevery effort should be made to avoid in-person assessment of patients with possible covid-19 in primary caregp surgeries should plan ahead and develop clear protocols for managing possible cases, including isolation procedures, personal protective equipment, seeking specialist advice, and decontaminationif covid-19 infection is suspected in someone attending the practice, isolate the patient in a room (away from other patients and staff), close the door, and ask the patient to call nhs 111the guidance may change so it is essential to look at the latest guidance online (box 1) the uk recorded its first confirmed case of acute respiratory infection due to coronavirus disease 2019 (covid-19) on 31 january 2020 and responded  <font color='red'>by quarantining at-risk individuals</font>  to contain the spread of infection.</div></td>\n",
              "      <td>0.408110</td>\n",
              "      <td><a href=\"https://doi.org/10.1136/bmj.m800\" target=\"_blank\">Coronavirus disease 2019 (covid-19): a guide for UK GPs</a></td>\n",
              "      <td>Not Available</td>\n",
              "    </tr>\n",
              "  </tbody>\n",
              "</table>"
            ],
            "text/plain": [
              "<IPython.core.display.HTML object>"
            ]
          },
          "metadata": {
            "tags": []
          }
        }
      ]
    },
    {
      "cell_type": "code",
      "metadata": {
        "id": "bag9c3b-rqru"
      },
      "source": [
        ""
      ],
      "execution_count": null,
      "outputs": []
    },
    {
      "cell_type": "markdown",
      "metadata": {
        "id": "DIazhUBrr0tx"
      },
      "source": [
        "What do we know about virus genetics, origin, and evolution?\n"
      ]
    },
    {
      "cell_type": "code",
      "metadata": {
        "id": "ZC_bciVNr2lS",
        "outputId": "b8b8aa16-4600-4677-ce99-05fa579b561b",
        "colab": {
          "base_uri": "https://localhost:8080/",
          "height": 1000
        }
      },
      "source": [
        "runAllQuestionsByTopic(topic_area, 'What do we know about virus genetics, origin, and evolution?')"
      ],
      "execution_count": 32,
      "outputs": [
        {
          "output_type": "stream",
          "text": [
            " 40%|████      | 4/10 [00:00<00:00, 13.71it/s]Token indices sequence length is longer than the specified maximum sequence length for this model (746 > 512). Running this sequence through the model will result in indexing errors\n",
            "100%|██████████| 10/10 [00:00<00:00, 13.41it/s]\n"
          ],
          "name": "stderr"
        },
        {
          "output_type": "display_data",
          "data": {
            "text/html": [
              "<div style=\"font-family: Times New Roman; font-size: 28px; padding-bottom:28px\"><b>Query</b>: Can animals transmit 2019-nCoV</div>"
            ],
            "text/plain": [
              "<IPython.core.display.HTML object>"
            ]
          },
          "metadata": {
            "tags": []
          }
        },
        {
          "output_type": "stream",
          "text": [
            "Truncation was not explicitely activated but `max_length` is provided a specific value, please use `truncation=True` to explicitely truncate examples to max length. Defaulting to 'longest_first' truncation strategy. If you encode pairs of sequences (GLUE-style) with the tokenizer you can select this strategy more precisely by providing a specific strategy to `truncation`.\n"
          ],
          "name": "stderr"
        },
        {
          "output_type": "display_data",
          "data": {
            "text/html": [
              "<div style=\"font-family: Times New Roman; font-size: 18px; margin-bottom:1pt\"><b>BART Abstractive Summary:</b>: The outbreak of 2019-ncov pneumonia in the city of wuhan, china has resulted in more than 70,000 laboratory confirmed cases. The identity of any intermediate host facilitating transfer to humans is unknown. This is the third documented spillover of an animal coronavirus to humans in only two decades that has resulted in a major epidemic.</div>"
            ],
            "text/plain": [
              "<IPython.core.display.HTML object>"
            ]
          },
          "metadata": {
            "tags": []
          }
        },
        {
          "output_type": "display_data",
          "data": {
            "text/html": [
              "<div style=\"font-family: Times New Roman; font-size: 12px; padding-bottom:12px; color:#CCCC00; margin-top:1pt\"> Warning this is an autogenerated summary based on semantic search of abstracts, always examine the sources before accepting this conclusion.  If the evidence only mentions topic in passing or the evidence is not clear, the summary will likely not clearly answer the question.</div>"
            ],
            "text/plain": [
              "<IPython.core.display.HTML object>"
            ]
          },
          "metadata": {
            "tags": []
          }
        },
        {
          "output_type": "display_data",
          "data": {
            "text/html": [
              "<table border=\"1\" class=\"dataframe\">\n",
              "  <thead>\n",
              "    <tr style=\"text-align: right;\">\n",
              "      <th></th>\n",
              "      <th>Lucene ID</th>\n",
              "      <th>BERT-SQuAD Answer with Highlights</th>\n",
              "      <th>Confidence</th>\n",
              "      <th>Title/Link</th>\n",
              "      <th>PDF Link</th>\n",
              "    </tr>\n",
              "  </thead>\n",
              "  <tbody>\n",
              "    <tr>\n",
              "      <th>0</th>\n",
              "      <td>5f42du0b</td>\n",
              "      <td><div>  <font color='red'>although bats are likely reservoir hosts for 2019-ncov</font> , the identity of 31 any intermediate host facilitating transfer to humans is unknown.</div></td>\n",
              "      <td>0.471380</td>\n",
              "      <td><a href=\"https://doi.org/10.1101/2020.02.13.945485\" target=\"_blank\">Identification of 2019-nCoV related coronaviruses in Malayan pangolins in southern China</a></td>\n",
              "      <td>Not Available</td>\n",
              "    </tr>\n",
              "    <tr>\n",
              "      <th>1</th>\n",
              "      <td>1qkwsh6a</td>\n",
              "      <td><div> <font color='red'>coronaviruses</font>  are the well-known cause of severe respiratory, enteric and systemic infections in a wide range of hosts including man, mammals, fish, and avian.</div></td>\n",
              "      <td>0.415257</td>\n",
              "      <td><a href=\"https://doi.org/10.1080/01652176.2020.1727993\" target=\"_blank\">Emerging novel coronavirus (2019-nCoV)—current scenario, evolutionary perspective based on genome analysis and recent developments</a></td>\n",
              "      <td>Not Available</td>\n",
              "    </tr>\n",
              "    <tr>\n",
              "      <th>2</th>\n",
              "      <td>rxrlbw60</td>\n",
              "      <td><div> with a seemingly comparable chain of events as the origin of sars-cov,  <font color='red'>the initial infections with 2019-ncov appears to be linked to contact with animals in wet markets.</font>  even though human-to-human ralph et al.-2019-ncov wuhan and human-to-human transmission j infect dev ctries 2020 ; 14 (1) : 3-17.</div></td>\n",
              "      <td>0.371222</td>\n",
              "      <td><a href=\"https://doi.org/10.3855/jidc.12425\" target=\"_blank\">2019-nCoV (Wuhan virus), a novel Coronavirus: Human-to-human transmission, travel-related cases, and vaccine readiness</a></td>\n",
              "      <td>Not Available</td>\n",
              "    </tr>\n",
              "    <tr>\n",
              "      <th>3</th>\n",
              "      <td>2inlyd0t</td>\n",
              "      <td><div>the outbreak of 2019-ncov pneumonia in the city of wuhan, china has resulted in more than 70,000 laboratory confirmed cases, and recent studies showed  <font color='red'>that 2019-ncov (sars-cov-2) could be of bat origin but involve other potential intermediate hosts</font> .</div></td>\n",
              "      <td>0.369339</td>\n",
              "      <td><a href=\"https://doi.org/10.1101/2020.02.18.954628\" target=\"_blank\">Are pangolins the intermediate host of the 2019 novel coronavirus (2019-nCoV) ?</a></td>\n",
              "      <td>Not Available</td>\n",
              "    </tr>\n",
              "    <tr>\n",
              "      <th>4</th>\n",
              "      <td>pwvcwlh8</td>\n",
              "      <td><div> taken together, our results suggest that homologous recombination within the spike glycoprotein may contribute  <font color='red'>to cross-species transmission from snake to humans.</font>  this article is protected by copyright.</div></td>\n",
              "      <td>0.352358</td>\n",
              "      <td><a href=\"https://doi.org/10.1002/jmv.25682\" target=\"_blank\">Cross‐species transmission of the newly identified coronavirus 2019‐nCoV</a></td>\n",
              "      <td>Not Available</td>\n",
              "    </tr>\n",
              "    <tr>\n",
              "      <th>5</th>\n",
              "      <td>vvhhpchm</td>\n",
              "      <td><div>the present outbreak of a coronavirus-associated acute respiratory disease called coronavirus disease 19 (covid-19) is the third  <font color='red'>documented spillover</font>  of an animal coronavirus to humans in only two decades that has resulted in a major epidemic.</div></td>\n",
              "      <td>0.350618</td>\n",
              "      <td><a href=\"https://doi.org/10.1038/s41564-020-0695-z\" target=\"_blank\">The species Severe acute respiratory syndrome-related coronavirus: classifying 2019-nCoV and naming it SARS-CoV-2</a></td>\n",
              "      <td>Not Available</td>\n",
              "    </tr>\n",
              "    <tr>\n",
              "      <th>6</th>\n",
              "      <td>awitk3se</td>\n",
              "      <td><div> although several animals have been speculated to be a reservoir for covid-19,  <font color='red'>no animal reservoir has been already confirmed</font> .</div></td>\n",
              "      <td>0.347768</td>\n",
              "      <td><a href=\"https://doi.org/10.26355/eurrev_202002_20378\" target=\"_blank\">COVID-19 (Novel Coronavirus 2019) - recent trends</a></td>\n",
              "      <td>Not Available</td>\n",
              "    </tr>\n",
              "    <tr>\n",
              "      <th>7</th>\n",
              "      <td>z9dolxky</td>\n",
              "      <td><div> to support the hypothesis of zoonotic origin of 2019-ncov stemming from the huanan seafood market, the index case should have had exposure history related to the market  <font color='red'>and the virus should have been identified from animals sold at the market</font> .</div></td>\n",
              "      <td>0.293274</td>\n",
              "      <td><a href=\"https://doi.org/10.3390/jcm9020488\" target=\"_blank\">Initial Cluster of Novel Coronavirus (2019-nCoV) Infections in Wuhan, China Is Consistent with Substantial Human-to-Human Transmission</a></td>\n",
              "      <td>Not Available</td>\n",
              "    </tr>\n",
              "  </tbody>\n",
              "</table>"
            ],
            "text/plain": [
              "<IPython.core.display.HTML object>"
            ]
          },
          "metadata": {
            "tags": []
          }
        },
        {
          "output_type": "stream",
          "text": [
            " 20%|██        | 2/10 [00:00<00:00, 16.80it/s]Token indices sequence length is longer than the specified maximum sequence length for this model (748 > 512). Running this sequence through the model will result in indexing errors\n",
            " 80%|████████  | 8/10 [00:00<00:00, 14.07it/s]Token indices sequence length is longer than the specified maximum sequence length for this model (594 > 512). Running this sequence through the model will result in indexing errors\n",
            "100%|██████████| 10/10 [00:00<00:00, 13.38it/s]\n"
          ],
          "name": "stderr"
        },
        {
          "output_type": "display_data",
          "data": {
            "text/html": [
              "<div style=\"font-family: Times New Roman; font-size: 28px; padding-bottom:28px\"><b>Query</b>: What animal did 2019-nCoV come from</div>"
            ],
            "text/plain": [
              "<IPython.core.display.HTML object>"
            ]
          },
          "metadata": {
            "tags": []
          }
        },
        {
          "output_type": "stream",
          "text": [
            "Truncation was not explicitely activated but `max_length` is provided a specific value, please use `truncation=True` to explicitely truncate examples to max length. Defaulting to 'longest_first' truncation strategy. If you encode pairs of sequences (GLUE-style) with the tokenizer you can select this strategy more precisely by providing a specific strategy to `truncation`.\n"
          ],
          "name": "stderr"
        },
        {
          "output_type": "display_data",
          "data": {
            "text/html": [
              "<div style=\"font-family: Times New Roman; font-size: 18px; margin-bottom:1pt\"><b>BART Abstractive Summary:</b>: 2019-ncov which was identified is a kind of beta coronavirus belongs to one of four coronavirus genera. The outbreak of 2019-ncov pneumonia in the city of wuhan, china has resulted in more than 70,000 laboratory confirmed cases. It could be of bat origin but involve other potential intermediate hosts.</div>"
            ],
            "text/plain": [
              "<IPython.core.display.HTML object>"
            ]
          },
          "metadata": {
            "tags": []
          }
        },
        {
          "output_type": "display_data",
          "data": {
            "text/html": [
              "<div style=\"font-family: Times New Roman; font-size: 12px; padding-bottom:12px; color:#CCCC00; margin-top:1pt\"> Warning this is an autogenerated summary based on semantic search of abstracts, always examine the sources before accepting this conclusion.  If the evidence only mentions topic in passing or the evidence is not clear, the summary will likely not clearly answer the question.</div>"
            ],
            "text/plain": [
              "<IPython.core.display.HTML object>"
            ]
          },
          "metadata": {
            "tags": []
          }
        },
        {
          "output_type": "display_data",
          "data": {
            "text/html": [
              "<table border=\"1\" class=\"dataframe\">\n",
              "  <thead>\n",
              "    <tr style=\"text-align: right;\">\n",
              "      <th></th>\n",
              "      <th>Lucene ID</th>\n",
              "      <th>BERT-SQuAD Answer with Highlights</th>\n",
              "      <th>Confidence</th>\n",
              "      <th>Title/Link</th>\n",
              "      <th>PDF Link</th>\n",
              "    </tr>\n",
              "  </thead>\n",
              "  <tbody>\n",
              "    <tr>\n",
              "      <th>0</th>\n",
              "      <td>nmpi5hun</td>\n",
              "      <td><div> 2019-ncov which was identified is a kind  <font color='red'>of beta coronavirus belongs to one of four coronavirus genera</font> .</div></td>\n",
              "      <td>0.538125</td>\n",
              "      <td><a href=\"https://doi.org/\" target=\"_blank\">Advance in research of beta coronavirus receptors on ocular surface</a></td>\n",
              "      <td>Not Available</td>\n",
              "    </tr>\n",
              "    <tr>\n",
              "      <th>1</th>\n",
              "      <td>rxrlbw60</td>\n",
              "      <td><div> with a seemingly comparable chain of events as the origin of sars-cov, the initial infections with 2019-ncov appears to be linked to contact with animals  <font color='red'>in wet markets</font> .</div></td>\n",
              "      <td>0.423478</td>\n",
              "      <td><a href=\"https://doi.org/10.3855/jidc.12425\" target=\"_blank\">2019-nCoV (Wuhan virus), a novel Coronavirus: Human-to-human transmission, travel-related cases, and vaccine readiness</a></td>\n",
              "      <td>Not Available</td>\n",
              "    </tr>\n",
              "    <tr>\n",
              "      <th>2</th>\n",
              "      <td>vvhhpchm</td>\n",
              "      <td><div> based on phylogeny, taxonomy and established practice, the csg recognizes this virus as forming a sister clade to the prototype human  <font color='red'>and bat</font>  severe acute respiratory syndrome corona-significance.</div></td>\n",
              "      <td>0.376200</td>\n",
              "      <td><a href=\"https://doi.org/10.1038/s41564-020-0695-z\" target=\"_blank\">The species Severe acute respiratory syndrome-related coronavirus: classifying 2019-nCoV and naming it SARS-CoV-2</a></td>\n",
              "      <td>Not Available</td>\n",
              "    </tr>\n",
              "    <tr>\n",
              "      <th>3</th>\n",
              "      <td>m6akijzn</td>\n",
              "      <td><div> notably, 2019-ncov was closely related (with 88 % identity) to  <font color='red'>two bat</font> -derived severe acute respiratory syndrome (sars)-like coronaviruses, bat-sl-covzc45 and bat-sl-covzxc21, collected in 2018 in zhoushan, eastern china, but were more distant from sars-cov (about 79 %) and mers-cov (about 50 %).</div></td>\n",
              "      <td>0.344864</td>\n",
              "      <td><a href=\"https://doi.org/10.1016/s0140-6736(20)30251-8\" target=\"_blank\">Genomic characterisation and epidemiology of 2019 novel coronavirus: implications for virus origins and receptor binding</a></td>\n",
              "      <td>Not Available</td>\n",
              "    </tr>\n",
              "    <tr>\n",
              "      <th>4</th>\n",
              "      <td>2inlyd0t</td>\n",
              "      <td><div>the outbreak of 2019-ncov pneumonia in the city of wuhan, china has resulted in more than 70,000 laboratory confirmed cases, and recent studies showed that 2019-ncov (sars-cov-2) could be  <font color='red'>of bat</font>  origin but involve other potential intermediate hosts.</div></td>\n",
              "      <td>0.327245</td>\n",
              "      <td><a href=\"https://doi.org/10.1101/2020.02.18.954628\" target=\"_blank\">Are pangolins the intermediate host of the 2019 novel coronavirus (2019-nCoV) ?</a></td>\n",
              "      <td>Not Available</td>\n",
              "    </tr>\n",
              "    <tr>\n",
              "      <th>5</th>\n",
              "      <td>pwvcwlh8</td>\n",
              "      <td><div> results obtained from our analyses suggest that the 2019-ncov appears to be a recombinant virus between  <font color='red'>the bat</font>  coronavirus and an origin-unknown coronavirus.</div></td>\n",
              "      <td>0.315056</td>\n",
              "      <td><a href=\"https://doi.org/10.1002/jmv.25682\" target=\"_blank\">Cross‐species transmission of the newly identified coronavirus 2019‐nCoV</a></td>\n",
              "      <td>Not Available</td>\n",
              "    </tr>\n",
              "    <tr>\n",
              "      <th>6</th>\n",
              "      <td>1qkwsh6a</td>\n",
              "      <td><div>coronaviruses are the well-known cause of severe respiratory, enteric and systemic infections in a wide range of hosts including man,  <font color='red'>mammals, fish, and avian</font> .</div></td>\n",
              "      <td>0.280161</td>\n",
              "      <td><a href=\"https://doi.org/10.1080/01652176.2020.1727993\" target=\"_blank\">Emerging novel coronavirus (2019-nCoV)—current scenario, evolutionary perspective based on genome analysis and recent developments</a></td>\n",
              "      <td>Not Available</td>\n",
              "    </tr>\n",
              "  </tbody>\n",
              "</table>"
            ],
            "text/plain": [
              "<IPython.core.display.HTML object>"
            ]
          },
          "metadata": {
            "tags": []
          }
        },
        {
          "output_type": "stream",
          "text": [
            "100%|██████████| 10/10 [00:00<00:00, 20.49it/s]\n"
          ],
          "name": "stderr"
        },
        {
          "output_type": "display_data",
          "data": {
            "text/html": [
              "<div style=\"font-family: Times New Roman; font-size: 28px; padding-bottom:28px\"><b>Query</b>: What real-time genomic tracking tools exist</div>"
            ],
            "text/plain": [
              "<IPython.core.display.HTML object>"
            ]
          },
          "metadata": {
            "tags": []
          }
        },
        {
          "output_type": "stream",
          "text": [
            "Truncation was not explicitely activated but `max_length` is provided a specific value, please use `truncation=True` to explicitely truncate examples to max length. Defaulting to 'longest_first' truncation strategy. If you encode pairs of sequences (GLUE-style) with the tokenizer you can select this strategy more precisely by providing a specific strategy to `truncation`.\n"
          ],
          "name": "stderr"
        },
        {
          "output_type": "display_data",
          "data": {
            "text/html": [
              "<div style=\"font-family: Times New Roman; font-size: 18px; margin-bottom:1pt\"><b>BART Abstractive Summary:</b>: The genome detective coronavirus typing tool can accurately identify novel coronavirus (2019-ncov) sequences isolated in china and around the world. The tool can accept up to 2,000 sequences per submission and the analysis of a new whole genome sequence will take approximately one minute. The tool has been tested and validated with hundreds of whole genomes from ten coronavirus species.</div>"
            ],
            "text/plain": [
              "<IPython.core.display.HTML object>"
            ]
          },
          "metadata": {
            "tags": []
          }
        },
        {
          "output_type": "display_data",
          "data": {
            "text/html": [
              "<div style=\"font-family: Times New Roman; font-size: 12px; padding-bottom:12px; color:#CCCC00; margin-top:1pt\"> Warning this is an autogenerated summary based on semantic search of abstracts, always examine the sources before accepting this conclusion.  If the evidence only mentions topic in passing or the evidence is not clear, the summary will likely not clearly answer the question.</div>"
            ],
            "text/plain": [
              "<IPython.core.display.HTML object>"
            ]
          },
          "metadata": {
            "tags": []
          }
        },
        {
          "output_type": "display_data",
          "data": {
            "text/html": [
              "<table border=\"1\" class=\"dataframe\">\n",
              "  <thead>\n",
              "    <tr style=\"text-align: right;\">\n",
              "      <th></th>\n",
              "      <th>Lucene ID</th>\n",
              "      <th>BERT-SQuAD Answer with Highlights</th>\n",
              "      <th>Confidence</th>\n",
              "      <th>Title/Link</th>\n",
              "      <th>PDF Link</th>\n",
              "    </tr>\n",
              "  </thead>\n",
              "  <tbody>\n",
              "    <tr>\n",
              "      <th>0</th>\n",
              "      <td>146matzr</td>\n",
              "      <td><div> methods : viral rna was extracted in throat swab and sputum sample of the patient and was performed real- <font color='red'>time reverse transcription pcr detection</font>  and obtained viral genome by high-throughput sequencing method.</div></td>\n",
              "      <td>0.600209</td>\n",
              "      <td><a href=\"https://doi.org/10.3760/cma.j.cn112150-20200217-00128\" target=\"_blank\">Genomic analysis of a 2019-nCoV strain in the first COVID-19 patient found in Hangzhou, Zhejiang, China</a></td>\n",
              "      <td>Not Available</td>\n",
              "    </tr>\n",
              "    <tr>\n",
              "      <th>1</th>\n",
              "      <td>gxstlzuk</td>\n",
              "      <td><div> since its release in 2019, we have produced a number  <font color='red'>of typing tools for emergent viruses that have caused large outbreaks, such as zika and yellow fever virus in brazil. here, we present the genome detective coronavirus typing tool that can accurately identify novel coronavirus (2019-ncov) sequences isolated in china and around the world. the tool can accept up to 2,000 sequences per submission and the analysis of a new whole genome sequence will take approximately one minute. the tool has been tested and validated with hundreds of whole genomes from ten coronavirus species, and correctly classified all of the sars-related coronavirus (sarsr-cov) and all of the available public data for 2019-ncov. the tool also allows tracking of new viral mutations as the outbreak expands globally</font> , which may help to accelerate the development of novel diagnostics, drugs and vaccines.</div></td>\n",
              "      <td>0.588083</td>\n",
              "      <td><a href=\"https://doi.org/10.1101/2020.01.31.928796\" target=\"_blank\">Genome Detective Coronavirus Typing Tool for rapid identification and characterization of novel coronavirus genomes</a></td>\n",
              "      <td>Not Available</td>\n",
              "    </tr>\n",
              "    <tr>\n",
              "      <th>2</th>\n",
              "      <td>e4hmo4yc</td>\n",
              "      <td><div> the case detection rate is changing hourly and daily and can be tracked in almost real time  <font color='red'>on website provided by johns hopkins university [ 1 ] and other websites</font> .</div></td>\n",
              "      <td>0.409458</td>\n",
              "      <td><a href=\"https://doi.org/10.1111/tmi.13383\" target=\"_blank\">The Covid-19 epidemic</a></td>\n",
              "      <td>Not Available</td>\n",
              "    </tr>\n",
              "  </tbody>\n",
              "</table>"
            ],
            "text/plain": [
              "<IPython.core.display.HTML object>"
            ]
          },
          "metadata": {
            "tags": []
          }
        },
        {
          "output_type": "stream",
          "text": [
            "100%|██████████| 10/10 [00:00<00:00, 13.22it/s]\n"
          ],
          "name": "stderr"
        },
        {
          "output_type": "display_data",
          "data": {
            "text/html": [
              "<div style=\"font-family: Times New Roman; font-size: 28px; padding-bottom:28px\"><b>Query</b>: What regional genetic variations (mutations) exist</div>"
            ],
            "text/plain": [
              "<IPython.core.display.HTML object>"
            ]
          },
          "metadata": {
            "tags": []
          }
        },
        {
          "output_type": "stream",
          "text": [
            "Truncation was not explicitely activated but `max_length` is provided a specific value, please use `truncation=True` to explicitely truncate examples to max length. Defaulting to 'longest_first' truncation strategy. If you encode pairs of sequences (GLUE-style) with the tokenizer you can select this strategy more precisely by providing a specific strategy to `truncation`.\n"
          ],
          "name": "stderr"
        },
        {
          "output_type": "display_data",
          "data": {
            "text/html": [
              "<div style=\"font-family: Times New Roman; font-size: 18px; margin-bottom:1pt\"><b>BART Abstractive Summary:</b>: Mutations in coding regions of 125 sars-cov-2 genomes signifying its aptitude for evolution. 13 variation sites in 1a, 1b, s, 3a, m, 8, and n regions were identified. positions nt28144 in orf 8 and nt8782 in orf 1a showed mutation rate of 30. 53 % (29 / 95) and 29. 47 % (28 / 95) respectively.</div>"
            ],
            "text/plain": [
              "<IPython.core.display.HTML object>"
            ]
          },
          "metadata": {
            "tags": []
          }
        },
        {
          "output_type": "display_data",
          "data": {
            "text/html": [
              "<div style=\"font-family: Times New Roman; font-size: 12px; padding-bottom:12px; color:#CCCC00; margin-top:1pt\"> Warning this is an autogenerated summary based on semantic search of abstracts, always examine the sources before accepting this conclusion.  If the evidence only mentions topic in passing or the evidence is not clear, the summary will likely not clearly answer the question.</div>"
            ],
            "text/plain": [
              "<IPython.core.display.HTML object>"
            ]
          },
          "metadata": {
            "tags": []
          }
        },
        {
          "output_type": "display_data",
          "data": {
            "text/html": [
              "<table border=\"1\" class=\"dataframe\">\n",
              "  <thead>\n",
              "    <tr style=\"text-align: right;\">\n",
              "      <th></th>\n",
              "      <th>Lucene ID</th>\n",
              "      <th>BERT-SQuAD Answer with Highlights</th>\n",
              "      <th>Confidence</th>\n",
              "      <th>Title/Link</th>\n",
              "      <th>PDF Link</th>\n",
              "    </tr>\n",
              "  </thead>\n",
              "  <tbody>\n",
              "    <tr>\n",
              "      <th>0</th>\n",
              "      <td>j6y806qu</td>\n",
              "      <td><div>  <font color='red'>these mutations are more likely to occur in regions with good mhc-i presentation scores</font>  (p = 0.</div></td>\n",
              "      <td>0.629552</td>\n",
              "      <td><a href=\"https://doi.org/10.1101/2020.02.19.955484\" target=\"_blank\">Potential T-cell and B-cell Epitopes of 2019-nCoV</a></td>\n",
              "      <td>Not Available</td>\n",
              "    </tr>\n",
              "    <tr>\n",
              "      <th>1</th>\n",
              "      <td>fw4pmaoc</td>\n",
              "      <td><div> moreover, this study also  <font color='red'>reports mutations in coding regions of 125 sars-cov-2 genomes</font>  signifying its aptitude for evolution.</div></td>\n",
              "      <td>0.588936</td>\n",
              "      <td><a href=\"https://doi.org/10.1101/2020.03.16.993816\" target=\"_blank\">Evidence of the Recombinant Origin and Ongoing Mutations in Severe Acute Respiratory Syndrome Coronavirus 2 (SARS-CoV-2)</a></td>\n",
              "      <td>Not Available</td>\n",
              "    </tr>\n",
              "    <tr>\n",
              "      <th>2</th>\n",
              "      <td>41ogljo8</td>\n",
              "      <td><div> although overall variation in orf regions is low, 13 variation sites in 1a, 1b, s, 3a, m, 8, and n regions were identified, among  <font color='red'>which positions nt28144 in orf 8 and nt8782 in orf 1a showed mutation rate of 30. 53 % (29 / 95) and 29. 47 % (28 / 95) respectively. these findings suggested that there may be selective mutations in sars-cov-2</font> , and it is necessary to avoid certain regions when designing primers and probes.</div></td>\n",
              "      <td>0.575181</td>\n",
              "      <td><a href=\"https://doi.org/10.1002/jmv.25762\" target=\"_blank\">The establishment of reference sequence for SARS-CoV-2 and variation analysis</a></td>\n",
              "      <td>Not Available</td>\n",
              "    </tr>\n",
              "    <tr>\n",
              "      <th>3</th>\n",
              "      <td>0nh58odf</td>\n",
              "      <td><div> we performed genetic analyses of eighty-six complete or near-complete genomes of sars-cov-2 and revealed  <font color='red'>many mutations and deletions on coding and non-coding regions</font> .</div></td>\n",
              "      <td>0.558263</td>\n",
              "      <td><a href=\"https://doi.org/10.1016/j.meegid.2020.104260\" target=\"_blank\">Genetic diversity and evolution of SARS-CoV-2</a></td>\n",
              "      <td>Not Available</td>\n",
              "    </tr>\n",
              "  </tbody>\n",
              "</table>"
            ],
            "text/plain": [
              "<IPython.core.display.HTML object>"
            ]
          },
          "metadata": {
            "tags": []
          }
        },
        {
          "output_type": "stream",
          "text": [
            "  0%|          | 0/10 [00:00<?, ?it/s]Token indices sequence length is longer than the specified maximum sequence length for this model (541 > 512). Running this sequence through the model will result in indexing errors\n",
            "100%|██████████| 10/10 [00:00<00:00, 18.08it/s]\n"
          ],
          "name": "stderr"
        },
        {
          "output_type": "display_data",
          "data": {
            "text/html": [
              "<div style=\"font-family: Times New Roman; font-size: 28px; padding-bottom:28px\"><b>Query</b>: What effors are being done in asia to prevent further outbreaks</div>"
            ],
            "text/plain": [
              "<IPython.core.display.HTML object>"
            ]
          },
          "metadata": {
            "tags": []
          }
        },
        {
          "output_type": "stream",
          "text": [
            "Truncation was not explicitely activated but `max_length` is provided a specific value, please use `truncation=True` to explicitely truncate examples to max length. Defaulting to 'longest_first' truncation strategy. If you encode pairs of sequences (GLUE-style) with the tokenizer you can select this strategy more precisely by providing a specific strategy to `truncation`.\n"
          ],
          "name": "stderr"
        },
        {
          "output_type": "display_data",
          "data": {
            "text/html": [
              "<div style=\"font-family: Times New Roman; font-size: 18px; margin-bottom:1pt\"><b>BART Abstractive Summary:</b>: Despite a decade of research on coronavirus, still there are no licensed vaccines or therapeutic agents to treat coronavirus infection. This highlights an urgent need to develop effective vaccines or post-exposure prophylaxis to prevent future epidemics. To prevent the next epidemic and pandemic related to these interfaces, we call for research and investment in three areas.</div>"
            ],
            "text/plain": [
              "<IPython.core.display.HTML object>"
            ]
          },
          "metadata": {
            "tags": []
          }
        },
        {
          "output_type": "display_data",
          "data": {
            "text/html": [
              "<div style=\"font-family: Times New Roman; font-size: 12px; padding-bottom:12px; color:#CCCC00; margin-top:1pt\"> Warning this is an autogenerated summary based on semantic search of abstracts, always examine the sources before accepting this conclusion.  If the evidence only mentions topic in passing or the evidence is not clear, the summary will likely not clearly answer the question.</div>"
            ],
            "text/plain": [
              "<IPython.core.display.HTML object>"
            ]
          },
          "metadata": {
            "tags": []
          }
        },
        {
          "output_type": "display_data",
          "data": {
            "text/html": [
              "<table border=\"1\" class=\"dataframe\">\n",
              "  <thead>\n",
              "    <tr style=\"text-align: right;\">\n",
              "      <th></th>\n",
              "      <th>Lucene ID</th>\n",
              "      <th>BERT-SQuAD Answer with Highlights</th>\n",
              "      <th>Confidence</th>\n",
              "      <th>Title/Link</th>\n",
              "      <th>PDF Link</th>\n",
              "    </tr>\n",
              "  </thead>\n",
              "  <tbody>\n",
              "    <tr>\n",
              "      <th>0</th>\n",
              "      <td>b5329o75</td>\n",
              "      <td><div> ironically, even after a decade of research on coronavirus, still there are no licensed vaccines or therapeutic agents to treat coronavirus infection which highlights an urgent need  <font color='red'>to develop effective vaccines or post-exposure prophylaxis</font>  to prevent future epidemics.</div></td>\n",
              "      <td>0.627747</td>\n",
              "      <td><a href=\"https://doi.org/10.12932/ap-200220-0773\" target=\"_blank\">Perspectives on monoclonal antibody therapy as potential therapeutic intervention for Coronavirus disease-19 (COVID-19)</a></td>\n",
              "      <td>Not Available</td>\n",
              "    </tr>\n",
              "    <tr>\n",
              "      <th>1</th>\n",
              "      <td>5fg87lvu</td>\n",
              "      <td><div> at this stage,  <font color='red'>preparedness, transparency, and sharing of information are crucial to risk assessments and beginning outbreak control activities</font> .</div></td>\n",
              "      <td>0.604846</td>\n",
              "      <td><a href=\"https://doi.org/10.1016/j.ijid.2020.03.004\" target=\"_blank\">The SARS-CoV-2 outbreak: what we know</a></td>\n",
              "      <td>Not Available</td>\n",
              "    </tr>\n",
              "    <tr>\n",
              "      <th>2</th>\n",
              "      <td>h5sox8bq</td>\n",
              "      <td><div> to prevent the next epidemic and pandemic related to these interfaces, we call  <font color='red'>for research and investment in three areas : 1) surveillance among wildlife to identify the high-risk pathogens they carry ; 2) surveillance among people who have contact with wildlife to identify early spillover events ; and 3) improvement of market biosecurity regarding the wildlife trade</font> .</div></td>\n",
              "      <td>0.598839</td>\n",
              "      <td><a href=\"https://doi.org/10.1016/j.bsheal.2020.01.003\" target=\"_blank\">A strategy to prevent future pandemics similar to the 2019-nCoV outbreak</a></td>\n",
              "      <td>Not Available</td>\n",
              "    </tr>\n",
              "    <tr>\n",
              "      <th>3</th>\n",
              "      <td>rql9fjug</td>\n",
              "      <td><div> as the outbreak of covid-19 causes by the severe acute respiratory syndrome coronavirus 2 (sars-cov-2) progresses within china and beyond,  <font color='red'>rapidly available epidemiological data are needed to guide strategies for situational awareness and intervention</font> .</div></td>\n",
              "      <td>0.577554</td>\n",
              "      <td><a href=\"https://doi.org/10.1002/jmv.25743\" target=\"_blank\">Analyzing the Epidemiological Outbreak of COVID-19: A Visual Exploratory Data Analysis (EDA) Approach</a></td>\n",
              "      <td>Not Available</td>\n",
              "    </tr>\n",
              "    <tr>\n",
              "      <th>4</th>\n",
              "      <td>ejg393zs</td>\n",
              "      <td><div> moreover, websites such as the world health organization (who) and the centers for disease control and prevention (cdc) were searched to retrieve updated data and statistics  <font color='red'>regarding the novel coronavirus. we extracted data on the epidemiology, pathogenesis, virology, clinical manifestations, transmission routes, diagnosis, treatment, and prevention measures. results : from the 1416 articles identified in the initial search, 53 were remained after title and abstract screening. after full-text review, 37 articles were eligible to include in our study. incubation period for covid-19 is between 2-10 days, according to the world health organization (who). the case fatality rate in patients infected with sarc-cov-2 is 4. 3 %, and the results indicate that the mortality is higher in elderly individuals and patients with chronic conditions including patients with coronary artery disease, diabetes, chronic pulmonary disease, and hypertension. the mortality rate in healthy subjects is less than 1 %. conclusion : the outbreak caused by the novel coronavirus is larger than the previous human coronaviruses, showing that the sars-cov-2 is an extremely contagious virus. however, the mortality rate of covid-19 is lower than that of other coronaviruses diseases such as sars or mers and other viruses like hiv and ebola. currently, due to the lack of an effective treatment and vaccine, the best way to deal with the covid-19 disease is to prevent transmission and spread of the virus and to execute personal protective measures</font> .</div></td>\n",
              "      <td>0.481911</td>\n",
              "      <td><a href=\"https://doi.org/\" target=\"_blank\">Novel Coronavirus Disease 2019 (COVID-19): An Emerging Infectious Disease in the 21st Century</a></td>\n",
              "      <td>Not Available</td>\n",
              "    </tr>\n",
              "  </tbody>\n",
              "</table>"
            ],
            "text/plain": [
              "<IPython.core.display.HTML object>"
            ]
          },
          "metadata": {
            "tags": []
          }
        },
        {
          "output_type": "stream",
          "text": [
            "100%|██████████| 10/10 [00:00<00:00, 24.79it/s]\n"
          ],
          "name": "stderr"
        },
        {
          "output_type": "display_data",
          "data": {
            "text/html": [
              "<div style=\"font-family: Times New Roman; font-size: 28px; padding-bottom:28px\"><b>Query</b>: What is the weighted prevalence of sars-cov-2 or covid-19 in general population</div>"
            ],
            "text/plain": [
              "<IPython.core.display.HTML object>"
            ]
          },
          "metadata": {
            "tags": []
          }
        },
        {
          "output_type": "stream",
          "text": [
            "Truncation was not explicitely activated but `max_length` is provided a specific value, please use `truncation=True` to explicitely truncate examples to max length. Defaulting to 'longest_first' truncation strategy. If you encode pairs of sequences (GLUE-style) with the tokenizer you can select this strategy more precisely by providing a specific strategy to `truncation`.\n"
          ],
          "name": "stderr"
        },
        {
          "output_type": "display_data",
          "data": {
            "text/html": [
              "<div style=\"font-family: Times New Roman; font-size: 18px; margin-bottom:1pt\"><b>BART Abstractive Summary:</b>: Adults represent the population with the highest infection rate. However, neonates, (p.-r. adults) have the highest rate of infection. A word count for text : 2460 words all rights reserved. For confidential support call the Samaritans on 08457 90 90 90 or visit a local Samaritans branch, see www.samaritans.org for details.</div>"
            ],
            "text/plain": [
              "<IPython.core.display.HTML object>"
            ]
          },
          "metadata": {
            "tags": []
          }
        },
        {
          "output_type": "display_data",
          "data": {
            "text/html": [
              "<div style=\"font-family: Times New Roman; font-size: 12px; padding-bottom:12px; color:#CCCC00; margin-top:1pt\"> Warning this is an autogenerated summary based on semantic search of abstracts, always examine the sources before accepting this conclusion.  If the evidence only mentions topic in passing or the evidence is not clear, the summary will likely not clearly answer the question.</div>"
            ],
            "text/plain": [
              "<IPython.core.display.HTML object>"
            ]
          },
          "metadata": {
            "tags": []
          }
        },
        {
          "output_type": "display_data",
          "data": {
            "text/html": [
              "<table border=\"1\" class=\"dataframe\">\n",
              "  <thead>\n",
              "    <tr style=\"text-align: right;\">\n",
              "      <th></th>\n",
              "      <th>Lucene ID</th>\n",
              "      <th>BERT-SQuAD Answer with Highlights</th>\n",
              "      <th>Confidence</th>\n",
              "      <th>Title/Link</th>\n",
              "      <th>PDF Link</th>\n",
              "    </tr>\n",
              "  </thead>\n",
              "  <tbody>\n",
              "    <tr>\n",
              "      <th>0</th>\n",
              "      <td>pth2d40p</td>\n",
              "      <td><div>  <font color='red'>adults represent the population with the highest infection rate</font>  ; however, neonates, (p.-r.</div></td>\n",
              "      <td>0.517242</td>\n",
              "      <td><a href=\"https://doi.org/10.1016/j.jmii.2020.02.012\" target=\"_blank\">Asymptomatic carrier state, acute respiratory disease, and pneumonia due to severe acute respiratory syndrome coronavirus 2 (SARSCoV-2): Facts and myths</a></td>\n",
              "      <td>Not Available</td>\n",
              "    </tr>\n",
              "    <tr>\n",
              "      <th>1</th>\n",
              "      <td>rmia5w3x</td>\n",
              "      <td><div>a word count for text  <font color='red'>: 2460 words</font>  all rights reserved.</div></td>\n",
              "      <td>0.048428</td>\n",
              "      <td><a href=\"https://doi.org/10.1101/2020.02.20.20025601\" target=\"_blank\">Clinical and pathological characteristics of 2019 novel coronavirus disease (COVID-19): a systematic review</a></td>\n",
              "      <td>Not Available</td>\n",
              "    </tr>\n",
              "  </tbody>\n",
              "</table>"
            ],
            "text/plain": [
              "<IPython.core.display.HTML object>"
            ]
          },
          "metadata": {
            "tags": []
          }
        }
      ]
    },
    {
      "cell_type": "code",
      "metadata": {
        "id": "reTJePm5r5FH"
      },
      "source": [
        ""
      ],
      "execution_count": null,
      "outputs": []
    },
    {
      "cell_type": "markdown",
      "metadata": {
        "id": "i8qVbb_Yr9rm"
      },
      "source": [
        "What do we know about non-pharmaceutical interventions?"
      ]
    },
    {
      "cell_type": "code",
      "metadata": {
        "id": "ZHNGLfa1r-8i",
        "outputId": "b8fbb730-7b55-43df-fa8f-c0a58e54d4c6",
        "colab": {
          "base_uri": "https://localhost:8080/",
          "height": 1000
        }
      },
      "source": [
        "runAllQuestionsByTopic(topic_area, 'What do we know about non-pharmaceutical interventions?')"
      ],
      "execution_count": 33,
      "outputs": [
        {
          "output_type": "stream",
          "text": [
            " 50%|█████     | 5/10 [00:00<00:00, 10.46it/s]Token indices sequence length is longer than the specified maximum sequence length for this model (646 > 512). Running this sequence through the model will result in indexing errors\n",
            " 70%|███████   | 7/10 [00:00<00:00,  8.66it/s]Token indices sequence length is longer than the specified maximum sequence length for this model (649 > 512). Running this sequence through the model will result in indexing errors\n",
            "100%|██████████| 10/10 [00:01<00:00,  9.28it/s]\n"
          ],
          "name": "stderr"
        },
        {
          "output_type": "display_data",
          "data": {
            "text/html": [
              "<div style=\"font-family: Times New Roman; font-size: 28px; padding-bottom:28px\"><b>Query</b>: Which non-pharmaceutical interventions limit tramsission</div>"
            ],
            "text/plain": [
              "<IPython.core.display.HTML object>"
            ]
          },
          "metadata": {
            "tags": []
          }
        },
        {
          "output_type": "stream",
          "text": [
            "Truncation was not explicitely activated but `max_length` is provided a specific value, please use `truncation=True` to explicitely truncate examples to max length. Defaulting to 'longest_first' truncation strategy. If you encode pairs of sequences (GLUE-style) with the tokenizer you can select this strategy more precisely by providing a specific strategy to `truncation`.\n"
          ],
          "name": "stderr"
        },
        {
          "output_type": "display_data",
          "data": {
            "text/html": [
              "<div style=\"font-family: Times New Roman; font-size: 18px; margin-bottom:1pt\"><b>BART Abstractive Summary:</b>: Public health resorted to non-pharmaceutical interventions such as social distancing and lockdown to slow down the spread of the pandemic. Social distancing measures are considered to be critical in order to at least delay the peak number of infected individuals and to prevent the health care system becoming overwhelmed by the number of patients to treat in hospitals or in intensive care units.</div>"
            ],
            "text/plain": [
              "<IPython.core.display.HTML object>"
            ]
          },
          "metadata": {
            "tags": []
          }
        },
        {
          "output_type": "display_data",
          "data": {
            "text/html": [
              "<div style=\"font-family: Times New Roman; font-size: 12px; padding-bottom:12px; color:#CCCC00; margin-top:1pt\"> Warning this is an autogenerated summary based on semantic search of abstracts, always examine the sources before accepting this conclusion.  If the evidence only mentions topic in passing or the evidence is not clear, the summary will likely not clearly answer the question.</div>"
            ],
            "text/plain": [
              "<IPython.core.display.HTML object>"
            ]
          },
          "metadata": {
            "tags": []
          }
        },
        {
          "output_type": "display_data",
          "data": {
            "text/html": [
              "<table border=\"1\" class=\"dataframe\">\n",
              "  <thead>\n",
              "    <tr style=\"text-align: right;\">\n",
              "      <th></th>\n",
              "      <th>Lucene ID</th>\n",
              "      <th>BERT-SQuAD Answer with Highlights</th>\n",
              "      <th>Confidence</th>\n",
              "      <th>Title/Link</th>\n",
              "      <th>PDF Link</th>\n",
              "    </tr>\n",
              "  </thead>\n",
              "  <tbody>\n",
              "    <tr>\n",
              "      <th>0</th>\n",
              "      <td>kqntu6ej</td>\n",
              "      <td><div> in impact of non-pharmaceutical interventions (npis) to  <font color='red'>reduce covid-19 mortality and healthcare demand</font> , imperial college covid-19 response team, london, 2020.</div></td>\n",
              "      <td>0.514955</td>\n",
              "      <td><a href=\"https://doi.org/10.1007/s11538-020-00726-x\" target=\"_blank\">Commentary on Ferguson, et al., “Impact of Non-pharmaceutical Interventions (NPIs) to Reduce COVID-19 Mortality and Healthcare Demand”</a></td>\n",
              "      <td>Not Available</td>\n",
              "    </tr>\n",
              "    <tr>\n",
              "      <th>1</th>\n",
              "      <td>vy1mu04l</td>\n",
              "      <td><div>much of the uncertainty about the progression of the covid-19 pandemic stems from questions about when and how non-pharmaceutical interventions (npi) by governments, in  <font color='red'>particular social distancing measures</font> , are implemented, to what extent the population complies with these measures, and how compliance changes through time.</div></td>\n",
              "      <td>0.436335</td>\n",
              "      <td><a href=\"https://doi.org/10.1101/2020.03.30.20047597\" target=\"_blank\">How will this continue? Modelling interactions between the COVID-19 pandemic and policy responses</a></td>\n",
              "      <td>Not Available</td>\n",
              "    </tr>\n",
              "    <tr>\n",
              "      <th>2</th>\n",
              "      <td>swcq2wfl</td>\n",
              "      <td><div> public health resorted to non-pharmaceutical interventions such  <font color='red'>as social distancing and lockdown</font>  to slow down the spread of the pandemic.</div></td>\n",
              "      <td>0.362183</td>\n",
              "      <td><a href=\"https://doi.org/10.1101/2020.04.05.20054460\" target=\"_blank\">A hybrid multi-scale model of COVID-19 transmission dynamics to assess the potential of non-pharmaceutical interventions</a></td>\n",
              "      <td>Not Available</td>\n",
              "    </tr>\n",
              "    <tr>\n",
              "      <th>3</th>\n",
              "      <td>0uzma5vr</td>\n",
              "      <td><div> npis are considered to be critical in order to at  <font color='red'>least delay the peak number of infected individuals</font>  and to prevent the health care system becoming overwhelmed by the number of patients to treat in hospitals or in intensive care units (icus).</div></td>\n",
              "      <td>0.360318</td>\n",
              "      <td><a href=\"https://doi.org/10.1101/2020.04.04.20053637\" target=\"_blank\">Estimate of the development of the epidemic reproduction number Rt from Coronavirus SARS-CoV-2 case data and implications for political measures based on prognostics</a></td>\n",
              "      <td>Not Available</td>\n",
              "    </tr>\n",
              "    <tr>\n",
              "      <th>4</th>\n",
              "      <td>cnmijcwv</td>\n",
              "      <td><div> the model found that desire, perceived behavioral control, frequency of past behavior, and non-pharmaceutical interventions predicted tourists ' intention  <font color='red'>but perceptions of 2009 h1n1 had nil effect on desire and intention</font> .</div></td>\n",
              "      <td>0.308177</td>\n",
              "      <td><a href=\"https://doi.org/10.1016/j.tourman.2011.02.006\" target=\"_blank\">The impact of non-pharmaceutical interventions for 2009 H1N1 influenza on travel intentions: A model of goal-directed behavior</a></td>\n",
              "      <td>Not Available</td>\n",
              "    </tr>\n",
              "    <tr>\n",
              "      <th>5</th>\n",
              "      <td>jtwb17u8</td>\n",
              "      <td><div> historical and near-real time human movement data, obtained from baidu location-based service, were used to derive the intensity  <font color='red'>of travel restrictions</font>  and contact reductions across china.</div></td>\n",
              "      <td>0.204339</td>\n",
              "      <td><a href=\"https://doi.org/10.1101/2020.03.03.20029843\" target=\"_blank\">Effect of non-pharmaceutical interventions for containing the COVID-19 outbreak in China</a></td>\n",
              "      <td>Not Available</td>\n",
              "    </tr>\n",
              "    <tr>\n",
              "      <th>6</th>\n",
              "      <td>velir6gb</td>\n",
              "      <td><div>, using a thermometer, wearing a face mask)  <font color='red'>and inadequate hand washing and household disinfection practices</font> .</div></td>\n",
              "      <td>0.171863</td>\n",
              "      <td><a href=\"https://doi.org/10.1186/1471-2458-14-665\" target=\"_blank\">Pandemic preparedness: perceptions of vulnerable migrants in Thailand towards WHO-recommended non-pharmaceutical interventions: a cross-sectional study</a></td>\n",
              "      <td>Not Available</td>\n",
              "    </tr>\n",
              "  </tbody>\n",
              "</table>"
            ],
            "text/plain": [
              "<IPython.core.display.HTML object>"
            ]
          },
          "metadata": {
            "tags": []
          }
        },
        {
          "output_type": "stream",
          "text": [
            " 50%|█████     | 5/10 [00:00<00:00, 10.29it/s]Token indices sequence length is longer than the specified maximum sequence length for this model (644 > 512). Running this sequence through the model will result in indexing errors\n",
            "100%|██████████| 10/10 [00:00<00:00, 14.47it/s]\n"
          ],
          "name": "stderr"
        },
        {
          "output_type": "display_data",
          "data": {
            "text/html": [
              "<div style=\"font-family: Times New Roman; font-size: 28px; padding-bottom:28px\"><b>Query</b>: What are most important barriers to compliance</div>"
            ],
            "text/plain": [
              "<IPython.core.display.HTML object>"
            ]
          },
          "metadata": {
            "tags": []
          }
        },
        {
          "output_type": "stream",
          "text": [
            "Truncation was not explicitely activated but `max_length` is provided a specific value, please use `truncation=True` to explicitely truncate examples to max length. Defaulting to 'longest_first' truncation strategy. If you encode pairs of sequences (GLUE-style) with the tokenizer you can select this strategy more precisely by providing a specific strategy to `truncation`.\n"
          ],
          "name": "stderr"
        },
        {
          "output_type": "display_data",
          "data": {
            "text/html": [
              "<div style=\"font-family: Times New Roman; font-size: 18px; margin-bottom:1pt\"><b>BART Abstractive Summary:</b>: Public health interventions, including social distancing, contact tracing, and isolation / quarantine rely on the rapid and accurate identification of confirmed cases. Other potential barriers to npi implementation include limited experience applying these interventions (e. g., using a thermometer, wearing a face mask) and inadequate hand washing and household disinfection practices.</div>"
            ],
            "text/plain": [
              "<IPython.core.display.HTML object>"
            ]
          },
          "metadata": {
            "tags": []
          }
        },
        {
          "output_type": "display_data",
          "data": {
            "text/html": [
              "<div style=\"font-family: Times New Roman; font-size: 12px; padding-bottom:12px; color:#CCCC00; margin-top:1pt\"> Warning this is an autogenerated summary based on semantic search of abstracts, always examine the sources before accepting this conclusion.  If the evidence only mentions topic in passing or the evidence is not clear, the summary will likely not clearly answer the question.</div>"
            ],
            "text/plain": [
              "<IPython.core.display.HTML object>"
            ]
          },
          "metadata": {
            "tags": []
          }
        },
        {
          "output_type": "display_data",
          "data": {
            "text/html": [
              "<table border=\"1\" class=\"dataframe\">\n",
              "  <thead>\n",
              "    <tr style=\"text-align: right;\">\n",
              "      <th></th>\n",
              "      <th>Lucene ID</th>\n",
              "      <th>BERT-SQuAD Answer with Highlights</th>\n",
              "      <th>Confidence</th>\n",
              "      <th>Title/Link</th>\n",
              "      <th>PDF Link</th>\n",
              "    </tr>\n",
              "  </thead>\n",
              "  <tbody>\n",
              "    <tr>\n",
              "      <th>0</th>\n",
              "      <td>we62087x</td>\n",
              "      <td><div> effective public health interventions,  <font color='red'>including social distancing, contact tracing, and isolation / quarantine</font>  rely on the rapid and accurate identification of confirmed cases.</div></td>\n",
              "      <td>0.412371</td>\n",
              "      <td><a href=\"https://doi.org/10.1101/2020.03.17.20037648\" target=\"_blank\">Sentinel Event Surveillance to Estimate Total SARS-CoV-2 Infections, United States</a></td>\n",
              "      <td>Not Available</td>\n",
              "    </tr>\n",
              "    <tr>\n",
              "      <th>1</th>\n",
              "      <td>kqntu6ej</td>\n",
              "      <td><div> in impact of non-pharmaceutical interventions (npis) to reduce covid- <font color='red'>19 mortality and healthcare demand</font> , imperial college covid-19 response team, london, 2020.</div></td>\n",
              "      <td>0.307130</td>\n",
              "      <td><a href=\"https://doi.org/10.1007/s11538-020-00726-x\" target=\"_blank\">Commentary on Ferguson, et al., “Impact of Non-pharmaceutical Interventions (NPIs) to Reduce COVID-19 Mortality and Healthcare Demand”</a></td>\n",
              "      <td>Not Available</td>\n",
              "    </tr>\n",
              "    <tr>\n",
              "      <th>2</th>\n",
              "      <td>velir6gb</td>\n",
              "      <td><div> other potential barriers to npi implementation  <font color='red'>include limited experience applying these interventions (e. g., using a thermometer, wearing a face mask) and inadequate hand washing and household disinfection practices</font> .</div></td>\n",
              "      <td>0.302923</td>\n",
              "      <td><a href=\"https://doi.org/10.1186/1471-2458-14-665\" target=\"_blank\">Pandemic preparedness: perceptions of vulnerable migrants in Thailand towards WHO-recommended non-pharmaceutical interventions: a cross-sectional study</a></td>\n",
              "      <td>Not Available</td>\n",
              "    </tr>\n",
              "    <tr>\n",
              "      <th>3</th>\n",
              "      <td>vy1mu04l</td>\n",
              "      <td><div>much of the uncertainty about the progression of the covid-19 pandemic stems from questions about when and how non-pharmaceutical interventions (npi) by governments, in  <font color='red'>particular social distancing measures</font> , are implemented, to what extent the population complies with these measures, and how compliance changes through time.</div></td>\n",
              "      <td>0.279524</td>\n",
              "      <td><a href=\"https://doi.org/10.1101/2020.03.30.20047597\" target=\"_blank\">How will this continue? Modelling interactions between the COVID-19 pandemic and policy responses</a></td>\n",
              "      <td>Not Available</td>\n",
              "    </tr>\n",
              "    <tr>\n",
              "      <th>4</th>\n",
              "      <td>jtwb17u8</td>\n",
              "      <td><div> historical and near-real time human movement data, obtained from baidu location-based service, were used to derive the intensity  <font color='red'>of travel restrictions and contact reductions</font>  across china.</div></td>\n",
              "      <td>0.253653</td>\n",
              "      <td><a href=\"https://doi.org/10.1101/2020.03.03.20029843\" target=\"_blank\">Effect of non-pharmaceutical interventions for containing the COVID-19 outbreak in China</a></td>\n",
              "      <td>Not Available</td>\n",
              "    </tr>\n",
              "    <tr>\n",
              "      <th>5</th>\n",
              "      <td>pth2d40p</td>\n",
              "      <td><div>  <font color='red'>adults represent the population with the highest infection rate ; however, neonates</font> , (p.-r.</div></td>\n",
              "      <td>0.108962</td>\n",
              "      <td><a href=\"https://doi.org/10.1016/j.jmii.2020.02.012\" target=\"_blank\">Asymptomatic carrier state, acute respiratory disease, and pneumonia due to severe acute respiratory syndrome coronavirus 2 (SARSCoV-2): Facts and myths</a></td>\n",
              "      <td>Not Available</td>\n",
              "    </tr>\n",
              "  </tbody>\n",
              "</table>"
            ],
            "text/plain": [
              "<IPython.core.display.HTML object>"
            ]
          },
          "metadata": {
            "tags": []
          }
        }
      ]
    },
    {
      "cell_type": "code",
      "metadata": {
        "id": "oN91-MvdsBZK"
      },
      "source": [
        ""
      ],
      "execution_count": null,
      "outputs": []
    },
    {
      "cell_type": "markdown",
      "metadata": {
        "id": "kA7hgHJQsEm9"
      },
      "source": [
        "What has been published about medical care?"
      ]
    },
    {
      "cell_type": "code",
      "metadata": {
        "id": "Zghh8TVUsFQp",
        "outputId": "f70ceb7c-e4be-4b00-aae4-9b3cfc8c4ff4",
        "colab": {
          "base_uri": "https://localhost:8080/",
          "height": 1000
        }
      },
      "source": [
        "runAllQuestionsByTopic(topic_area, 'What has been published about medical care?')"
      ],
      "execution_count": 34,
      "outputs": [
        {
          "output_type": "stream",
          "text": [
            " 40%|████      | 4/10 [00:00<00:00, 12.03it/s]Token indices sequence length is longer than the specified maximum sequence length for this model (553 > 512). Running this sequence through the model will result in indexing errors\n",
            "100%|██████████| 10/10 [00:00<00:00, 12.22it/s]\n"
          ],
          "name": "stderr"
        },
        {
          "output_type": "display_data",
          "data": {
            "text/html": [
              "<div style=\"font-family: Times New Roman; font-size: 28px; padding-bottom:28px\"><b>Query</b>: How does extracorporeal membrane oxygenation affect 2019-nCoV patients</div>"
            ],
            "text/plain": [
              "<IPython.core.display.HTML object>"
            ]
          },
          "metadata": {
            "tags": []
          }
        },
        {
          "output_type": "stream",
          "text": [
            "Truncation was not explicitely activated but `max_length` is provided a specific value, please use `truncation=True` to explicitely truncate examples to max length. Defaulting to 'longest_first' truncation strategy. If you encode pairs of sequences (GLUE-style) with the tokenizer you can select this strategy more precisely by providing a specific strategy to `truncation`.\n"
          ],
          "name": "stderr"
        },
        {
          "output_type": "display_data",
          "data": {
            "text/html": [
              "<div style=\"font-family: Times New Roman; font-size: 18px; margin-bottom:1pt\"><b>BART Abstractive Summary:</b>: The number of patients with severe covid-19 requiring extracorporeal membrane oxygenation (ecmo) is expected to increase. This report highlights the severity of late-onset complications of catheter placements. It shows the potential of ecmo treatment for the management of acute illnesses with bridge to recovery.</div>"
            ],
            "text/plain": [
              "<IPython.core.display.HTML object>"
            ]
          },
          "metadata": {
            "tags": []
          }
        },
        {
          "output_type": "display_data",
          "data": {
            "text/html": [
              "<div style=\"font-family: Times New Roman; font-size: 12px; padding-bottom:12px; color:#CCCC00; margin-top:1pt\"> Warning this is an autogenerated summary based on semantic search of abstracts, always examine the sources before accepting this conclusion.  If the evidence only mentions topic in passing or the evidence is not clear, the summary will likely not clearly answer the question.</div>"
            ],
            "text/plain": [
              "<IPython.core.display.HTML object>"
            ]
          },
          "metadata": {
            "tags": []
          }
        },
        {
          "output_type": "display_data",
          "data": {
            "text/html": [
              "<table border=\"1\" class=\"dataframe\">\n",
              "  <thead>\n",
              "    <tr style=\"text-align: right;\">\n",
              "      <th></th>\n",
              "      <th>Lucene ID</th>\n",
              "      <th>BERT-SQuAD Answer with Highlights</th>\n",
              "      <th>Confidence</th>\n",
              "      <th>Title/Link</th>\n",
              "      <th>PDF Link</th>\n",
              "    </tr>\n",
              "  </thead>\n",
              "  <tbody>\n",
              "    <tr>\n",
              "      <th>0</th>\n",
              "      <td>mqwgrwdb</td>\n",
              "      <td><div> therefore,  <font color='red'>the number of patients with severe covid-19 requiring extracorporeal membranous oxygenation (ecmo) is expected to increase</font> .</div></td>\n",
              "      <td>0.646871</td>\n",
              "      <td><a href=\"https://doi.org/10.1186/s40560-020-00440-9\" target=\"_blank\">Japan ECMOnet for COVID-19: telephone consultations for cases with severe respiratory failure caused by COVID-19</a></td>\n",
              "      <td>Not Available</td>\n",
              "    </tr>\n",
              "    <tr>\n",
              "      <th>1</th>\n",
              "      <td>dlwph5za</td>\n",
              "      <td><div> the objective of this study is to compare the outcomes of mers-cov patients before and after the availability of extracorporeal membrane oxygenation (ecmo) as a rescue therapy  <font color='red'>in severely hypoxemic patients who failed conventional strategies</font> .</div></td>\n",
              "      <td>0.635612</td>\n",
              "      <td><a href=\"https://doi.org/10.1186/s13613-017-0350-x\" target=\"_blank\">Extracorporeal membrane oxygenation for severe Middle East respiratory syndrome coronavirus</a></td>\n",
              "      <td>Not Available</td>\n",
              "    </tr>\n",
              "    <tr>\n",
              "      <th>2</th>\n",
              "      <td>cmtsu73g</td>\n",
              "      <td><div> <font color='red'>although acute kidney injury (aki) is the most frequent complication</font>  in patients receiving extracorporeal membrane oxygenation (ecmo), few studies have been conducted on the risk factors of aki.</div></td>\n",
              "      <td>0.632820</td>\n",
              "      <td><a href=\"https://doi.org/10.1371/journal.pone.0140674\" target=\"_blank\">Risk Factors for Acute Kidney Injury and In-Hospital Mortality in Patients Receiving Extracorporeal Membrane Oxygenation</a></td>\n",
              "      <td>Not Available</td>\n",
              "    </tr>\n",
              "    <tr>\n",
              "      <th>3</th>\n",
              "      <td>c0rbum7p</td>\n",
              "      <td><div> this  <font color='red'>report highlights the severity of late-onset complications of catheter placements</font>  and shows the potential of ecmo treatment for the management of acute illnesses with bridge to recovery.</div></td>\n",
              "      <td>0.549763</td>\n",
              "      <td><a href=\"https://doi.org/10.1136/bcr-2016-218079\" target=\"_blank\">The answer is blowing in the wind: an uncommon cause for severe ARDS accompanied by circulatory insufficiency requiring extracorporeal membrane oxygenation</a></td>\n",
              "      <td>Not Available</td>\n",
              "    </tr>\n",
              "    <tr>\n",
              "      <th>4</th>\n",
              "      <td>6sscf1lq</td>\n",
              "      <td><div> during his ecmo support stage,  <font color='red'>sudden occurred decreasing of ecmo flow implied increasing intrathoracic pressure</font> .</div></td>\n",
              "      <td>0.521490</td>\n",
              "      <td><a href=\"https://doi.org/10.1186/s12887-018-1351-0\" target=\"_blank\">Extracorporeal membrane oxygenation with prone position ventilation successfully rescues infantile pertussis: a case report and literature review</a></td>\n",
              "      <td>Not Available</td>\n",
              "    </tr>\n",
              "    <tr>\n",
              "      <th>5</th>\n",
              "      <td>1e5wpt3x</td>\n",
              "      <td><div> compared with patients with normal bnp, patients with high bnp were more likely to develop severe pneumonia, and receive tracheal cannula, invasive mechanical ventilation, continuous renal replacement therapy, extracorporeal membrane oxygenation,  <font color='red'>and be admitted to the intensive care unit</font> .</div></td>\n",
              "      <td>0.516767</td>\n",
              "      <td><a href=\"https://doi.org/10.1101/2020.03.31.20047142\" target=\"_blank\">Clinical features and outcomes of 2019 novel coronavirus-infected patients with high plasma BNP levels</a></td>\n",
              "      <td>Not Available</td>\n",
              "    </tr>\n",
              "    <tr>\n",
              "      <th>6</th>\n",
              "      <td>bir92bja</td>\n",
              "      <td><div>  <font color='red'>32 patients survived (76 %) and have been discharged alive from hospital</font> .</div></td>\n",
              "      <td>0.360799</td>\n",
              "      <td><a href=\"https://doi.org/\" target=\"_blank\">Mobile ECMO team for inter-hospital transportation of patients with ARDS: a retrospective case series</a></td>\n",
              "      <td>Not Available</td>\n",
              "    </tr>\n",
              "  </tbody>\n",
              "</table>"
            ],
            "text/plain": [
              "<IPython.core.display.HTML object>"
            ]
          },
          "metadata": {
            "tags": []
          }
        },
        {
          "output_type": "stream",
          "text": [
            "100%|██████████| 10/10 [00:00<00:00, 28.32it/s]\n"
          ],
          "name": "stderr"
        },
        {
          "output_type": "display_data",
          "data": {
            "text/html": [
              "<div style=\"font-family: Times New Roman; font-size: 28px; padding-bottom:28px\"><b>Query</b>: What telemedicine and cybercare methods are most effective</div>"
            ],
            "text/plain": [
              "<IPython.core.display.HTML object>"
            ]
          },
          "metadata": {
            "tags": []
          }
        },
        {
          "output_type": "stream",
          "text": [
            "Truncation was not explicitely activated but `max_length` is provided a specific value, please use `truncation=True` to explicitely truncate examples to max length. Defaulting to 'longest_first' truncation strategy. If you encode pairs of sequences (GLUE-style) with the tokenizer you can select this strategy more precisely by providing a specific strategy to `truncation`.\n"
          ],
          "name": "stderr"
        },
        {
          "output_type": "display_data",
          "data": {
            "text/html": [
              "<div style=\"font-family: Times New Roman; font-size: 18px; margin-bottom:1pt\"><b>BART Abstractive Summary:</b>:  advances in information and telecommunication technologies have made telemedicine possible. using the latest sensor technologies, a person's vital data can be collected in a smart home environment. cybercare employs advanced technology to deliver services efficiently across the distributed network. Using information technology (it) to rapidly detect, track, and contain the spread of a global pandemic ; or using cell phones to manage medical care in a disaster situation.</div>"
            ],
            "text/plain": [
              "<IPython.core.display.HTML object>"
            ]
          },
          "metadata": {
            "tags": []
          }
        },
        {
          "output_type": "display_data",
          "data": {
            "text/html": [
              "<div style=\"font-family: Times New Roman; font-size: 12px; padding-bottom:12px; color:#CCCC00; margin-top:1pt\"> Warning this is an autogenerated summary based on semantic search of abstracts, always examine the sources before accepting this conclusion.  If the evidence only mentions topic in passing or the evidence is not clear, the summary will likely not clearly answer the question.</div>"
            ],
            "text/plain": [
              "<IPython.core.display.HTML object>"
            ]
          },
          "metadata": {
            "tags": []
          }
        },
        {
          "output_type": "display_data",
          "data": {
            "text/html": [
              "<table border=\"1\" class=\"dataframe\">\n",
              "  <thead>\n",
              "    <tr style=\"text-align: right;\">\n",
              "      <th></th>\n",
              "      <th>Lucene ID</th>\n",
              "      <th>BERT-SQuAD Answer with Highlights</th>\n",
              "      <th>Confidence</th>\n",
              "      <th>Title/Link</th>\n",
              "      <th>PDF Link</th>\n",
              "    </tr>\n",
              "  </thead>\n",
              "  <tbody>\n",
              "    <tr>\n",
              "      <th>0</th>\n",
              "      <td>yd29gk7q</td>\n",
              "      <td><div>  <font color='red'>advances in information and telecommunication technologies have made telemedicine possible.</font>  using the latest sensor technologies, a person ' s vital data can be collected in a smart home environment.</div></td>\n",
              "      <td>0.538343</td>\n",
              "      <td><a href=\"https://doi.org/10.1007/s12652-012-0129-8\" target=\"_blank\">Smart home technology for telemedicine and emergency management</a></td>\n",
              "      <td>Not Available</td>\n",
              "    </tr>\n",
              "    <tr>\n",
              "      <th>1</th>\n",
              "      <td>tudh4kgo</td>\n",
              "      <td><div> the data buffer mechanism of the intermediary database in the network  <font color='red'>realized telemedicine consultation and telecommuting</font> .</div></td>\n",
              "      <td>0.502255</td>\n",
              "      <td><a href=\"https://doi.org/\" target=\"_blank\">Design and preliminary application of regional control and prevention auxiliary information system under the attack of COVID-19 infectious disease</a></td>\n",
              "      <td>Not Available</td>\n",
              "    </tr>\n",
              "    <tr>\n",
              "      <th>2</th>\n",
              "      <td>chrj5h72</td>\n",
              "      <td><div> cybercare employs advanced technology to deliver services efficiently across the distributed networkfor example,  <font color='red'>using telemedicine, wearable sensors and cell phones to link patients to specialists and upload their medical data in near-real time</font>  ; using information technology (it) to rapidly detect, track, and contain the spread of a global pandemic ; or using cell phones to manage medical care in a disaster situation.</div></td>\n",
              "      <td>0.481657</td>\n",
              "      <td><a href=\"https://doi.org/10.1007/s12553-016-0132-8\" target=\"_blank\">Cybercare 2.0: meeting the challenge of the global burden of disease in 2030</a></td>\n",
              "      <td>Not Available</td>\n",
              "    </tr>\n",
              "  </tbody>\n",
              "</table>"
            ],
            "text/plain": [
              "<IPython.core.display.HTML object>"
            ]
          },
          "metadata": {
            "tags": []
          }
        },
        {
          "output_type": "stream",
          "text": [
            " 20%|██        | 2/10 [00:00<00:00, 16.25it/s]Token indices sequence length is longer than the specified maximum sequence length for this model (621 > 512). Running this sequence through the model will result in indexing errors\n",
            "100%|██████████| 10/10 [00:00<00:00, 14.89it/s]\n"
          ],
          "name": "stderr"
        },
        {
          "output_type": "display_data",
          "data": {
            "text/html": [
              "<div style=\"font-family: Times New Roman; font-size: 28px; padding-bottom:28px\"><b>Query</b>: How is artificial intelligence being used in real time health delivery</div>"
            ],
            "text/plain": [
              "<IPython.core.display.HTML object>"
            ]
          },
          "metadata": {
            "tags": []
          }
        },
        {
          "output_type": "stream",
          "text": [
            "Truncation was not explicitely activated but `max_length` is provided a specific value, please use `truncation=True` to explicitely truncate examples to max length. Defaulting to 'longest_first' truncation strategy. If you encode pairs of sequences (GLUE-style) with the tokenizer you can select this strategy more precisely by providing a specific strategy to `truncation`.\n"
          ],
          "name": "stderr"
        },
        {
          "output_type": "display_data",
          "data": {
            "text/html": [
              "<div style=\"font-family: Times New Roman; font-size: 18px; margin-bottom:1pt\"><b>BART Abstractive Summary:</b>: cybercare employs advanced technology to deliver services efficiently across the distributed network. Using telemedicine, wearable sensors and cell phones to link patients to specialists and upload their medical data in near-real time. Using information technology (it) to rapidly detect, track, and contain the spread of a global pandemic.</div>"
            ],
            "text/plain": [
              "<IPython.core.display.HTML object>"
            ]
          },
          "metadata": {
            "tags": []
          }
        },
        {
          "output_type": "display_data",
          "data": {
            "text/html": [
              "<div style=\"font-family: Times New Roman; font-size: 12px; padding-bottom:12px; color:#CCCC00; margin-top:1pt\"> Warning this is an autogenerated summary based on semantic search of abstracts, always examine the sources before accepting this conclusion.  If the evidence only mentions topic in passing or the evidence is not clear, the summary will likely not clearly answer the question.</div>"
            ],
            "text/plain": [
              "<IPython.core.display.HTML object>"
            ]
          },
          "metadata": {
            "tags": []
          }
        },
        {
          "output_type": "display_data",
          "data": {
            "text/html": [
              "<table border=\"1\" class=\"dataframe\">\n",
              "  <thead>\n",
              "    <tr style=\"text-align: right;\">\n",
              "      <th></th>\n",
              "      <th>Lucene ID</th>\n",
              "      <th>BERT-SQuAD Answer with Highlights</th>\n",
              "      <th>Confidence</th>\n",
              "      <th>Title/Link</th>\n",
              "      <th>PDF Link</th>\n",
              "    </tr>\n",
              "  </thead>\n",
              "  <tbody>\n",
              "    <tr>\n",
              "      <th>0</th>\n",
              "      <td>azrqz6hf</td>\n",
              "      <td><div> from a systems-thinking perspective, and in today ' s world of seamless boundaries and global interconnectivity, ai offers enormous potential for public health practitioners and policy makers to revolutionize healthcare and population  <font color='red'>health through focussed, context-specific interventions that promote cost-savings on therapeutic care, expand access to health information and services, and enhance individual responsibility for their health and well-being</font> .</div></td>\n",
              "      <td>0.619234</td>\n",
              "      <td><a href=\"https://doi.org/10.1007/978-3-030-35139-7_7\" target=\"_blank\">Artificial Intelligence Applications in Tracking Health Behaviors During Disease Epidemics</a></td>\n",
              "      <td>Not Available</td>\n",
              "    </tr>\n",
              "    <tr>\n",
              "      <th>1</th>\n",
              "      <td>chrj5h72</td>\n",
              "      <td><div> cybercare employs advanced technology to deliver services efficiently across the distributed networkfor example,  <font color='red'>using telemedicine, wearable sensors and cell phones to link patients to specialists and upload their medical data in near-real time</font>  ; using information technology (it) to rapidly detect, track, and contain the spread of a global pandemic ; or using cell phones to manage medical care in a disaster situation.</div></td>\n",
              "      <td>0.571669</td>\n",
              "      <td><a href=\"https://doi.org/10.1007/s12553-016-0132-8\" target=\"_blank\">Cybercare 2.0: meeting the challenge of the global burden of disease in 2030</a></td>\n",
              "      <td>Not Available</td>\n",
              "    </tr>\n",
              "    <tr>\n",
              "      <th>2</th>\n",
              "      <td>3uk2zfpo</td>\n",
              "      <td><div>two independent groups last week reported that they had used artificial intelligence in different ways  <font color='red'>to find possible treatments for the novel coronavirus</font> , named 2019-ncov.</div></td>\n",
              "      <td>0.487519</td>\n",
              "      <td><a href=\"https://doi.org/10.1021/cen-09806-scicon1\" target=\"_blank\">Artificial intelligence finds drugs that could fight the new coronavirus</a></td>\n",
              "      <td>Not Available</td>\n",
              "    </tr>\n",
              "    <tr>\n",
              "      <th>3</th>\n",
              "      <td>e6q92shw</td>\n",
              "      <td><div> besides, the  <font color='red'>system automatically highlighted all lesion regions for faster examination</font> .</div></td>\n",
              "      <td>0.358340</td>\n",
              "      <td><a href=\"https://doi.org/10.1101/2020.03.19.20039354\" target=\"_blank\">AI-assisted CT imaging analysis for COVID-19 screening: Building and deploying a medical AI system in four weeks</a></td>\n",
              "      <td>Not Available</td>\n",
              "    </tr>\n",
              "  </tbody>\n",
              "</table>"
            ],
            "text/plain": [
              "<IPython.core.display.HTML object>"
            ]
          },
          "metadata": {
            "tags": []
          }
        },
        {
          "output_type": "stream",
          "text": [
            " 60%|██████    | 6/10 [00:00<00:00,  9.83it/s]Token indices sequence length is longer than the specified maximum sequence length for this model (933 > 512). Running this sequence through the model will result in indexing errors\n",
            "100%|██████████| 10/10 [00:01<00:00,  9.82it/s]\n"
          ],
          "name": "stderr"
        },
        {
          "output_type": "display_data",
          "data": {
            "text/html": [
              "<div style=\"font-family: Times New Roman; font-size: 28px; padding-bottom:28px\"><b>Query</b>: What adjunctive or supportive methods can help patients</div>"
            ],
            "text/plain": [
              "<IPython.core.display.HTML object>"
            ]
          },
          "metadata": {
            "tags": []
          }
        },
        {
          "output_type": "stream",
          "text": [
            "Truncation was not explicitely activated but `max_length` is provided a specific value, please use `truncation=True` to explicitely truncate examples to max length. Defaulting to 'longest_first' truncation strategy. If you encode pairs of sequences (GLUE-style) with the tokenizer you can select this strategy more precisely by providing a specific strategy to `truncation`.\n"
          ],
          "name": "stderr"
        },
        {
          "output_type": "display_data",
          "data": {
            "text/html": [
              "<div style=\"font-family: Times New Roman; font-size: 18px; margin-bottom:1pt\"><b>BART Abstractive Summary:</b>:  refractory covid-19 patients were more likely to receive oxygen, mechanical ventilation, expectorant, and adjunctive treatment including corticosteroid, antiviral drugs and immune enhancer. evidence-based supportive care is the mainstay for management of severe respiratory viral infection. remdesivir, chloroquine, tocilizumab, and convalescent plasma may be effective.</div>"
            ],
            "text/plain": [
              "<IPython.core.display.HTML object>"
            ]
          },
          "metadata": {
            "tags": []
          }
        },
        {
          "output_type": "display_data",
          "data": {
            "text/html": [
              "<div style=\"font-family: Times New Roman; font-size: 12px; padding-bottom:12px; color:#CCCC00; margin-top:1pt\"> Warning this is an autogenerated summary based on semantic search of abstracts, always examine the sources before accepting this conclusion.  If the evidence only mentions topic in passing or the evidence is not clear, the summary will likely not clearly answer the question.</div>"
            ],
            "text/plain": [
              "<IPython.core.display.HTML object>"
            ]
          },
          "metadata": {
            "tags": []
          }
        },
        {
          "output_type": "display_data",
          "data": {
            "text/html": [
              "<table border=\"1\" class=\"dataframe\">\n",
              "  <thead>\n",
              "    <tr style=\"text-align: right;\">\n",
              "      <th></th>\n",
              "      <th>Lucene ID</th>\n",
              "      <th>BERT-SQuAD Answer with Highlights</th>\n",
              "      <th>Confidence</th>\n",
              "      <th>Title/Link</th>\n",
              "      <th>PDF Link</th>\n",
              "    </tr>\n",
              "  </thead>\n",
              "  <tbody>\n",
              "    <tr>\n",
              "      <th>0</th>\n",
              "      <td>c3geck81</td>\n",
              "      <td><div>  <font color='red'>the supportive care and non-specific treatment</font>  to ameliorate the symptoms of the patient are the only options currently.</div></td>\n",
              "      <td>0.681950</td>\n",
              "      <td><a href=\"https://doi.org/10.7150/ijbs.45538\" target=\"_blank\">Traditional Chinese Medicine in the Treatment of Patients Infected with 2019-New Coronavirus (SARS-CoV-2): A Review and Perspective</a></td>\n",
              "      <td>Not Available</td>\n",
              "    </tr>\n",
              "    <tr>\n",
              "      <th>1</th>\n",
              "      <td>cqlg8go7</td>\n",
              "      <td><div>  <font color='red'>several adjunctive pharmacologic interventions have been studied for their immunomodulatory effects, including macrolides, corticosteroids, cyclooxygenase-2 inhibitors, sirolimus, statins, anti-influenza immune plasma, and vitamin c, but none is recommended at present in severe rvis. evidence-based supportive care</font>  is the mainstay for management of severe respiratory viral infection.</div></td>\n",
              "      <td>0.572880</td>\n",
              "      <td><a href=\"https://doi.org/10.1007/s00134-020-05943-5\" target=\"_blank\">Critical care management of adults with community-acquired severe respiratory viral infection</a></td>\n",
              "      <td>Not Available</td>\n",
              "    </tr>\n",
              "    <tr>\n",
              "      <th>2</th>\n",
              "      <td>juz9jnfk</td>\n",
              "      <td><div>  <font color='red'>[UNK] remdesivir, chloroquine, tocilizumab, and convalescent plasma may be effective</font> .</div></td>\n",
              "      <td>0.466459</td>\n",
              "      <td><a href=\"https://doi.org/10.1016/j.ijid.2020.03.071\" target=\"_blank\">Insight into 2019 novel coronavirus — an updated intrim review and lessons from SARS-CoV and MERS-CoV</a></td>\n",
              "      <td>Not Available</td>\n",
              "    </tr>\n",
              "    <tr>\n",
              "      <th>3</th>\n",
              "      <td>plede1kn</td>\n",
              "      <td><div> refractory covid-19 patients were more likely to receive oxygen, mechanical ventilation, expectorant, and adjunctive treatment  <font color='red'>including corticosteroid, antiviral drugs and immune enhancer</font>  (p < 0.</div></td>\n",
              "      <td>0.421335</td>\n",
              "      <td><a href=\"https://doi.org/\" target=\"_blank\">Clinical characteristics of refractory COVID-19 pneumonia in Wuhan, China | Clinical Infectious Diseases | Oxford Academic</a></td>\n",
              "      <td>Not Available</td>\n",
              "    </tr>\n",
              "    <tr>\n",
              "      <th>4</th>\n",
              "      <td>5fg87lvu</td>\n",
              "      <td><div>highlights [UNK] the latest summary of the covid-19 outbreak in china ; [UNK] there might be an oral-fecal transmission of the virus ; [UNK] aggregates and consolidates the epidemiology, clinical manifestations, diagnosis,  <font color='red'>treatments</font>  and preventions of this new type of coronavirus.</div></td>\n",
              "      <td>0.368658</td>\n",
              "      <td><a href=\"https://doi.org/10.1016/j.ijid.2020.03.004\" target=\"_blank\">The SARS-CoV-2 outbreak: what we know</a></td>\n",
              "      <td>Not Available</td>\n",
              "    </tr>\n",
              "  </tbody>\n",
              "</table>"
            ],
            "text/plain": [
              "<IPython.core.display.HTML object>"
            ]
          },
          "metadata": {
            "tags": []
          }
        }
      ]
    },
    {
      "cell_type": "markdown",
      "metadata": {
        "id": "UueFgRgjsKIb"
      },
      "source": [
        "What do we know about diagnostics and surveillance?"
      ]
    },
    {
      "cell_type": "code",
      "metadata": {
        "id": "WpJ62MZIsKxs",
        "outputId": "99dc2a48-dcb8-499c-eda1-4ab1f19e3614",
        "colab": {
          "base_uri": "https://localhost:8080/",
          "height": 1000
        }
      },
      "source": [
        "runAllQuestionsByTopic(topic_area, 'What do we know about diagnostics and surveillance?')"
      ],
      "execution_count": 35,
      "outputs": [
        {
          "output_type": "stream",
          "text": [
            " 20%|██        | 2/10 [00:00<00:00,  9.65it/s]Token indices sequence length is longer than the specified maximum sequence length for this model (527 > 512). Running this sequence through the model will result in indexing errors\n",
            "100%|██████████| 10/10 [00:00<00:00, 12.90it/s]\n"
          ],
          "name": "stderr"
        },
        {
          "output_type": "display_data",
          "data": {
            "text/html": [
              "<div style=\"font-family: Times New Roman; font-size: 28px; padding-bottom:28px\"><b>Query</b>: What diagnostic tests (tools) exist or are being developed to detect 2019-nCoV</div>"
            ],
            "text/plain": [
              "<IPython.core.display.HTML object>"
            ]
          },
          "metadata": {
            "tags": []
          }
        },
        {
          "output_type": "stream",
          "text": [
            "Truncation was not explicitely activated but `max_length` is provided a specific value, please use `truncation=True` to explicitely truncate examples to max length. Defaulting to 'longest_first' truncation strategy. If you encode pairs of sequences (GLUE-style) with the tokenizer you can select this strategy more precisely by providing a specific strategy to `truncation`.\n"
          ],
          "name": "stderr"
        },
        {
          "output_type": "display_data",
          "data": {
            "text/html": [
              "<div style=\"font-family: Times New Roman; font-size: 18px; margin-bottom:1pt\"><b>BART Abstractive Summary:</b>:  diagnostic test based on real-time reverse transcription polymerase chain reaction assay (qrt-pcr) was the main means of confirmation, and sample collection was mostly throat swabs. serological assays as well as point-of-care testing kits have not been developed but are likely in the near future.</div>"
            ],
            "text/plain": [
              "<IPython.core.display.HTML object>"
            ]
          },
          "metadata": {
            "tags": []
          }
        },
        {
          "output_type": "display_data",
          "data": {
            "text/html": [
              "<div style=\"font-family: Times New Roman; font-size: 12px; padding-bottom:12px; color:#CCCC00; margin-top:1pt\"> Warning this is an autogenerated summary based on semantic search of abstracts, always examine the sources before accepting this conclusion.  If the evidence only mentions topic in passing or the evidence is not clear, the summary will likely not clearly answer the question.</div>"
            ],
            "text/plain": [
              "<IPython.core.display.HTML object>"
            ]
          },
          "metadata": {
            "tags": []
          }
        },
        {
          "output_type": "display_data",
          "data": {
            "text/html": [
              "<table border=\"1\" class=\"dataframe\">\n",
              "  <thead>\n",
              "    <tr style=\"text-align: right;\">\n",
              "      <th></th>\n",
              "      <th>Lucene ID</th>\n",
              "      <th>BERT-SQuAD Answer with Highlights</th>\n",
              "      <th>Confidence</th>\n",
              "      <th>Title/Link</th>\n",
              "      <th>PDF Link</th>\n",
              "    </tr>\n",
              "  </thead>\n",
              "  <tbody>\n",
              "    <tr>\n",
              "      <th>0</th>\n",
              "      <td>8gncbgot</td>\n",
              "      <td><div> however,  <font color='red'>serological assays as well as point-of-care testing kits</font>  have not been developed but are likely in the near future.</div></td>\n",
              "      <td>0.566219</td>\n",
              "      <td><a href=\"https://doi.org/10.3390/jcm9030623\" target=\"_blank\">Potential Rapid Diagnostics, Vaccine and Therapeutics for 2019 Novel Coronavirus (2019-nCoV): A Systematic Review</a></td>\n",
              "      <td>Not Available</td>\n",
              "    </tr>\n",
              "    <tr>\n",
              "      <th>1</th>\n",
              "      <td>z4u017sa</td>\n",
              "      <td><div> diagnostic test based  <font color='red'>on real-time reverse transcription polymerase chain reaction assay</font>  (qrt-pcr) was the main means of confirmation, and sample collection was mostly throat swabs, which was easy to miss the diagnosis.</div></td>\n",
              "      <td>0.556754</td>\n",
              "      <td><a href=\"https://doi.org/10.1101/2020.02.21.20026187\" target=\"_blank\">Comparison of throat swabs and sputum specimens for viral nucleic acid detection in 52 cases of novel coronavirus (SARS-Cov-2) infected pneumonia (COVID-19)</a></td>\n",
              "      <td>Not Available</td>\n",
              "    </tr>\n",
              "    <tr>\n",
              "      <th>2</th>\n",
              "      <td>j6y806qu</td>\n",
              "      <td><div> here we  <font color='red'>use computational tools from structural biology and machine learning</font>  to identify 2019-ncov t-cell and b-cell epitopes based on viral protein antigen presentation and antibody binding properties.</div></td>\n",
              "      <td>0.539724</td>\n",
              "      <td><a href=\"https://doi.org/10.1101/2020.02.19.955484\" target=\"_blank\">Potential T-cell and B-cell Epitopes of 2019-nCoV</a></td>\n",
              "      <td>Not Available</td>\n",
              "    </tr>\n",
              "    <tr>\n",
              "      <th>3</th>\n",
              "      <td>gxstlzuk</td>\n",
              "      <td><div> the tool also allows tracking of new viral mutations as the outbreak expands globally, which may help to accelerate the development  <font color='red'>of novel diagnostics, drugs and vaccines</font> .</div></td>\n",
              "      <td>0.518947</td>\n",
              "      <td><a href=\"https://doi.org/10.1101/2020.01.31.928796\" target=\"_blank\">Genome Detective Coronavirus Typing Tool for rapid identification and characterization of novel coronavirus genomes</a></td>\n",
              "      <td>Not Available</td>\n",
              "    </tr>\n",
              "    <tr>\n",
              "      <th>4</th>\n",
              "      <td>8p1agcm2</td>\n",
              "      <td><div>effective countermeasures against the recent emergence and rapid expansion of the 2019-novel coronavirus (2019-ncov) require the development  <font color='red'>of data and tools to understand and monitor viral spread and immune responses. however, little information about the targets of immune responses to 2019-ncov is available. we used the immune epitope database and analysis resource (iedb) resource to catalog available data related to other coronaviruses, including sars-cov, which has high sequence similarity to 2019-ncov, and is the best-characterized coronavirus in terms of epitope responses. we identified multiple specific regions in 2019-ncov that have high homology to sars virus. parallel bionformatic predictions identified a priori potential b and t cell epitopes for 2019-ncov. the independent identification of the same regions using two approaches reflects the high probability that these regions are targets for immune recognition of 2019-ncov. we identified potential targets for immune responses to 2019-ncov and provide essential information for understanding human immune responses to this virus and evaluation of diagnostic and vaccine candidates</font> .</div></td>\n",
              "      <td>0.492796</td>\n",
              "      <td><a href=\"https://doi.org/10.1101/2020.02.12.946087\" target=\"_blank\">Candidate targets for immune responses to 2019-Novel Coronavirus (nCoV): sequence homology- and bioinformatic-based predictions</a></td>\n",
              "      <td>Not Available</td>\n",
              "    </tr>\n",
              "    <tr>\n",
              "      <th>5</th>\n",
              "      <td>s7uqawbd</td>\n",
              "      <td><div> the accuracy, simplicity and versatility of the new developed method suggests  <font color='red'>that ilaco assays can be conveniently applied with for 2019-ncov threat control, even in those cases where specialized molecular biology equipment is not available</font> .</div></td>\n",
              "      <td>0.481791</td>\n",
              "      <td><a href=\"https://doi.org/10.1101/2020.02.20.20025874\" target=\"_blank\">Rapid colorimetric detection of COVID-19 coronavirus using a reverse tran-scriptional loop-mediated isothermal amplification (RT-LAMP) diagnostic plat-form: iLACO</a></td>\n",
              "      <td>Not Available</td>\n",
              "    </tr>\n",
              "  </tbody>\n",
              "</table>"
            ],
            "text/plain": [
              "<IPython.core.display.HTML object>"
            ]
          },
          "metadata": {
            "tags": []
          }
        },
        {
          "output_type": "stream",
          "text": [
            " 60%|██████    | 6/10 [00:00<00:00, 15.66it/s]Token indices sequence length is longer than the specified maximum sequence length for this model (528 > 512). Running this sequence through the model will result in indexing errors\n",
            "100%|██████████| 10/10 [00:00<00:00, 13.05it/s]\n"
          ],
          "name": "stderr"
        },
        {
          "output_type": "display_data",
          "data": {
            "text/html": [
              "<div style=\"font-family: Times New Roman; font-size: 28px; padding-bottom:28px\"><b>Query</b>: What is being done to increase testing capacity or throughput</div>"
            ],
            "text/plain": [
              "<IPython.core.display.HTML object>"
            ]
          },
          "metadata": {
            "tags": []
          }
        },
        {
          "output_type": "stream",
          "text": [
            "Truncation was not explicitely activated but `max_length` is provided a specific value, please use `truncation=True` to explicitely truncate examples to max length. Defaulting to 'longest_first' truncation strategy. If you encode pairs of sequences (GLUE-style) with the tokenizer you can select this strategy more precisely by providing a specific strategy to `truncation`.\n"
          ],
          "name": "stderr"
        },
        {
          "output_type": "display_data",
          "data": {
            "text/html": [
              "<div style=\"font-family: Times New Roman; font-size: 18px; margin-bottom:1pt\"><b>BART Abstractive Summary:</b>: validations of these protocols are considered a key knowledge gap for covid-19, especially if executed in a high throughput format. this assay can be used to increase capacity for  we also adapted a colorimetric detection method for our rt-lamp assay so that the tests potentially performed in higher throughput.</div>"
            ],
            "text/plain": [
              "<IPython.core.display.HTML object>"
            ]
          },
          "metadata": {
            "tags": []
          }
        },
        {
          "output_type": "display_data",
          "data": {
            "text/html": [
              "<div style=\"font-family: Times New Roman; font-size: 12px; padding-bottom:12px; color:#CCCC00; margin-top:1pt\"> Warning this is an autogenerated summary based on semantic search of abstracts, always examine the sources before accepting this conclusion.  If the evidence only mentions topic in passing or the evidence is not clear, the summary will likely not clearly answer the question.</div>"
            ],
            "text/plain": [
              "<IPython.core.display.HTML object>"
            ]
          },
          "metadata": {
            "tags": []
          }
        },
        {
          "output_type": "display_data",
          "data": {
            "text/html": [
              "<table border=\"1\" class=\"dataframe\">\n",
              "  <thead>\n",
              "    <tr style=\"text-align: right;\">\n",
              "      <th></th>\n",
              "      <th>Lucene ID</th>\n",
              "      <th>BERT-SQuAD Answer with Highlights</th>\n",
              "      <th>Confidence</th>\n",
              "      <th>Title/Link</th>\n",
              "      <th>PDF Link</th>\n",
              "    </tr>\n",
              "  </thead>\n",
              "  <tbody>\n",
              "    <tr>\n",
              "      <th>0</th>\n",
              "      <td>kv77pw7y</td>\n",
              "      <td><div> validations of these protocols are considered a key knowledge gap for covid-19, especially if executed in  <font color='red'>a high throughput</font>  format.</div></td>\n",
              "      <td>0.519794</td>\n",
              "      <td><a href=\"https://doi.org/10.1101/2020.03.07.20032326\" target=\"_blank\">Analytical sensibility and specificity of two RT-qPCR protocols for SARS-CoV-2 detection performed in an automated workflow</a></td>\n",
              "      <td>Not Available</td>\n",
              "    </tr>\n",
              "    <tr>\n",
              "      <th>1</th>\n",
              "      <td>r34d0rx7</td>\n",
              "      <td><div> this assay can be used  <font color='red'>to increase capacity</font>  for</div></td>\n",
              "      <td>0.503471</td>\n",
              "      <td><a href=\"https://doi.org/10.1101/2020.04.06.028316\" target=\"_blank\">Extraction-free COVID-19 (SARS-CoV-2) diagnosis by RT-PCR to increase capacity for national testing programmes during a pandemic</a></td>\n",
              "      <td>Not Available</td>\n",
              "    </tr>\n",
              "    <tr>\n",
              "      <th>2</th>\n",
              "      <td>1qn5y4gc</td>\n",
              "      <td><div> we also adapted a colorimetric detection method for our rt-lamp assay so that the tests potentially performed in  <font color='red'>higher throughput</font> .</div></td>\n",
              "      <td>0.479624</td>\n",
              "      <td><a href=\"https://doi.org/10.1101/2020.03.09.983064\" target=\"_blank\">Development of Reverse Transcription Loop-mediated Isothermal Amplification (RT-LAMP) Assays Targeting SARS-CoV-2</a></td>\n",
              "      <td>Not Available</td>\n",
              "    </tr>\n",
              "    <tr>\n",
              "      <th>3</th>\n",
              "      <td>blax9sz2</td>\n",
              "      <td><div> we  <font color='red'>also adapted a colorimetric detection method for our rt-lamp assay so that the tests 40 potentially performed in higher throughput</font> .</div></td>\n",
              "      <td>0.476004</td>\n",
              "      <td><a href=\"https://doi.org/10.1016/j.jmoldx.2020.03.006\" target=\"_blank\">Development of Reverse Transcription Loop-mediated Isothermal Amplification (RT-LAMP) Assays Targeting SARS-CoV-2</a></td>\n",
              "      <td>Not Available</td>\n",
              "    </tr>\n",
              "    <tr>\n",
              "      <th>4</th>\n",
              "      <td>we62087x</td>\n",
              "      <td><div> however,  <font color='red'>testing capacity (having sufficient tests and laboratory throughput</font> ) to support these non-pharmaceutical interventions remains a challenge for containment and mitigation of covid-19 infections.</div></td>\n",
              "      <td>0.426399</td>\n",
              "      <td><a href=\"https://doi.org/10.1101/2020.03.17.20037648\" target=\"_blank\">Sentinel Event Surveillance to Estimate Total SARS-CoV-2 Infections, United States</a></td>\n",
              "      <td>Not Available</td>\n",
              "    </tr>\n",
              "    <tr>\n",
              "      <th>5</th>\n",
              "      <td>ekc1tkyt</td>\n",
              "      <td><div>  <font color='red'>the cdc also initially limited access to testing to a narrow group of individuals with known exposure</font> .</div></td>\n",
              "      <td>0.328096</td>\n",
              "      <td><a href=\"https://doi.org/10.1001/jama.2020.3864\" target=\"_blank\">Diagnostic Testing for the Novel Coronavirus</a></td>\n",
              "      <td>Not Available</td>\n",
              "    </tr>\n",
              "    <tr>\n",
              "      <th>6</th>\n",
              "      <td>gs0apie5</td>\n",
              "      <td><div> if not, nucleic acid detection (one or more times) is performed, and in extreme cases,  <font color='red'>high-throughput viral genome sequencing</font>  is performed.</div></td>\n",
              "      <td>0.315322</td>\n",
              "      <td><a href=\"https://doi.org/10.1101/2020.04.07.20053660\" target=\"_blank\">Optimize Clinical Laboratory Diagnosis of COVID-19 from Suspect Cases by Likelihood Ratio of SARS-CoV-2 IgM and IgG antibody</a></td>\n",
              "      <td>Not Available</td>\n",
              "    </tr>\n",
              "  </tbody>\n",
              "</table>"
            ],
            "text/plain": [
              "<IPython.core.display.HTML object>"
            ]
          },
          "metadata": {
            "tags": []
          }
        },
        {
          "output_type": "stream",
          "text": [
            " 30%|███       | 3/10 [00:00<00:00, 17.09it/s]Token indices sequence length is longer than the specified maximum sequence length for this model (729 > 512). Running this sequence through the model will result in indexing errors\n",
            "100%|██████████| 10/10 [00:00<00:00, 12.87it/s]\n"
          ],
          "name": "stderr"
        },
        {
          "output_type": "display_data",
          "data": {
            "text/html": [
              "<div style=\"font-family: Times New Roman; font-size: 28px; padding-bottom:28px\"><b>Query</b>: What point of care tests are exist or are being developed</div>"
            ],
            "text/plain": [
              "<IPython.core.display.HTML object>"
            ]
          },
          "metadata": {
            "tags": []
          }
        },
        {
          "output_type": "stream",
          "text": [
            "Truncation was not explicitely activated but `max_length` is provided a specific value, please use `truncation=True` to explicitely truncate examples to max length. Defaulting to 'longest_first' truncation strategy. If you encode pairs of sequences (GLUE-style) with the tokenizer you can select this strategy more precisely by providing a specific strategy to `truncation`.\n"
          ],
          "name": "stderr"
        },
        {
          "output_type": "display_data",
          "data": {
            "text/html": [
              "<div style=\"font-family: Times New Roman; font-size: 18px; margin-bottom:1pt\"><b>BART Abstractive Summary:</b>: Serological assays as well as point-of-care testing kits have not been developed but are likely in the near future. however, serological assays are expected to be available within the next few years. In the U.S. they are currently being trialled at the University of California, Los Angeles.</div>"
            ],
            "text/plain": [
              "<IPython.core.display.HTML object>"
            ]
          },
          "metadata": {
            "tags": []
          }
        },
        {
          "output_type": "display_data",
          "data": {
            "text/html": [
              "<div style=\"font-family: Times New Roman; font-size: 12px; padding-bottom:12px; color:#CCCC00; margin-top:1pt\"> Warning this is an autogenerated summary based on semantic search of abstracts, always examine the sources before accepting this conclusion.  If the evidence only mentions topic in passing or the evidence is not clear, the summary will likely not clearly answer the question.</div>"
            ],
            "text/plain": [
              "<IPython.core.display.HTML object>"
            ]
          },
          "metadata": {
            "tags": []
          }
        },
        {
          "output_type": "display_data",
          "data": {
            "text/html": [
              "<table border=\"1\" class=\"dataframe\">\n",
              "  <thead>\n",
              "    <tr style=\"text-align: right;\">\n",
              "      <th></th>\n",
              "      <th>Lucene ID</th>\n",
              "      <th>BERT-SQuAD Answer with Highlights</th>\n",
              "      <th>Confidence</th>\n",
              "      <th>Title/Link</th>\n",
              "      <th>PDF Link</th>\n",
              "    </tr>\n",
              "  </thead>\n",
              "  <tbody>\n",
              "    <tr>\n",
              "      <th>0</th>\n",
              "      <td>8gncbgot</td>\n",
              "      <td><div> however, serological assays as well as point-of-care  <font color='red'>testing kits have not been developed but are likely in the near future</font> .</div></td>\n",
              "      <td>0.536621</td>\n",
              "      <td><a href=\"https://doi.org/10.3390/jcm9030623\" target=\"_blank\">Potential Rapid Diagnostics, Vaccine and Therapeutics for 2019 Novel Coronavirus (2019-nCoV): A Systematic Review</a></td>\n",
              "      <td>Not Available</td>\n",
              "    </tr>\n",
              "  </tbody>\n",
              "</table>"
            ],
            "text/plain": [
              "<IPython.core.display.HTML object>"
            ]
          },
          "metadata": {
            "tags": []
          }
        },
        {
          "output_type": "stream",
          "text": [
            " 20%|██        | 2/10 [00:00<00:00, 12.62it/s]Token indices sequence length is longer than the specified maximum sequence length for this model (674 > 512). Running this sequence through the model will result in indexing errors\n",
            " 40%|████      | 4/10 [00:00<00:00, 11.52it/s]Token indices sequence length is longer than the specified maximum sequence length for this model (561 > 512). Running this sequence through the model will result in indexing errors\n",
            "100%|██████████| 10/10 [00:01<00:00,  9.69it/s]\n"
          ],
          "name": "stderr"
        },
        {
          "output_type": "display_data",
          "data": {
            "text/html": [
              "<div style=\"font-family: Times New Roman; font-size: 28px; padding-bottom:28px\"><b>Query</b>: What is the minimum viral load for detection</div>"
            ],
            "text/plain": [
              "<IPython.core.display.HTML object>"
            ]
          },
          "metadata": {
            "tags": []
          }
        },
        {
          "output_type": "stream",
          "text": [
            "Truncation was not explicitely activated but `max_length` is provided a specific value, please use `truncation=True` to explicitely truncate examples to max length. Defaulting to 'longest_first' truncation strategy. If you encode pairs of sequences (GLUE-style) with the tokenizer you can select this strategy more precisely by providing a specific strategy to `truncation`.\n"
          ],
          "name": "stderr"
        },
        {
          "output_type": "display_data",
          "data": {
            "text/html": [
              "<div style=\"font-family: Times New Roman; font-size: 18px; margin-bottom:1pt\"><b>BART Abstractive Summary:</b>: The median viral load in posterior oropharyngeal saliva or other respiratory specimens at presentation was 5 · 2 log 10 copies per ml (iqr 4 · 1-7 · 0). reaction time varied from 15-40 minutes, depending on the loading of virus in the collected samples. reaction time varied between 15 and 40 minutes.</div>"
            ],
            "text/plain": [
              "<IPython.core.display.HTML object>"
            ]
          },
          "metadata": {
            "tags": []
          }
        },
        {
          "output_type": "display_data",
          "data": {
            "text/html": [
              "<div style=\"font-family: Times New Roman; font-size: 12px; padding-bottom:12px; color:#CCCC00; margin-top:1pt\"> Warning this is an autogenerated summary based on semantic search of abstracts, always examine the sources before accepting this conclusion.  If the evidence only mentions topic in passing or the evidence is not clear, the summary will likely not clearly answer the question.</div>"
            ],
            "text/plain": [
              "<IPython.core.display.HTML object>"
            ]
          },
          "metadata": {
            "tags": []
          }
        },
        {
          "output_type": "display_data",
          "data": {
            "text/html": [
              "<table border=\"1\" class=\"dataframe\">\n",
              "  <thead>\n",
              "    <tr style=\"text-align: right;\">\n",
              "      <th></th>\n",
              "      <th>Lucene ID</th>\n",
              "      <th>BERT-SQuAD Answer with Highlights</th>\n",
              "      <th>Confidence</th>\n",
              "      <th>Title/Link</th>\n",
              "      <th>PDF Link</th>\n",
              "    </tr>\n",
              "  </thead>\n",
              "  <tbody>\n",
              "    <tr>\n",
              "      <th>0</th>\n",
              "      <td>s7uqawbd</td>\n",
              "      <td><div> reaction time varied  <font color='red'>from 15-40 minutes, depending on the loading of virus in the collected samples</font> .</div></td>\n",
              "      <td>0.534625</td>\n",
              "      <td><a href=\"https://doi.org/10.1101/2020.02.20.20025874\" target=\"_blank\">Rapid colorimetric detection of COVID-19 coronavirus using a reverse tran-scriptional loop-mediated isothermal amplification (RT-LAMP) diagnostic plat-form: iLACO</a></td>\n",
              "      <td>Not Available</td>\n",
              "    </tr>\n",
              "    <tr>\n",
              "      <th>1</th>\n",
              "      <td>scc9wee0</td>\n",
              "      <td><div> the median viral load in posterior oropharyngeal saliva or other respiratory specimens at presentation  <font color='red'>was 5 · 2 log 10 copies per ml</font>  (iqr 4 · 1-7 · 0).</div></td>\n",
              "      <td>0.468597</td>\n",
              "      <td><a href=\"https://doi.org/10.1016/s1473-3099(20)30196-1\" target=\"_blank\">Temporal profiles of viral load in posterior oropharyngeal saliva samples and serum antibody responses during infection by SARS-CoV-2: an observational cohort study</a></td>\n",
              "      <td>Not Available</td>\n",
              "    </tr>\n",
              "  </tbody>\n",
              "</table>"
            ],
            "text/plain": [
              "<IPython.core.display.HTML object>"
            ]
          },
          "metadata": {
            "tags": []
          }
        },
        {
          "output_type": "stream",
          "text": [
            "100%|██████████| 10/10 [00:00<00:00, 19.23it/s]\n"
          ],
          "name": "stderr"
        },
        {
          "output_type": "display_data",
          "data": {
            "text/html": [
              "<div style=\"font-family: Times New Roman; font-size: 28px; padding-bottom:28px\"><b>Query</b>: What markers are used to detect or track COVID-19</div>"
            ],
            "text/plain": [
              "<IPython.core.display.HTML object>"
            ]
          },
          "metadata": {
            "tags": []
          }
        },
        {
          "output_type": "stream",
          "text": [
            "Truncation was not explicitely activated but `max_length` is provided a specific value, please use `truncation=True` to explicitely truncate examples to max length. Defaulting to 'longest_first' truncation strategy. If you encode pairs of sequences (GLUE-style) with the tokenizer you can select this strategy more precisely by providing a specific strategy to `truncation`.\n"
          ],
          "name": "stderr"
        },
        {
          "output_type": "display_data",
          "data": {
            "text/html": [
              "<div style=\"font-family: Times New Roman; font-size: 18px; margin-bottom:1pt\"><b>BART Abstractive Summary:</b>:  coronavirus disease 2019 and severe acute respiratory syndrome (sars)-related coronaviruses (e. g., 2019-ncov and sars-cov) are phylogenetically distantly related. Both are capable of infecting human hosts via the same receptor, angiotensin-converting enzyme 2, and cause similar clinical and pathological features. The molecular basis that underlies their phenotypic convergence remains unknown.</div>"
            ],
            "text/plain": [
              "<IPython.core.display.HTML object>"
            ]
          },
          "metadata": {
            "tags": []
          }
        },
        {
          "output_type": "display_data",
          "data": {
            "text/html": [
              "<div style=\"font-family: Times New Roman; font-size: 12px; padding-bottom:12px; color:#CCCC00; margin-top:1pt\"> Warning this is an autogenerated summary based on semantic search of abstracts, always examine the sources before accepting this conclusion.  If the evidence only mentions topic in passing or the evidence is not clear, the summary will likely not clearly answer the question.</div>"
            ],
            "text/plain": [
              "<IPython.core.display.HTML object>"
            ]
          },
          "metadata": {
            "tags": []
          }
        },
        {
          "output_type": "display_data",
          "data": {
            "text/html": [
              "<table border=\"1\" class=\"dataframe\">\n",
              "  <thead>\n",
              "    <tr style=\"text-align: right;\">\n",
              "      <th></th>\n",
              "      <th>Lucene ID</th>\n",
              "      <th>BERT-SQuAD Answer with Highlights</th>\n",
              "      <th>Confidence</th>\n",
              "      <th>Title/Link</th>\n",
              "      <th>PDF Link</th>\n",
              "    </tr>\n",
              "  </thead>\n",
              "  <tbody>\n",
              "    <tr>\n",
              "      <th>0</th>\n",
              "      <td>s7uqawbd</td>\n",
              "      <td><div> here we developed  <font color='red'>an isothermal lamp based method-ilaco (isothermal lamp based method for covid-19) to amplify a fragment of the orf1ab gene using 6 primers</font> .</div></td>\n",
              "      <td>0.249123</td>\n",
              "      <td><a href=\"https://doi.org/10.1101/2020.02.20.20025874\" target=\"_blank\">Rapid colorimetric detection of COVID-19 coronavirus using a reverse tran-scriptional loop-mediated isothermal amplification (RT-LAMP) diagnostic plat-form: iLACO</a></td>\n",
              "      <td>Not Available</td>\n",
              "    </tr>\n",
              "    <tr>\n",
              "      <th>1</th>\n",
              "      <td>rmia5w3x</td>\n",
              "      <td><div> <font color='red'>a word count for text</font>  : 2460 words all rights reserved.</div></td>\n",
              "      <td>0.174361</td>\n",
              "      <td><a href=\"https://doi.org/10.1101/2020.02.20.20025601\" target=\"_blank\">Clinical and pathological characteristics of 2019 novel coronavirus disease (COVID-19): a systematic review</a></td>\n",
              "      <td>Not Available</td>\n",
              "    </tr>\n",
              "    <tr>\n",
              "      <th>2</th>\n",
              "      <td>4ihv80au</td>\n",
              "      <td><div> <font color='red'>coronavirus disease 2019 and severe acute respiratory syndrome (sars)-related coronaviruses (e. g., 2019-ncov and sars-cov) are phylogenetically distantly related, but both are capable of infecting human hosts via the same receptor, angiotensin-converting enzyme 2, and cause similar clinical and pathological features, suggesting their phenotypic convergence. yet, the molecular basis that underlies their phenotypic convergence remains unknown. here, we used a recently developed molecular phyloecological approach to examine the molecular basis leading to their phenotypic convergence. our genome-level analyses show that the spike protein, which is responsible for receptor binding, has undergone significant darwinian selection along the branches related to 2019-ncov and sars-cov. further examination shows an unusually high proportion of evolutionary convergent amino acid sites in the receptor binding domain (rbd)</font>  of the spike protein between covid-19 and sars-related cov clades, leading to the phylogenetic uniting of their rbd protein sequences.</div></td>\n",
              "      <td>0.144832</td>\n",
              "      <td><a href=\"https://doi.org/10.1101/2020.03.04.975995\" target=\"_blank\">Strong evolutionary convergence of receptor-binding protein spike between COVID-19 and SARS-related coronaviruses</a></td>\n",
              "      <td>Not Available</td>\n",
              "    </tr>\n",
              "    <tr>\n",
              "      <th>3</th>\n",
              "      <td>awitk3se</td>\n",
              "      <td><div> <font color='red'>the world health organization (who) has issued a warning that, although the 2019 novel coronavirus (covid-19) from wuhan city (china), is not pandemic, it should be contained to prevent the global spread. the covid-19 virus was known earlier as 2019-ncov. as of 12 february 2020, who reported 45,171 cases and 1115 deaths related to covid-19. covid-19 is similar to severe acute respiratory syndrome coronavirus (sars-cov) virus in its pathogenicity, clinical spectrum, and epidemiology. comparison of the genome sequences of covid-19, sars-cov, and middle east respiratory syndrome coronavirus (mers-cov) showed that covid-19 has a better sequence identity with sars-cov compared to mers cov. however, the amino acid sequence of covid-19 differs from other coronaviruses specifically in the regions of 1ab polyprotein and surface glycoprotein or s-protein</font> .</div></td>\n",
              "      <td>0.130012</td>\n",
              "      <td><a href=\"https://doi.org/10.26355/eurrev_202002_20378\" target=\"_blank\">COVID-19 (Novel Coronavirus 2019) - recent trends</a></td>\n",
              "      <td>Not Available</td>\n",
              "    </tr>\n",
              "  </tbody>\n",
              "</table>"
            ],
            "text/plain": [
              "<IPython.core.display.HTML object>"
            ]
          },
          "metadata": {
            "tags": []
          }
        }
      ]
    },
    {
      "cell_type": "markdown",
      "metadata": {
        "id": "zISy9ikvsVf5"
      },
      "source": [
        "What has been published about ethical and social science considerations?"
      ]
    },
    {
      "cell_type": "code",
      "metadata": {
        "id": "usHiowSysV-D",
        "outputId": "f536f48e-5313-4a91-9b11-e5a78dbe8718",
        "colab": {
          "base_uri": "https://localhost:8080/",
          "height": 1000
        }
      },
      "source": [
        "runAllQuestionsByTopic(topic_area, 'What has been published about ethical and social science considerations?')"
      ],
      "execution_count": 36,
      "outputs": [
        {
          "output_type": "stream",
          "text": [
            " 50%|█████     | 5/10 [00:00<00:00,  9.73it/s]Token indices sequence length is longer than the specified maximum sequence length for this model (543 > 512). Running this sequence through the model will result in indexing errors\n",
            "100%|██████████| 10/10 [00:00<00:00, 11.85it/s]\n"
          ],
          "name": "stderr"
        },
        {
          "output_type": "display_data",
          "data": {
            "text/html": [
              "<div style=\"font-family: Times New Roman; font-size: 28px; padding-bottom:28px\"><b>Query</b>: What are the major ethical issues related pandemic outbreaks</div>"
            ],
            "text/plain": [
              "<IPython.core.display.HTML object>"
            ]
          },
          "metadata": {
            "tags": []
          }
        },
        {
          "output_type": "stream",
          "text": [
            "Truncation was not explicitely activated but `max_length` is provided a specific value, please use `truncation=True` to explicitely truncate examples to max length. Defaulting to 'longest_first' truncation strategy. If you encode pairs of sequences (GLUE-style) with the tokenizer you can select this strategy more precisely by providing a specific strategy to `truncation`.\n"
          ],
          "name": "stderr"
        },
        {
          "output_type": "display_data",
          "data": {
            "text/html": [
              "<div style=\"font-family: Times New Roman; font-size: 18px; margin-bottom:1pt\"><b>BART Abstractive Summary:</b>: The unprecedented outbreak of ebola virus disease (evd) in west africa has raised several novel ethical issues for global outbreak preparedness. We argue that, due in part to their focus on considerations arising specifically in relation to pandemics of influenza origin, pandemic plans are ill-equipped to anticipate and facilitate the navigation of unique ethical challenges that may arise in other infectious disease pandemics.</div>"
            ],
            "text/plain": [
              "<IPython.core.display.HTML object>"
            ]
          },
          "metadata": {
            "tags": []
          }
        },
        {
          "output_type": "display_data",
          "data": {
            "text/html": [
              "<div style=\"font-family: Times New Roman; font-size: 12px; padding-bottom:12px; color:#CCCC00; margin-top:1pt\"> Warning this is an autogenerated summary based on semantic search of abstracts, always examine the sources before accepting this conclusion.  If the evidence only mentions topic in passing or the evidence is not clear, the summary will likely not clearly answer the question.</div>"
            ],
            "text/plain": [
              "<IPython.core.display.HTML object>"
            ]
          },
          "metadata": {
            "tags": []
          }
        },
        {
          "output_type": "display_data",
          "data": {
            "text/html": [
              "<table border=\"1\" class=\"dataframe\">\n",
              "  <thead>\n",
              "    <tr style=\"text-align: right;\">\n",
              "      <th></th>\n",
              "      <th>Lucene ID</th>\n",
              "      <th>BERT-SQuAD Answer with Highlights</th>\n",
              "      <th>Confidence</th>\n",
              "      <th>Title/Link</th>\n",
              "      <th>PDF Link</th>\n",
              "    </tr>\n",
              "  </thead>\n",
              "  <tbody>\n",
              "    <tr>\n",
              "      <th>0</th>\n",
              "      <td>mgqm9311</td>\n",
              "      <td><div> existing pandemic ethics discussions have advocated to engage the public  <font color='red'>in scarcity dilemmas and attend the local contexts and cultural perspectives that shape responses to a global health threat. this public engagement study thus considers the role of community and culture in the ethical apportionment of scarce health resources</font> , specifically ventilators, during an influenza pandemic.</div></td>\n",
              "      <td>0.734881</td>\n",
              "      <td><a href=\"https://doi.org/10.2196/18272\" target=\"_blank\">Influence of Community and Culture in the Ethical Allocation of Scarce Medical Resources in a Pandemic Situation: Deliberative Democracy Study</a></td>\n",
              "      <td>Not Available</td>\n",
              "    </tr>\n",
              "    <tr>\n",
              "      <th>1</th>\n",
              "      <td>5f46aull</td>\n",
              "      <td><div> <font color='red'>the unprecedented outbreak of ebola virus disease (evd) in west africa has raised several novel ethical issues for global outbreak preparedness. it has also illustrated that familiar ethical issues in infectious disease management endure despite considerable efforts to understand and mitigate such issues in the wake of past outbreaks. to improve future global outbreak preparedness and response, we must examine these shortcomings and reflect upon the current state of ethical preparedness. to this end, we focus our efforts in this article on the examination of one substantial area : ethical guidance in pandemic plans. we argue that, due in part to their focus on considerations arising specifically in relation to pandemics of influenza origin, pandemic plans and their existing ethical guidance are ill-equipped to anticipate and facilitate the navigation of unique ethical challenges that may arise in other infectious disease pandemics. we proceed by outlining three reasons why this is so, and situate our analysis in the context of the evd outbreak and the threat posed by drug-resistant tuberculosis : (1) different infectious diseases have distinct characteristics that challenge anticipated or existing modes of pandemic prevention, preparedness, response, and recovery</font> , (2) clear, transparent, context-specific ethical reasoning and justification within current influenza pandemic plans are lacking, and (3) current plans neglect the context of how other significant pandemics may manifest.</div></td>\n",
              "      <td>0.710840</td>\n",
              "      <td><a href=\"https://doi.org/10.1007/s40592-015-0038-7\" target=\"_blank\">Ethics for pandemics beyond influenza: Ebola, drug-resistant tuberculosis, and anticipating future ethical challenges in pandemic preparedness and response</a></td>\n",
              "      <td>Not Available</td>\n",
              "    </tr>\n",
              "    <tr>\n",
              "      <th>2</th>\n",
              "      <td>qvklgp5t</td>\n",
              "      <td><div>this paper explains the ethical importance of infectious diseases, and reviews four major ethical issues associated with pandemic influenza  <font color='red'>: the obligation of individuals to avoid infecting others, healthcare workers ' ' duty to treat ', allocation of scarce resources, and coercive social distancing measures</font> .</div></td>\n",
              "      <td>0.659091</td>\n",
              "      <td><a href=\"https://doi.org/10.1016/j.puhe.2008.12.005\" target=\"_blank\">Pandethics</a></td>\n",
              "      <td>Not Available</td>\n",
              "    </tr>\n",
              "    <tr>\n",
              "      <th>3</th>\n",
              "      <td>jjb4k1um</td>\n",
              "      <td><div> also taken into consideration are such issues as  <font color='red'>the distribution of food and vaccines, quarantines, work stoppage, both physical and social infrastructure, the role of military and police forces, and the effect of a pandemic, isolation, and quarantine on various industries</font> .</div></td>\n",
              "      <td>0.655954</td>\n",
              "      <td><a href=\"https://doi.org/10.1007/978-1-4020-8617-5_13\" target=\"_blank\">Shaping Ethical Guidelines for an Influenza Pandemic</a></td>\n",
              "      <td>Not Available</td>\n",
              "    </tr>\n",
              "    <tr>\n",
              "      <th>4</th>\n",
              "      <td>58czem0j</td>\n",
              "      <td><div> summary : an honest and critical examination of the role of hcps during communicable disease outbreaks is needed in order to provide guidelines  <font color='red'>regarding professional rights and responsibilities, as well as ethical duties and obligations</font> .</div></td>\n",
              "      <td>0.618367</td>\n",
              "      <td><a href=\"https://doi.org/10.1186/1472-6939-7-5\" target=\"_blank\">On pandemics and the duty to care: whose duty? who cares?</a></td>\n",
              "      <td>Not Available</td>\n",
              "    </tr>\n",
              "    <tr>\n",
              "      <th>5</th>\n",
              "      <td>nfp1t3i4</td>\n",
              "      <td><div> we reviewed the  <font color='red'>important ethical challenges presented by pregnant women and highlighted the considerations for all vulnerable groups when planning for a pandemic</font>  at both the local and the national level.</div></td>\n",
              "      <td>0.583201</td>\n",
              "      <td><a href=\"https://doi.org/10.2105/ajph.2008.140780\" target=\"_blank\">Pandemic Influenza and Pregnancy: An Opportunity to Reassess Maternal Bioethics</a></td>\n",
              "      <td>Not Available</td>\n",
              "    </tr>\n",
              "    <tr>\n",
              "      <th>6</th>\n",
              "      <td>q63ce5pi</td>\n",
              "      <td><div> methods : online pandemic plans from national, provincial and territorial government websites were reviewed to identify : plans for children and families,  <font color='red'>and psychosocial and ethical issues. a survey was administered to gather participants ' perspectives on the needs in pediatric planning, as well as important elements of their organizations ' and regions ' pandemic plans. a thematic analysis was conducted on qualitative survey responses. results : the majority of existing plans did not adequately address the unique needs of pediatric populations, and mainly focused on medical and policy concerns. several gaps in plans were identified, including the need for psychosocial supports and ethical decision-making frameworks for children and families. similarly, survey respondents identified parallel gaps, in their organization ' s or region ' s plans. conclusions : although many plans provide guidelines for medical and policy issues in pediatrics, much more work remains in psychosocial and ethical planning</font> .</div></td>\n",
              "      <td>0.561495</td>\n",
              "      <td><a href=\"https://doi.org/10.1016/j.healthpol.2010.01.007\" target=\"_blank\">Pandemic planning in pediatric care: A website policy review and national survey data</a></td>\n",
              "      <td>Not Available</td>\n",
              "    </tr>\n",
              "    <tr>\n",
              "      <th>7</th>\n",
              "      <td>uvjriyx1</td>\n",
              "      <td><div> this study involved three townhall meetings held between february 2008 and may 2010 in three urban settings in canada in order to probe lay citizens ' views about ethical issues related to pandemic influenza,  <font color='red'>including issues surrounding the duty to care</font> .</div></td>\n",
              "      <td>0.492083</td>\n",
              "      <td><a href=\"https://doi.org/10.1016/j.socscimed.2012.09.021\" target=\"_blank\">The duty to care in an influenza pandemic: A qualitative study of Canadian public perspectives</a></td>\n",
              "      <td>Not Available</td>\n",
              "    </tr>\n",
              "    <tr>\n",
              "      <th>8</th>\n",
              "      <td>qwet3l4c</td>\n",
              "      <td><div> these  <font color='red'>include guidelines on allocation of scarce resources, the duties of healthcare workers, ethics-sensitive operational guidelines / protocols, and compensation programs</font> .</div></td>\n",
              "      <td>0.382154</td>\n",
              "      <td><a href=\"https://doi.org/10.1186/s12910-015-0025-9\" target=\"_blank\">Ethics-sensitivity of the Ghana national integrated strategic response plan for pandemic influenza</a></td>\n",
              "      <td>Not Available</td>\n",
              "    </tr>\n",
              "  </tbody>\n",
              "</table>"
            ],
            "text/plain": [
              "<IPython.core.display.HTML object>"
            ]
          },
          "metadata": {
            "tags": []
          }
        },
        {
          "output_type": "stream",
          "text": [
            " 20%|██        | 2/10 [00:00<00:00, 12.30it/s]Token indices sequence length is longer than the specified maximum sequence length for this model (693 > 512). Running this sequence through the model will result in indexing errors\n",
            "100%|██████████| 10/10 [00:00<00:00, 12.77it/s]\n"
          ],
          "name": "stderr"
        },
        {
          "output_type": "display_data",
          "data": {
            "text/html": [
              "<div style=\"font-family: Times New Roman; font-size: 28px; padding-bottom:28px\"><b>Query</b>: How do pandemics affect the physical and/or psychological health of doctors and nurses</div>"
            ],
            "text/plain": [
              "<IPython.core.display.HTML object>"
            ]
          },
          "metadata": {
            "tags": []
          }
        },
        {
          "output_type": "stream",
          "text": [
            "Truncation was not explicitely activated but `max_length` is provided a specific value, please use `truncation=True` to explicitely truncate examples to max length. Defaulting to 'longest_first' truncation strategy. If you encode pairs of sequences (GLUE-style) with the tokenizer you can select this strategy more precisely by providing a specific strategy to `truncation`.\n"
          ],
          "name": "stderr"
        },
        {
          "output_type": "display_data",
          "data": {
            "text/html": [
              "<div style=\"font-family: Times New Roman; font-size: 18px; margin-bottom:1pt\"><b>BART Abstractive Summary:</b>: Doctors and nurses were encouraged to participate. to provide scientific basis for promoting the physical and psychological health of these staff members. during an epidemic outbreak. Positive and negative emotions of the front-line nurses interweaved and coexisted. to describe the psychological impact of severe acute respiratory syndrome (sars) on health care workers in a regional general hospital.</div>"
            ],
            "text/plain": [
              "<IPython.core.display.HTML object>"
            ]
          },
          "metadata": {
            "tags": []
          }
        },
        {
          "output_type": "display_data",
          "data": {
            "text/html": [
              "<div style=\"font-family: Times New Roman; font-size: 12px; padding-bottom:12px; color:#CCCC00; margin-top:1pt\"> Warning this is an autogenerated summary based on semantic search of abstracts, always examine the sources before accepting this conclusion.  If the evidence only mentions topic in passing or the evidence is not clear, the summary will likely not clearly answer the question.</div>"
            ],
            "text/plain": [
              "<IPython.core.display.HTML object>"
            ]
          },
          "metadata": {
            "tags": []
          }
        },
        {
          "output_type": "display_data",
          "data": {
            "text/html": [
              "<table border=\"1\" class=\"dataframe\">\n",
              "  <thead>\n",
              "    <tr style=\"text-align: right;\">\n",
              "      <th></th>\n",
              "      <th>Lucene ID</th>\n",
              "      <th>BERT-SQuAD Answer with Highlights</th>\n",
              "      <th>Confidence</th>\n",
              "      <th>Title/Link</th>\n",
              "      <th>PDF Link</th>\n",
              "    </tr>\n",
              "  </thead>\n",
              "  <tbody>\n",
              "    <tr>\n",
              "      <th>0</th>\n",
              "      <td>znuqdzdp</td>\n",
              "      <td><div>  <font color='red'>during an epidemic outbreak, positive and negative emotions of the front-line nurses interweaved and coexisted</font> .</div></td>\n",
              "      <td>0.662362</td>\n",
              "      <td><a href=\"https://doi.org/10.1016/j.ajic.2020.03.018\" target=\"_blank\">A Qualitative Study on the Psychological Experience of Caregivers of COVID-19 Patients</a></td>\n",
              "      <td>Not Available</td>\n",
              "    </tr>\n",
              "    <tr>\n",
              "      <th>1</th>\n",
              "      <td>i3r3ff3t</td>\n",
              "      <td><div>to describe  <font color='red'>the psychological impact of severe acute respiratory syndrome (sars) on health care workers in a regional general hospital 2 months post-outbreak. doctors and nurses were encouraged to participate</font> .</div></td>\n",
              "      <td>0.580093</td>\n",
              "      <td><a href=\"https://doi.org/10.1093/occmed/kqh027\" target=\"_blank\">Psychological impact of the 2003 severe acute respiratory syndrome outbreak on health care workers in a medium size regional general hospital in Singapore</a></td>\n",
              "      <td>Not Available</td>\n",
              "    </tr>\n",
              "    <tr>\n",
              "      <th>2</th>\n",
              "      <td>83p3sjja</td>\n",
              "      <td><div> this pandemic  <font color='red'>is raising the anxiety levels</font> .</div></td>\n",
              "      <td>0.412130</td>\n",
              "      <td><a href=\"https://doi.org/10.1101/2020.04.03.20043992\" target=\"_blank\">Anxiety, worry and perceived stress in the world due to the COVID-19 pandemic, March 2020. Preliminary results.</a></td>\n",
              "      <td>Not Available</td>\n",
              "    </tr>\n",
              "    <tr>\n",
              "      <th>3</th>\n",
              "      <td>sqdan91r</td>\n",
              "      <td><div>  <font color='red'>to provide scientific basis for promoting the physical and psychological health of these staff members</font> .</div></td>\n",
              "      <td>0.371556</td>\n",
              "      <td><a href=\"https://doi.org/10.1016/j.ijnss.2016.12.002\" target=\"_blank\">Prevalence and related factors of post-traumatic stress disorder among medical staff members exposed to H7N9 patients</a></td>\n",
              "      <td>Not Available</td>\n",
              "    </tr>\n",
              "  </tbody>\n",
              "</table>"
            ],
            "text/plain": [
              "<IPython.core.display.HTML object>"
            ]
          },
          "metadata": {
            "tags": []
          }
        },
        {
          "output_type": "stream",
          "text": [
            "100%|██████████| 10/10 [00:00<00:00, 12.74it/s]\n"
          ],
          "name": "stderr"
        },
        {
          "output_type": "display_data",
          "data": {
            "text/html": [
              "<div style=\"font-family: Times New Roman; font-size: 28px; padding-bottom:28px\"><b>Query</b>: What strategies can help doctors and nurses cope with stress in a pandemic</div>"
            ],
            "text/plain": [
              "<IPython.core.display.HTML object>"
            ]
          },
          "metadata": {
            "tags": []
          }
        },
        {
          "output_type": "stream",
          "text": [
            "Truncation was not explicitely activated but `max_length` is provided a specific value, please use `truncation=True` to explicitely truncate examples to max length. Defaulting to 'longest_first' truncation strategy. If you encode pairs of sequences (GLUE-style) with the tokenizer you can select this strategy more precisely by providing a specific strategy to `truncation`.\n"
          ],
          "name": "stderr"
        },
        {
          "output_type": "display_data",
          "data": {
            "text/html": [
              "<div style=\"font-family: Times New Roman; font-size: 18px; margin-bottom:1pt\"><b>BART Abstractive Summary:</b>: Covid-19 spreads quickly, is highly contagious, and can be fatal in severe cases. There are no specific medicines, it poses a huge threat to the life and health of nurses. More than 76,000 cases of covid-19 in china, causing more than 3,000 medical staff infections.</div>"
            ],
            "text/plain": [
              "<IPython.core.display.HTML object>"
            ]
          },
          "metadata": {
            "tags": []
          }
        },
        {
          "output_type": "display_data",
          "data": {
            "text/html": [
              "<div style=\"font-family: Times New Roman; font-size: 12px; padding-bottom:12px; color:#CCCC00; margin-top:1pt\"> Warning this is an autogenerated summary based on semantic search of abstracts, always examine the sources before accepting this conclusion.  If the evidence only mentions topic in passing or the evidence is not clear, the summary will likely not clearly answer the question.</div>"
            ],
            "text/plain": [
              "<IPython.core.display.HTML object>"
            ]
          },
          "metadata": {
            "tags": []
          }
        },
        {
          "output_type": "display_data",
          "data": {
            "text/html": [
              "<table border=\"1\" class=\"dataframe\">\n",
              "  <thead>\n",
              "    <tr style=\"text-align: right;\">\n",
              "      <th></th>\n",
              "      <th>Lucene ID</th>\n",
              "      <th>BERT-SQuAD Answer with Highlights</th>\n",
              "      <th>Confidence</th>\n",
              "      <th>Title/Link</th>\n",
              "      <th>PDF Link</th>\n",
              "    </tr>\n",
              "  </thead>\n",
              "  <tbody>\n",
              "    <tr>\n",
              "      <th>0</th>\n",
              "      <td>yj2jh694</td>\n",
              "      <td><div> <font color='red'>december 2019, there have been more than 76,000 cases of covid-19 in china, causing more than 3,000 medical staff infections. due to covid-19 spreads quickly, is highly contagious, and can be fatal in severe cases, and there are no specific medicines, it poses a huge threat to the life and health of nurses and has a large impact on their emotional responses and coping strategies</font> .</div></td>\n",
              "      <td>0.550984</td>\n",
              "      <td><a href=\"https://doi.org/10.1101/2020.03.05.20031898\" target=\"_blank\">Emotional responses and coping strategies of nurses and nursing college students during COVID-19 outbreak</a></td>\n",
              "      <td>Not Available</td>\n",
              "    </tr>\n",
              "    <tr>\n",
              "      <th>1</th>\n",
              "      <td>ezaoi7ip</td>\n",
              "      <td><div> this descriptive study, which was conducted from may to june 2003, intended to identify staff stress  <font color='red'>and coping strategies</font>  among a sars team of nursing staff during the outbreak.</div></td>\n",
              "      <td>0.549443</td>\n",
              "      <td><a href=\"https://doi.org/10.1016/j.genhosppsych.2005.04.007\" target=\"_blank\">Facing SARS: psychological impacts on SARS team nurses and psychiatric services in a Taiwan general hospital</a></td>\n",
              "      <td>Not Available</td>\n",
              "    </tr>\n",
              "    <tr>\n",
              "      <th>2</th>\n",
              "      <td>i3r3ff3t</td>\n",
              "      <td><div> the areas for coping strategies  <font color='red'>were clear directives / precautionary measures, ability to give feedback to / obtain support from management, support from supervisors / colleagues, support from the family, ability to talk to someone and religious convictions</font> .</div></td>\n",
              "      <td>0.469607</td>\n",
              "      <td><a href=\"https://doi.org/10.1093/occmed/kqh027\" target=\"_blank\">Psychological impact of the 2003 severe acute respiratory syndrome outbreak on health care workers in a medium size regional general hospital in Singapore</a></td>\n",
              "      <td>Not Available</td>\n",
              "    </tr>\n",
              "    <tr>\n",
              "      <th>3</th>\n",
              "      <td>juz9jnfk</td>\n",
              "      <td><div>  <font color='red'>[UNK] remdesivir, chloroquine, tocilizumab, and convalescent plasma may be effective</font> .</div></td>\n",
              "      <td>0.321703</td>\n",
              "      <td><a href=\"https://doi.org/10.1016/j.ijid.2020.03.071\" target=\"_blank\">Insight into 2019 novel coronavirus — an updated intrim review and lessons from SARS-CoV and MERS-CoV</a></td>\n",
              "      <td>Not Available</td>\n",
              "    </tr>\n",
              "    <tr>\n",
              "      <th>4</th>\n",
              "      <td>o0mhzx3g</td>\n",
              "      <td><div> plusieurs initiatives ont ete prises pour assurer la continuite des soins et contenir l ' epidemie : creation en psychiatrie d ' unite covid + co-supervisee par des medecins generalistes ou internistes, restriction des consultations aux cas severes et redeploiement des soins en teleconsultation, accompagnement de type case-management pour les sorties precoces ou page 3 of 21 j o u r n a l p r e-p r o o f  <font color='red'>3 management and coping strategies</font> , prevention of addictions, etc.</div></td>\n",
              "      <td>0.310483</td>\n",
              "      <td><a href=\"https://doi.org/10.1016/j.encep.2020.03.001\" target=\"_blank\">Assurer les soins aux patients souffrant de troubles psychiques en France pendant l’épidémie à SARS-CoV-2</a></td>\n",
              "      <td>Not Available</td>\n",
              "    </tr>\n",
              "    <tr>\n",
              "      <th>5</th>\n",
              "      <td>znuqdzdp</td>\n",
              "      <td><div> secondly,  <font color='red'>self-coping styles included psychological and life adjustment, altruistic acts, team support, and rational cognition</font> .</div></td>\n",
              "      <td>0.194644</td>\n",
              "      <td><a href=\"https://doi.org/10.1016/j.ajic.2020.03.018\" target=\"_blank\">A Qualitative Study on the Psychological Experience of Caregivers of COVID-19 Patients</a></td>\n",
              "      <td>Not Available</td>\n",
              "    </tr>\n",
              "  </tbody>\n",
              "</table>"
            ],
            "text/plain": [
              "<IPython.core.display.HTML object>"
            ]
          },
          "metadata": {
            "tags": []
          }
        },
        {
          "output_type": "stream",
          "text": [
            "  0%|          | 0/10 [00:00<?, ?it/s]Token indices sequence length is longer than the specified maximum sequence length for this model (730 > 512). Running this sequence through the model will result in indexing errors\n",
            "100%|██████████| 10/10 [00:00<00:00, 19.84it/s]\n"
          ],
          "name": "stderr"
        },
        {
          "output_type": "display_data",
          "data": {
            "text/html": [
              "<div style=\"font-family: Times New Roman; font-size: 28px; padding-bottom:28px\"><b>Query</b>: What factors contribute to rumors and misinformation</div>"
            ],
            "text/plain": [
              "<IPython.core.display.HTML object>"
            ]
          },
          "metadata": {
            "tags": []
          }
        },
        {
          "output_type": "stream",
          "text": [
            "Truncation was not explicitely activated but `max_length` is provided a specific value, please use `truncation=True` to explicitely truncate examples to max length. Defaulting to 'longest_first' truncation strategy. If you encode pairs of sequences (GLUE-style) with the tokenizer you can select this strategy more precisely by providing a specific strategy to `truncation`.\n"
          ],
          "name": "stderr"
        },
        {
          "output_type": "display_data",
          "data": {
            "text/html": [
              "<div style=\"font-family: Times New Roman; font-size: 18px; margin-bottom:1pt\"><b>BART Abstractive Summary:</b>: We explore the social aspects of this crisis and highlight the impact of misinformation circulating on social media. given that the covid-19 event is recent and its potential impact on longer term global movement of people and resources have yet to be seen. sylvie briand, director of infectious hazards management at who's health emergencies programme and architect of who's strategy to counter the infodemic risk.</div>"
            ],
            "text/plain": [
              "<IPython.core.display.HTML object>"
            ]
          },
          "metadata": {
            "tags": []
          }
        },
        {
          "output_type": "display_data",
          "data": {
            "text/html": [
              "<div style=\"font-family: Times New Roman; font-size: 12px; padding-bottom:12px; color:#CCCC00; margin-top:1pt\"> Warning this is an autogenerated summary based on semantic search of abstracts, always examine the sources before accepting this conclusion.  If the evidence only mentions topic in passing or the evidence is not clear, the summary will likely not clearly answer the question.</div>"
            ],
            "text/plain": [
              "<IPython.core.display.HTML object>"
            ]
          },
          "metadata": {
            "tags": []
          }
        },
        {
          "output_type": "display_data",
          "data": {
            "text/html": [
              "<table border=\"1\" class=\"dataframe\">\n",
              "  <thead>\n",
              "    <tr style=\"text-align: right;\">\n",
              "      <th></th>\n",
              "      <th>Lucene ID</th>\n",
              "      <th>BERT-SQuAD Answer with Highlights</th>\n",
              "      <th>Confidence</th>\n",
              "      <th>Title/Link</th>\n",
              "      <th>PDF Link</th>\n",
              "    </tr>\n",
              "  </thead>\n",
              "  <tbody>\n",
              "    <tr>\n",
              "      <th>0</th>\n",
              "      <td>ghcbttba</td>\n",
              "      <td><div> given that the covid-19 event is recent and its potential impact on longer term global movement of people and resources have yet to be seen, we explore the social aspects of this crisis and highlight the impact of misinformation circulating  <font color='red'>on social media</font> .</div></td>\n",
              "      <td>0.342299</td>\n",
              "      <td><a href=\"https://doi.org/10.1080/10382046.2020.1730095\" target=\"_blank\">What does “crisis” education look like?</a></td>\n",
              "      <td>Not Available</td>\n",
              "    </tr>\n",
              "    <tr>\n",
              "      <th>1</th>\n",
              "      <td>kyri2hny</td>\n",
              "      <td><div> sylvie briand, director of infectious hazards management at who ' s health emergencies programme and architect of who ' s strategy to counter the infodemic risk, told the lancet, “ we know that every outbreak will be accompanied by a kind of tsunami of information, but also within this information you always  <font color='red'>have misinformation, rumours, etc.</font>  we know that even in the middle ages there was this phenomenon ”.</div></td>\n",
              "      <td>0.213188</td>\n",
              "      <td><a href=\"https://doi.org/10.1016/s0140-6736(20)30461-x\" target=\"_blank\">How to fight an infodemic</a></td>\n",
              "      <td>Not Available</td>\n",
              "    </tr>\n",
              "  </tbody>\n",
              "</table>"
            ],
            "text/plain": [
              "<IPython.core.display.HTML object>"
            ]
          },
          "metadata": {
            "tags": []
          }
        }
      ]
    }
  ]
}